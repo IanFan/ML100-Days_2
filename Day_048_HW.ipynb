{
 "cells": [
  {
   "cell_type": "code",
   "execution_count": 2,
   "metadata": {},
   "outputs": [],
   "source": [
    "from sklearn import datasets, linear_model, metrics\n",
    "from sklearn.metrics import mean_squared_error, r2_score, accuracy_score\n",
    "from sklearn.model_selection import train_test_split, KFold, GridSearchCV\n",
    "from sklearn.preprocessing import OneHotEncoder, LabelEncoder\n",
    "from sklearn.tree import DecisionTreeClassifier, DecisionTreeRegressor, export_graphviz\n",
    "from sklearn.ensemble import RandomForestClassifier, RandomForestRegressor, GradientBoostingClassifier, GradientBoostingRegressor\n",
    "from IPython.display import Image\n",
    "import pydotplus \n",
    "import numpy as np\n",
    "import matplotlib.pyplot as plt\n",
    "import pandas as pd"
   ]
  },
  {
   "cell_type": "code",
   "execution_count": 42,
   "metadata": {},
   "outputs": [],
   "source": [
    "X_train = pd.read_csv('./Day_048/train.csv', header=None)\n",
    "Y_train = pd.read_csv('./Day_048/trainLabels.csv', header=None)\n",
    "\n",
    "X_test = pd.read_csv('./Day_048/test.csv', header=None)"
   ]
  },
  {
   "cell_type": "code",
   "execution_count": 43,
   "metadata": {},
   "outputs": [
    {
     "name": "stdout",
     "output_type": "stream",
     "text": [
      "         0         1         2         3         4         5         6   \\\n",
      "0  2.808909 -0.242894 -0.546421  0.255162  1.749736 -0.030458 -1.322071   \n",
      "1 -0.374101  0.537669  0.081063  0.756773  0.915231  2.557282  3.703187   \n",
      "2 -0.088370  0.154743  0.380716 -1.176126  1.699867 -0.258627 -1.384999   \n",
      "3 -0.685635  0.501283  1.873375  0.215224 -3.983468 -0.103637  4.136113   \n",
      "4  0.350867  0.721897 -0.477104 -1.748776 -2.627405  1.075433  4.954253   \n",
      "\n",
      "         7         8         9     ...           30        31        32  \\\n",
      "0  3.578071 -0.667578 -0.884257    ...    -0.261688 -0.224375 -1.675606   \n",
      "1  1.673835 -0.764122 -1.228040    ...    -0.969463  0.574154 -2.200519   \n",
      "2  1.093584  1.596633  0.230631    ...    -0.769885 -0.005143  1.467490   \n",
      "3 -0.225431 -1.515015 -1.071763    ...     0.968609  2.386412 -0.131219   \n",
      "4 -3.293501 -0.760369  0.204360    ...     0.260553 -2.045650 -2.173227   \n",
      "\n",
      "         33        34        35        36        37        38        39  \n",
      "0 -0.479584 -0.244388 -0.672355  0.517860  0.010665 -0.419214  2.818387  \n",
      "1 -1.612240  0.179031 -2.924596  0.643610 -1.470939 -0.067408 -0.976265  \n",
      "2  0.483803 -3.542981  0.814561 -1.652948  1.265866 -1.749248  1.773784  \n",
      "3  0.285646  2.302069  1.255588 -1.563090 -0.125258 -1.030761 -2.945329  \n",
      "4  0.372992  0.450700 -0.211657  1.301359 -0.522164  2.484883  0.039213  \n",
      "\n",
      "[5 rows x 40 columns]\n"
     ]
    }
   ],
   "source": [
    "print(X_test.head())"
   ]
  },
  {
   "cell_type": "code",
   "execution_count": 44,
   "metadata": {},
   "outputs": [
    {
     "name": "stdout",
     "output_type": "stream",
     "text": [
      "1000\n",
      "1000\n",
      "9000\n"
     ]
    }
   ],
   "source": [
    "print(len(X_train.index))\n",
    "print(len(Y_train.index))\n",
    "print(len(X_test.index))"
   ]
  },
  {
   "cell_type": "code",
   "execution_count": 45,
   "metadata": {},
   "outputs": [
    {
     "name": "stderr",
     "output_type": "stream",
     "text": [
      "/Users/ianfan/anaconda3/envs/spinningup/lib/python3.6/site-packages/sklearn/utils/validation.py:761: DataConversionWarning: A column-vector y was passed when a 1d array was expected. Please change the shape of y to (n_samples, ), for example using ravel().\n",
      "  y = column_or_1d(y, warn=True)\n"
     ]
    },
    {
     "name": "stdout",
     "output_type": "stream",
     "text": [
      "GradientBoostingClassifier:\n",
      "tree score: 0.87\n",
      "r2_score: 0.48\n",
      "accuracy_score: 0.87\n",
      "Feature importance: \n",
      " [1.37347034e-03 2.34417273e-03 4.52329406e-03 5.76059393e-03\n",
      " 4.94163582e-02 1.70262768e-03 3.77482479e-02 2.79164849e-02\n",
      " 7.28178604e-04 2.46289684e-04 3.81533829e-04 3.80944899e-03\n",
      " 1.40335308e-01 2.34973981e-03 2.48653450e-01 8.16938637e-04\n",
      " 8.23718498e-04 2.72529504e-03 5.98832795e-02 1.30452984e-03\n",
      " 1.94046366e-03 2.05590782e-03 7.50469320e-03 1.14648270e-02\n",
      " 1.06221386e-03 3.03045187e-03 2.56286432e-03 2.05574317e-03\n",
      " 2.61390576e-02 8.51609019e-02 3.57762390e-03 3.08684209e-04\n",
      " 4.85528707e-02 3.01192635e-03 3.47910016e-02 9.32411253e-04\n",
      " 8.33448648e-02 5.78082887e-04 9.06958297e-03 8.00128675e-02]\n",
      "\n",
      "\n",
      "-----------------------------\n",
      "\n"
     ]
    }
   ],
   "source": [
    "x_train, x_test, y_train, y_test = train_test_split(X_train, Y_train, test_size=0.1, random_state=4)\n",
    "\n",
    "model = GradientBoostingClassifier()\n",
    "model.fit(x_train, y_train)\n",
    "y_pred = model.predict(x_test)\n",
    "print('GradientBoostingClassifier:')\n",
    "print('tree score:', model.score(x_test,y_test))\n",
    "print(\"r2_score: %.2f\"% r2_score(y_test, y_pred))\n",
    "print('accuracy_score: %.2f'% accuracy_score(y_test, y_pred))\n",
    "#         df = pd.DataFrame(model.feature_importances_, index=dataset.feature_names, columns=['importance'])\n",
    "#         print(\"Feature importance: \\n\", df.sort_values('importance', ascending=False))\n",
    "print(\"Feature importance: \\n\", model.feature_importances_)\n",
    "print()\n",
    "print('\\n-----------------------------\\n')"
   ]
  },
  {
   "cell_type": "code",
   "execution_count": 49,
   "metadata": {},
   "outputs": [
    {
     "name": "stdout",
     "output_type": "stream",
     "text": [
      "[1 0 1 ... 1 0 1]\n",
      "      Solution    Id\n",
      "1            1     1\n",
      "2            0     2\n",
      "3            1     3\n",
      "4            0     4\n",
      "5            0     5\n",
      "6            0     6\n",
      "7            0     7\n",
      "8            1     8\n",
      "9            0     9\n",
      "10           0    10\n",
      "11           1    11\n",
      "12           1    12\n",
      "13           1    13\n",
      "14           0    14\n",
      "15           0    15\n",
      "16           1    16\n",
      "17           0    17\n",
      "18           1    18\n",
      "19           1    19\n",
      "20           1    20\n",
      "21           0    21\n",
      "22           1    22\n",
      "23           1    23\n",
      "24           0    24\n",
      "25           1    25\n",
      "26           1    26\n",
      "27           1    27\n",
      "28           0    28\n",
      "29           1    29\n",
      "30           0    30\n",
      "...        ...   ...\n",
      "8971         0  8971\n",
      "8972         0  8972\n",
      "8973         1  8973\n",
      "8974         1  8974\n",
      "8975         0  8975\n",
      "8976         1  8976\n",
      "8977         0  8977\n",
      "8978         1  8978\n",
      "8979         1  8979\n",
      "8980         1  8980\n",
      "8981         1  8981\n",
      "8982         1  8982\n",
      "8983         1  8983\n",
      "8984         0  8984\n",
      "8985         0  8985\n",
      "8986         1  8986\n",
      "8987         0  8987\n",
      "8988         0  8988\n",
      "8989         1  8989\n",
      "8990         0  8990\n",
      "8991         0  8991\n",
      "8992         1  8992\n",
      "8993         0  8993\n",
      "8994         1  8994\n",
      "8995         1  8995\n",
      "8996         1  8996\n",
      "8997         1  8997\n",
      "8998         1  8998\n",
      "8999         0  8999\n",
      "9000         1  9000\n",
      "\n",
      "[9000 rows x 2 columns]\n"
     ]
    }
   ],
   "source": [
    "Y_test_predict = model.predict(X_test)\n",
    "print(Y_test_predict)\n",
    "\n",
    "df = pd.DataFrame(Y_test_predict, columns=['Solution'])\n",
    "df.index += 1\n",
    "df['Id'] = df.index.values\n",
    "\n",
    "print(df)\n",
    "df.to_csv('./Day_048/predict.csv', index=False)"
   ]
  },
  {
   "cell_type": "code",
   "execution_count": null,
   "metadata": {},
   "outputs": [],
   "source": []
  }
 ],
 "metadata": {
  "kernelspec": {
   "display_name": "Python 3",
   "language": "python",
   "name": "python3"
  },
  "language_info": {
   "codemirror_mode": {
    "name": "ipython",
    "version": 3
   },
   "file_extension": ".py",
   "mimetype": "text/x-python",
   "name": "python",
   "nbconvert_exporter": "python",
   "pygments_lexer": "ipython3",
   "version": "3.6.7"
  }
 },
 "nbformat": 4,
 "nbformat_minor": 2
}
