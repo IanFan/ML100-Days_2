{
 "cells": [
  {
   "cell_type": "markdown",
   "metadata": {},
   "source": [
    "2019.04.21 AI讀書會 Ian Fan ianfan0704@gamil.com"
   ]
  },
  {
   "cell_type": "markdown",
   "metadata": {},
   "source": [
    "# 數據分析流程： \n",
    "## 提出問題 -> ＊數據前處理-> 特徵工程 -> 建立模型 -> 調整參數 -> 上線預測"
   ]
  },
  {
   "cell_type": "markdown",
   "metadata": {},
   "source": [
    "# 數據前處理：\n",
    "## 導入庫，讀入數據，查看數據，數據選取，可視化，數據清理，數據合併，數據處理，分組聚合，儲存數據"
   ]
  },
  {
   "cell_type": "markdown",
   "metadata": {},
   "source": [
    "# 導入庫："
   ]
  },
  {
   "cell_type": "markdown",
   "metadata": {},
   "source": []
  },
  {
   "cell_type": "code",
   "execution_count": 1,
   "metadata": {},
   "outputs": [],
   "source": [
    "import numpy as np\n",
    "\n",
    "import pandas as pd\n",
    "from pandas import DataFrame\n",
    "from pandas import Series\n",
    "from pandas import Index\n",
    "\n",
    "import matplotlib.pyplot as plt\n",
    "%matplotlib inline"
   ]
  },
  {
   "cell_type": "markdown",
   "metadata": {},
   "source": [
    "## Pandas:\n",
    "\n",
    "### Pandas 通過帶有標籤的列和索引，可以從 csv 等類型的文件中導入數據，快速地進行複雜的轉換和過濾等操作"
   ]
  },
  {
   "cell_type": "markdown",
   "metadata": {},
   "source": [
    "## Pandas 的數據類型：\n",
    "\n",
    "### DataFrame: index索引、values數據、column索引\n",
    "### Series: index索引、values數據\n",
    "### Index: index索引\n",
    "\n",
    "values數據可以是整數、浮點、字串、Python對象等"
   ]
  },
  {
   "cell_type": "markdown",
   "metadata": {},
   "source": [
    "## DataFrame:"
   ]
  },
  {
   "cell_type": "code",
   "execution_count": 2,
   "metadata": {},
   "outputs": [
    {
     "name": "stdout",
     "output_type": "stream",
     "text": [
      "        Col_0   Col_1\n",
      "Idx_0  value1  value2\n",
      "Idx_1  value3  value4\n",
      "\n"
     ]
    }
   ],
   "source": [
    "df = DataFrame([['value1', 'value2'], ['value3', 'value4']], columns=['Col_0', 'Col_1'], index=['Idx_0', 'Idx_1'])\n",
    "print(df)\n",
    "print()"
   ]
  },
  {
   "cell_type": "code",
   "execution_count": 3,
   "metadata": {},
   "outputs": [
    {
     "name": "stdout",
     "output_type": "stream",
     "text": [
      "cloumn:\n",
      "Index(['Col_0', 'Col_1'], dtype='object')\n",
      "<class 'pandas.core.indexes.base.Index'>\n",
      "\n",
      "index:\n",
      "Index(['Idx_0', 'Idx_1'], dtype='object')\n",
      "<class 'pandas.core.indexes.base.Index'>\n",
      "\n",
      "values:\n",
      "[['value1' 'value2']\n",
      " ['value3' 'value4']]\n",
      "<class 'numpy.ndarray'>\n",
      "\n"
     ]
    }
   ],
   "source": [
    "print('cloumn:')\n",
    "print(df.columns)\n",
    "print(type(df.columns))\n",
    "print()\n",
    "\n",
    "print('index:')\n",
    "print(df.index)\n",
    "print(type(df.index))\n",
    "print()\n",
    "\n",
    "print('values:')\n",
    "print(df.values)\n",
    "print(type(df.values))\n",
    "print()"
   ]
  },
  {
   "cell_type": "code",
   "execution_count": 4,
   "metadata": {},
   "outputs": [
    {
     "name": "stdout",
     "output_type": "stream",
     "text": [
      "COLUMN   Col_0   Col_1\n",
      "INDEX                 \n",
      "Idx_0   value1  value2\n",
      "Idx_1   value3  value4\n",
      "\n",
      "DF\n"
     ]
    }
   ],
   "source": [
    "df.index.name = 'INDEX'\n",
    "df.columns.name = 'COLUMN'\n",
    "df.name = 'DF'\n",
    "print(df)\n",
    "print()\n",
    "print(df.name)"
   ]
  },
  {
   "cell_type": "markdown",
   "metadata": {},
   "source": [
    "## Series:\n",
    "## Index:"
   ]
  },
  {
   "cell_type": "code",
   "execution_count": null,
   "metadata": {},
   "outputs": [
    {
     "name": "stdout",
     "output_type": "stream",
     "text": [
      "sr1:\n",
      "COLUMN\n",
      "Col_1    value1\n",
      "Col_2    value2\n",
      "Name: idx0, dtype: object\n",
      "\n",
      "sr2:\n",
      "COLUMN\n",
      "Col_1    value3\n",
      "Col_2    value4\n",
      "Name: idx1, dtype: object\n",
      "\n",
      "COLUMN   Col_1   Col_2\n",
      "INDEX                 \n",
      "idx0    value1  value2\n",
      "idx1    value3  value4\n"
     ]
    }
   ],
   "source": [
    "idx = Index(['Col_1', 'Col_2'], name='COLUMN')\n",
    "sr1 = Series([\"value1\", \"value2\"], index=idx, name='idx0')\n",
    "print('sr1:')\n",
    "print(sr1)\n",
    "print()\n",
    "\n",
    "sr2 = Series([\"value3\", \"value4\"], index=idx, name='idx1')\n",
    "print('sr2:')\n",
    "print(sr2)\n",
    "print()\n",
    "\n",
    "df = DataFrame([sr1, sr2])\n",
    "df.index.name = 'INDEX'\n",
    "print(df)"
   ]
  },
  {
   "cell_type": "markdown",
   "metadata": {},
   "source": [
    "## 將自建數據給Dataframe的幾種方法\n",
    "## HW3-1: "
   ]
  },
  {
   "cell_type": "code",
   "execution_count": null,
   "metadata": {},
   "outputs": [
    {
     "name": "stdout",
     "output_type": "stream",
     "text": [
      "       國家     人口\n",
      "0  Taiwan   0.26\n",
      "1   China  13.93\n",
      "2     USA   3.29\n",
      "3   Japan   1.26\n",
      "       國家     人口\n",
      "0  Taiwan   0.26\n",
      "1   China  13.93\n",
      "2     USA   3.29\n",
      "3   Japan   1.26\n",
      "       國家     人口\n",
      "0  Taiwan   0.26\n",
      "1   China  13.93\n",
      "2     USA   3.29\n",
      "3   Japan   1.26\n"
     ]
    }
   ],
   "source": [
    "# 第一種方法\n",
    "data_dict = {'國家': [\"Taiwan\", \"China\", \"USA\", \"Japan\"],\n",
    "             '人口': [0.26, 13.93, 3.29, 1.26]}\n",
    "df = DataFrame(data_dict)\n",
    "print(df)\n",
    "\n",
    "# 第二種方法\n",
    "data_array = [[\"Taiwan\",0.26], \n",
    "              [\"China\",13.93], \n",
    "              [\"USA\", 3.29], \n",
    "              [\"Japan\", 1.26]]\n",
    "df = DataFrame(data_array, columns=[\"國家\", \"人口\"])\n",
    "print(df)\n",
    "\n",
    "# 第三種方法\n",
    "sr1 = Series([\"Taiwan\", 0.26], index=[\"國家\", \"人口\"], name=0)\n",
    "sr2 = Series([\"China\", 13.93], index=[\"國家\", \"人口\"], name=1)\n",
    "sr3 = Series([\"USA\", 3.29], index=[\"國家\", \"人口\"], name=2)\n",
    "sr4 = Series([\"Japan\", 1.26], index=[\"國家\", \"人口\"], name=3)\n",
    "df = DataFrame([sr1, sr2, sr3, sr4])\n",
    "print(df)"
   ]
  },
  {
   "cell_type": "code",
   "execution_count": null,
   "metadata": {},
   "outputs": [
    {
     "name": "stdout",
     "output_type": "stream",
     "text": [
      "China\n"
     ]
    }
   ],
   "source": [
    "print(df.loc[df['人口'].idxmax(), '國家'])"
   ]
  },
  {
   "cell_type": "markdown",
   "metadata": {},
   "source": [
    "# 讀入數據："
   ]
  },
  {
   "cell_type": "markdown",
   "metadata": {},
   "source": [
    "## HW3-2:"
   ]
  },
  {
   "cell_type": "markdown",
   "metadata": {},
   "source": [
    "## 從 csv 讀入"
   ]
  },
  {
   "cell_type": "code",
   "execution_count": null,
   "metadata": {},
   "outputs": [
    {
     "name": "stdout",
     "output_type": "stream",
     "text": [
      "file path: ../data/application_train.csv\n"
     ]
    }
   ],
   "source": [
    "import os\n",
    "\n",
    "folder_path = '../data'\n",
    "file_path = os.path.join(folder_path, 'application_train.csv')\n",
    "print('file path:', file_path)\n",
    "df = pd.read_csv(file_path)\n",
    "\n",
    "df.head()\n",
    "\n",
    "# ./ 目前的檔案夾\n",
    "# ../ 上一層檔案夾\n",
    "# / 此碟槽的根目錄\n",
    "# ~/ User目錄"
   ]
  },
  {
   "cell_type": "markdown",
   "metadata": {},
   "source": [
    "## 從 txt 讀入"
   ]
  },
  {
   "cell_type": "code",
   "execution_count": null,
   "metadata": {},
   "outputs": [],
   "source": [
    "# 從網路上抓\n",
    "import requests\n",
    "target_url = 'https://raw.githubusercontent.com/vashineyu/slides_and_others/master/tutorial/examples/imagenet_urls_examples.txt'\n",
    "response = requests.get(target_url)\n",
    "data = response.text\n",
    "print(type(data))\n",
    "print(data[:100])\n",
    "\n",
    "file_path = os.path.join('../data', 'response_text.txt')\n",
    "\n",
    "# 儲存 txt\n",
    "file = open(file_path, 'w')\n",
    "file.write(data)\n",
    "file.close()\n",
    "\n",
    "# 從電腦裡讀\n",
    "with open(file_path, 'r') as file:\n",
    "    data = file.read()\n",
    "    print(type(data))\n",
    "    print(data[:100])"
   ]
  },
  {
   "cell_type": "code",
   "execution_count": null,
   "metadata": {},
   "outputs": [],
   "source": [
    "data_rows = data.split('\\n')\n",
    "print('data_rows:\\n', data_rows[:2])\n",
    "\n",
    "data_pd = []\n",
    "for cols in data_rows:\n",
    "    col = cols.split('\\t')\n",
    "    data_pd.append(col)\n",
    "print('data_pd:\\n', data_pd[:2])\n",
    "    \n",
    "df = pd.DataFrame(data_pd)\n",
    "\n",
    "df.columns = ['name', 'address']\n",
    "\n",
    "df.head()"
   ]
  },
  {
   "cell_type": "markdown",
   "metadata": {},
   "source": [
    "## 從 image 讀入"
   ]
  },
  {
   "cell_type": "code",
   "execution_count": null,
   "metadata": {},
   "outputs": [],
   "source": [
    "from PIL import Image\n",
    "from io import BytesIO\n",
    "\n",
    "def download_img_2_numpy(download_link):\n",
    "    link = download_link\n",
    "    print(link)\n",
    "    try:\n",
    "        response = requests.get(link)\n",
    "        img = Image.open(BytesIO(response.content))\n",
    "        # Convert img to numpy array\n",
    "        img_np = np.array(img)\n",
    "        print('numpy: ', img_np[:1][:1])\n",
    "        plt.imshow(img)\n",
    "        plt.show()\n",
    "    except:\n",
    "        print('error: ', link)\n",
    "\n",
    "# 請用 df.loc[...] 得到第一筆資料的連結\n",
    "first_link = df.loc[0, 'address']\n",
    "print(first_link)\n",
    "first_link = df['address'][0]\n",
    "print(first_link)\n",
    "\n",
    "for i in range(5):\n",
    "    download_img_2_numpy(df.loc[i, 'address'])"
   ]
  },
  {
   "cell_type": "markdown",
   "metadata": {},
   "source": [
    "# 查看數據："
   ]
  },
  {
   "cell_type": "markdown",
   "metadata": {},
   "source": [
    "## HW2"
   ]
  },
  {
   "cell_type": "code",
   "execution_count": null,
   "metadata": {},
   "outputs": [],
   "source": [
    "data_array = [[\"Taiwan\",0.26], \n",
    "              [\"China\",13.93], \n",
    "              [\"USA\", 3.29], \n",
    "              [\"Japan\", 1.26],\n",
    "              [\"France\", 0.66],\n",
    "              [\"India\", 12.81]]\n",
    "df = DataFrame(data_array, columns=[\"國家\", \"人口\"])\n",
    "print(df)"
   ]
  },
  {
   "cell_type": "code",
   "execution_count": null,
   "metadata": {},
   "outputs": [],
   "source": [
    "print(df.head())\n",
    "print(df.tail())"
   ]
  },
  {
   "cell_type": "code",
   "execution_count": null,
   "metadata": {},
   "outputs": [],
   "source": [
    "print(df.columns)"
   ]
  },
  {
   "cell_type": "code",
   "execution_count": null,
   "metadata": {},
   "outputs": [],
   "source": [
    "print(df.index)"
   ]
  },
  {
   "cell_type": "code",
   "execution_count": null,
   "metadata": {},
   "outputs": [],
   "source": [
    "print(df.shape)\n",
    "# shape: Index數目、Column數目"
   ]
  },
  {
   "cell_type": "code",
   "execution_count": null,
   "metadata": {},
   "outputs": [],
   "source": [
    "print(df.dtypes)"
   ]
  },
  {
   "cell_type": "code",
   "execution_count": null,
   "metadata": {},
   "outputs": [],
   "source": [
    "print(df.describe())\n",
    "print()\n",
    "\n",
    "print(df.describe(include=['O'])) # O:Object\n",
    "print()\n",
    "\n",
    "print(df.describe(include='all'))\n",
    "print()"
   ]
  },
  {
   "cell_type": "code",
   "execution_count": null,
   "metadata": {},
   "outputs": [],
   "source": [
    "data_array = [[\"X\", 1], \n",
    "              [\"XL\", 2], \n",
    "              [\"M\", 1], \n",
    "              [\"XL\", 1],\n",
    "              [\"L\", 3],\n",
    "              [\"M\", 1]]\n",
    "df = DataFrame(data_array, columns=[\"尺寸\", \"件數\"])"
   ]
  },
  {
   "cell_type": "code",
   "execution_count": null,
   "metadata": {},
   "outputs": [],
   "source": [
    "print(df[\"尺寸\"].value_counts())\n",
    "print()\n",
    "\n",
    "print(df['件數'].value_counts())"
   ]
  },
  {
   "cell_type": "code",
   "execution_count": null,
   "metadata": {},
   "outputs": [],
   "source": [
    "print(df[\"尺寸\"].unique())\n",
    "for i,v in enumerate(df[\"尺寸\"].unique()):\n",
    "    print(i, v)"
   ]
  },
  {
   "cell_type": "markdown",
   "metadata": {},
   "source": [
    "# 數據選取："
   ]
  },
  {
   "cell_type": "markdown",
   "metadata": {},
   "source": [
    "## HW8"
   ]
  },
  {
   "cell_type": "code",
   "execution_count": null,
   "metadata": {},
   "outputs": [],
   "source": [
    "data_array = [[\"Taiwan\",0.26], \n",
    "              [\"China\",13.93], \n",
    "              [\"USA\", 3.29], \n",
    "              [\"Japan\", 1.26],\n",
    "              [\"France\", 0.66],\n",
    "              [\"India\", 12.81]]\n",
    "df = DataFrame(data_array, columns=[\"國家\", \"人口\"])\n",
    "print(df)"
   ]
  },
  {
   "cell_type": "code",
   "execution_count": null,
   "metadata": {},
   "outputs": [],
   "source": [
    "# loc、iloc，[]內兩個參數，第一個找Index、第二個找Column\n",
    "\n",
    "print(df.loc[0, '國家'])\n",
    "\n",
    "print(df.iloc[0, 0])"
   ]
  },
  {
   "cell_type": "code",
   "execution_count": null,
   "metadata": {},
   "outputs": [],
   "source": [
    "print(df.iloc[0, 0])\n",
    "\n",
    "print(df.iloc[-1, -1])"
   ]
  },
  {
   "cell_type": "code",
   "execution_count": null,
   "metadata": {},
   "outputs": [],
   "source": [
    "sr = df.loc[0, :]\n",
    "print(sr)\n",
    "print(type(sr))\n",
    "print()\n",
    "\n",
    "# loc、iloc，[]內只有一個參數，則找Index\n",
    "sr = df.loc[0]\n",
    "print(sr)\n",
    "print()\n",
    "\n",
    "sr = df.iloc[0]\n",
    "print(sr)\n",
    "print(type(sr))"
   ]
  },
  {
   "cell_type": "code",
   "execution_count": null,
   "metadata": {},
   "outputs": [],
   "source": [
    "sr = df.loc[:, '國家']\n",
    "print(sr)\n",
    "print(type(sr))\n",
    "print()\n",
    "\n",
    "# []找 column\n",
    "sr = df['國家']\n",
    "print(sr)\n",
    "print()\n",
    "\n",
    "sr = df.國家\n",
    "print(sr)"
   ]
  },
  {
   "cell_type": "code",
   "execution_count": null,
   "metadata": {},
   "outputs": [],
   "source": [
    "sr = df.loc[::-1, \"國家\"]\n",
    "print(sr)\n",
    "print()\n",
    "\n",
    "df_ = df.loc[:, [\"人口\", \"國家\"]]\n",
    "print(df_)"
   ]
  },
  {
   "cell_type": "code",
   "execution_count": null,
   "metadata": {},
   "outputs": [],
   "source": [
    "sr = df.loc[[0, 2, 4, 6, 8], \"國家\"]\n",
    "print(sr)\n",
    "print()\n",
    "\n",
    "sr = df.iloc[0:10:2, 0]\n",
    "print(sr)"
   ]
  },
  {
   "cell_type": "code",
   "execution_count": null,
   "metadata": {},
   "outputs": [],
   "source": [
    "sr = df['人口']\n",
    "print(sr)\n",
    "print()\n",
    "\n",
    "sr = df['人口']>1\n",
    "print(sr)\n",
    "print()\n",
    "\n",
    "df_ = df[df[\"人口\"]>1]\n",
    "print(df_)"
   ]
  },
  {
   "cell_type": "code",
   "execution_count": null,
   "metadata": {},
   "outputs": [],
   "source": [
    "df_ = df[(df[\"人口\"]>1) & (df[\"人口\"]<10)]\n",
    "print(df_)\n",
    "print()\n",
    "\n",
    "df_ = df[(df[\"人口\"]<1) | (df[\"人口\"]>10)]\n",
    "print(df_)"
   ]
  },
  {
   "cell_type": "code",
   "execution_count": null,
   "metadata": {},
   "outputs": [],
   "source": [
    "df_ = df[~(df[\"人口\"]>1)]\n",
    "print(df_)"
   ]
  },
  {
   "cell_type": "code",
   "execution_count": null,
   "metadata": {},
   "outputs": [],
   "source": [
    "df_ = df['國家'][df['人口']>1]\n",
    "print(df_)"
   ]
  },
  {
   "cell_type": "code",
   "execution_count": null,
   "metadata": {},
   "outputs": [],
   "source": [
    "print(df['人口'])\n",
    "print()\n",
    "\n",
    "print(df['人口'].max())\n",
    "print()\n",
    "\n",
    "print(df['人口'].idxmax())\n",
    "print()\n",
    "\n",
    "print(df.loc[df['人口'].idxmax(), '國家'])\n",
    "print()\n",
    "\n",
    "print(np.percentile(df['人口'], q = 100))"
   ]
  },
  {
   "cell_type": "code",
   "execution_count": null,
   "metadata": {},
   "outputs": [],
   "source": [
    "sr = df[df['國家'].str.startswith('Tai')]\n",
    "print(sr)\n",
    "print()\n",
    "\n",
    "sr = df[df['國家'].str.endswith('an')]\n",
    "print(sr)\n",
    "print()\n",
    "\n",
    "sr = df[df['國家'].str.contains('Tai')]\n",
    "print(sr)\n",
    "print()\n",
    "\n",
    "sr = df[(df['國家'].str.contains('a')) & (df['國家'].str.contains('n'))]\n",
    "print(sr)\n",
    "print()\n",
    "\n",
    "sr = df[(df['國家'].str.contains('ai')) | (df['國家'].str.contains('an'))]\n",
    "print(sr)"
   ]
  },
  {
   "cell_type": "code",
   "execution_count": null,
   "metadata": {},
   "outputs": [],
   "source": [
    "df_sort_index = df.sort_index(ascending=False)\n",
    "print(df_sort_index)\n",
    "print()\n",
    "\n",
    "df_sort_value = df.sort_values(by='人口', ascending=False)\n",
    "print(df_sort_value)"
   ]
  },
  {
   "cell_type": "code",
   "execution_count": null,
   "metadata": {},
   "outputs": [],
   "source": [
    "df_ = df_sort_index.reset_index(drop=True)\n",
    "print(df_)\n",
    "print()\n",
    "\n",
    "df_ = df_sort_index.reset_index()\n",
    "print(df_)"
   ]
  },
  {
   "cell_type": "markdown",
   "metadata": {},
   "source": [
    "# 可視化："
   ]
  },
  {
   "cell_type": "markdown",
   "metadata": {},
   "source": [
    "### 直方圖（Histogram）： plt.hist(values)\n",
    "### 長條圖（Bar plot）：plt.bar(range(len(indexes)), values), plt.xticks(range(len(indexes)), labels)\n",
    "### 散佈圖（Scatter plot）：plt.scatter(values1, values2)\n",
    "### 線圖（Line plot）：plot(values1, values2)\n",
    "### 盒鬚圖（Box plot）：boxplot(values)"
   ]
  },
  {
   "cell_type": "markdown",
   "metadata": {},
   "source": [
    "## 直方圖\n",
    "## HW5"
   ]
  },
  {
   "cell_type": "code",
   "execution_count": null,
   "metadata": {},
   "outputs": [],
   "source": [
    "data_array = [[\"L\", 300], \n",
    "              [\"S\", 100], \n",
    "              [\"M\", 200],\n",
    "              [\"L\", 250],\n",
    "              [\"M\", 150],\n",
    "              [\"M\", 200],\n",
    "              [\"L\", 250],\n",
    "              [np.nan, 150]]\n",
    "df = DataFrame(data_array, columns=[\"Size\", \"Price\"])\n",
    "print(df)"
   ]
  },
  {
   "cell_type": "code",
   "execution_count": null,
   "metadata": {},
   "outputs": [],
   "source": [
    "sr = df['Price']\n",
    "\n",
    "print(sr.describe())\n",
    "print()\n",
    "\n",
    "print(sr.value_counts())"
   ]
  },
  {
   "cell_type": "code",
   "execution_count": null,
   "metadata": {
    "scrolled": true
   },
   "outputs": [],
   "source": [
    "# 畫出任意欄位的直方圖\n",
    "plt.hist(sr.values)\n",
    "plt.title('Price') \n",
    "plt.show()"
   ]
  },
  {
   "cell_type": "code",
   "execution_count": null,
   "metadata": {},
   "outputs": [],
   "source": [
    "plt.hist(sr, bins = np.linspace(0, 300, 10)) \n",
    "plt.title('Price') \n",
    "plt.show()"
   ]
  },
  {
   "cell_type": "code",
   "execution_count": null,
   "metadata": {},
   "outputs": [],
   "source": [
    "sr = df['Size'].value_counts()\n",
    "print(sr)\n",
    "\n",
    "plt.scatter(sr.index.values, sr.values)\n",
    "plt.show()\n",
    "\n",
    "plt.bar(range(len(sr.index)), sr.values)\n",
    "plt.xticks(range(len(sr.index)), sr.index.values)\n",
    "plt.show()"
   ]
  },
  {
   "cell_type": "markdown",
   "metadata": {},
   "source": [
    "## Subplots\n",
    "## HW14"
   ]
  },
  {
   "cell_type": "code",
   "execution_count": null,
   "metadata": {},
   "outputs": [],
   "source": [
    "data_array = [[\"L\", 300], \n",
    "              [\"S\", 100], \n",
    "              [\"M\", 200],\n",
    "              [\"L\", 250],\n",
    "              [\"M\", 150],\n",
    "              [\"M\", 200],\n",
    "              [\"L\", 250],\n",
    "              [np.nan, 150]]\n",
    "df = DataFrame(data_array, columns=[\"Size\", \"Price\"])\n",
    "print(df)"
   ]
  },
  {
   "cell_type": "code",
   "execution_count": null,
   "metadata": {},
   "outputs": [],
   "source": [
    "value_count = df['Size'].value_counts()\n",
    "print(value_count)\n",
    "print()\n",
    "\n",
    "unique = df['Size'].unique()\n",
    "print(unique)"
   ]
  },
  {
   "cell_type": "code",
   "execution_count": null,
   "metadata": {},
   "outputs": [],
   "source": [
    "unique = df['Size'].unique()\n",
    "\n",
    "nrows = len(unique)\n",
    "ncols = nrows // 2\n",
    "\n",
    "plt.figure(figsize=(10,30))\n",
    "for i in range(len(unique)):\n",
    "    plt.subplot(nrows, ncols, i+1)\n",
    "    df.loc[df['Size'] == unique[i], \"Price\"].hist()\n",
    "    plt.xlabel('Price')\n",
    "    plt.ylabel('Count')\n",
    "    plt.title(str(unique[i]))\n",
    "plt.show()   "
   ]
  },
  {
   "cell_type": "markdown",
   "metadata": {},
   "source": [
    "## 相關係數"
   ]
  },
  {
   "cell_type": "markdown",
   "metadata": {},
   "source": [
    "## df.corr()\n",
    "## HW10"
   ]
  },
  {
   "cell_type": "code",
   "execution_count": null,
   "metadata": {},
   "outputs": [],
   "source": [
    "data_array = [[10, 18, 60, 10], \n",
    "              [40, 50, 27, 9],\n",
    "              [20, 27, 40, 50], \n",
    "              [50, 70, 20, 15],\n",
    "              [30, 39, 31, 36]]\n",
    "df = DataFrame(data_array, columns=[\"strenth\", \"hp\", \"agility\", \"lucky\"])\n",
    "print(df)"
   ]
  },
  {
   "cell_type": "code",
   "execution_count": null,
   "metadata": {},
   "outputs": [],
   "source": [
    "corr = df.corr()\n",
    "print(type(corr))\n",
    "print(corr)\n",
    "print()\n",
    "\n",
    "corr_sr = df.corr()['strenth']\n",
    "print(corr_sr)"
   ]
  },
  {
   "cell_type": "code",
   "execution_count": null,
   "metadata": {},
   "outputs": [],
   "source": [
    "# 排序\n",
    "order = corr_sr.map(lambda x : x).abs().sort_values(ascending = False)\n",
    "sort_corr = corr_sr[order.index]\n",
    "print(sort_corr)"
   ]
  },
  {
   "cell_type": "markdown",
   "metadata": {},
   "source": [
    "## np.corrcoef(x, y)\n",
    "## HW9"
   ]
  },
  {
   "cell_type": "code",
   "execution_count": null,
   "metadata": {},
   "outputs": [],
   "source": [
    "data_array = [[10, 18, 60, 10], \n",
    "              [40, 50, 27, 9],\n",
    "              [20, 27, 40, 50], \n",
    "              [50, 70, 20, 15],\n",
    "              [30, 39, 31, 36]]\n",
    "df = DataFrame(data_array, columns=[\"strenth\", \"hp\", \"agility\", \"lucky\"])\n",
    "print(df)\n",
    "\n",
    "corr = df.corr()\n",
    "print(corr)\n",
    "print()"
   ]
  },
  {
   "cell_type": "code",
   "execution_count": null,
   "metadata": {},
   "outputs": [],
   "source": [
    "from matplotlib import colors\n",
    "cmap = colors.ListedColormap(['blue','#CEEFF5','#EDCDD9', 'red'])\n",
    "bounds=[-1, -0.5, 0, 0.5, 1]\n",
    "norm = colors.BoundaryNorm(bounds, cmap.N)\n",
    "plt.matshow(corr, cmap=cmap, norm=norm, interpolation='none', vmin=-1, vmax=1)\n",
    "plt.xticks(range(len(corr.columns)), corr.columns, rotation=60);\n",
    "plt.yticks(range(len(corr.columns)), corr.columns);\n",
    "plt.show()"
   ]
  },
  {
   "cell_type": "markdown",
   "metadata": {},
   "source": [
    "## 正相關"
   ]
  },
  {
   "cell_type": "code",
   "execution_count": null,
   "metadata": {},
   "outputs": [],
   "source": [
    "corrcoef = np.corrcoef(df['strenth'], df['hp'])\n",
    "print(corrcoef)\n",
    "\n",
    "plt.scatter(df['strenth'], df['hp'])\n",
    "plt.show()"
   ]
  },
  {
   "cell_type": "markdown",
   "metadata": {},
   "source": [
    "## 負相關"
   ]
  },
  {
   "cell_type": "code",
   "execution_count": null,
   "metadata": {},
   "outputs": [],
   "source": [
    "corrcoef = np.corrcoef(df['strenth'], df['agility'])\n",
    "print(corrcoef)\n",
    "\n",
    "plt.scatter(df['strenth'], df['agility'])\n",
    "plt.show()"
   ]
  },
  {
   "cell_type": "markdown",
   "metadata": {},
   "source": [
    "## 弱相關"
   ]
  },
  {
   "cell_type": "code",
   "execution_count": null,
   "metadata": {},
   "outputs": [],
   "source": [
    "corrcoef = np.corrcoef(df['strenth'], df['lucky'])\n",
    "print(corrcoef)\n",
    "\n",
    "plt.scatter(df['strenth'], df['lucky'])\n",
    "plt.show()"
   ]
  },
  {
   "cell_type": "markdown",
   "metadata": {},
   "source": [
    "## HW15\n",
    "\n",
    "## Seaborn \n",
    "### 基於 matplotlib 的 Python 可視化庫，為 matplotlib 的補充，而不是替代\n",
    "\n",
    "### sns.heatmap()\n",
    "### sns.kdeplot()\n",
    "### sns.distplot()\n",
    "### sns.FacetGrid()\n",
    "### sns.PairGrid()"
   ]
  },
  {
   "cell_type": "code",
   "execution_count": null,
   "metadata": {},
   "outputs": [],
   "source": [
    "import seaborn as sns # 另一個繪圖套件"
   ]
  },
  {
   "cell_type": "code",
   "execution_count": null,
   "metadata": {},
   "outputs": [],
   "source": [
    "data_array = [[10, 18, 60, 10], \n",
    "              [40, 50, 27, 9],\n",
    "              [20, 27, 40, 50], \n",
    "              [50, 70, 20, 15],\n",
    "              [30, 39, 31, 36]]\n",
    "df = DataFrame(data_array, columns=[\"strenth\", \"hp\", \"agility\", \"lucky\"])\n",
    "print(df)\n",
    "print()\n",
    "\n",
    "corr = df.corr()\n",
    "print(corr)"
   ]
  },
  {
   "cell_type": "markdown",
   "metadata": {},
   "source": [
    "## heatmap"
   ]
  },
  {
   "cell_type": "code",
   "execution_count": null,
   "metadata": {},
   "outputs": [],
   "source": [
    "heatmap = sns.heatmap(corr)\n",
    "plt.show()"
   ]
  },
  {
   "cell_type": "code",
   "execution_count": null,
   "metadata": {},
   "outputs": [],
   "source": [
    "heatmap = sns.heatmap(corr, cmap = plt.cm.RdYlBu_r, vmin = -0.25, annot = True, vmax = 0.6)\n",
    "plt.show()"
   ]
  },
  {
   "cell_type": "markdown",
   "metadata": {},
   "source": [
    "## kdeplot\n",
    "### kdeplot(核密度估計圖)：概率論中用來估計未知的密度函數，可以比較直觀的看出數據樣本本身的分布特徵"
   ]
  },
  {
   "cell_type": "code",
   "execution_count": null,
   "metadata": {},
   "outputs": [],
   "source": [
    "sns.kdeplot(corr)"
   ]
  },
  {
   "cell_type": "markdown",
   "metadata": {},
   "source": [
    "## distplot\n",
    "### displot()集合了matplotlib的hist()與核函數估計kdeplot的功能，增加了rugplot分布觀測條顯示與利用scipy庫fit擬合參數分布的新穎用途"
   ]
  },
  {
   "cell_type": "code",
   "execution_count": null,
   "metadata": {},
   "outputs": [],
   "source": [
    "sns.distplot(df['strenth'])"
   ]
  },
  {
   "cell_type": "markdown",
   "metadata": {},
   "source": [
    "## FacetGrid\n",
    "### 每張圖表現的都是同樣的變量關係，只是每張圖對應著不同的數據子集\n",
    "### 數據子集的劃分是由我們指定的維度變量決定的（col、row和hue）"
   ]
  },
  {
   "cell_type": "code",
   "execution_count": null,
   "metadata": {},
   "outputs": [],
   "source": [
    "# 首先初始化網格\n",
    "grid = sns.FacetGrid(df)\n",
    "# 然後繪圖\n",
    "grid.map(plt.hist, \"strenth\");"
   ]
  },
  {
   "cell_type": "code",
   "execution_count": null,
   "metadata": {},
   "outputs": [],
   "source": [
    "grid = sns.FacetGrid(df)\n",
    "grid.map(plt.scatter, 'strenth', 'hp')"
   ]
  },
  {
   "cell_type": "code",
   "execution_count": null,
   "metadata": {},
   "outputs": [],
   "source": [
    "grid = sns.FacetGrid(df)\n",
    "grid.map(sns.kdeplot, 'strenth', 'hp')"
   ]
  },
  {
   "cell_type": "markdown",
   "metadata": {},
   "source": [
    "## PairGrid\n",
    "### 每張子圖都代表了不同的兩個變量間的關係\n",
    "### 可以對於我們數據集中的變量關係提供一個快速的總結"
   ]
  },
  {
   "cell_type": "code",
   "execution_count": null,
   "metadata": {},
   "outputs": [],
   "source": [
    "# 首先初始化網格\n",
    "grid = sns.PairGrid(data = df, size = 2.5, diag_sharey=False)\n",
    "\n",
    "# 然後繪圖\n",
    "grid.map_upper(plt.scatter)\n",
    "grid.map_diag(sns.kdeplot)\n",
    "grid.map_lower(sns.kdeplot)\n",
    "plt.show()\n",
    "\n",
    "# map_upper：畫上半部\n",
    "# map_lower ：畫下半部\n",
    "# map_diag：畫對角線"
   ]
  },
  {
   "cell_type": "markdown",
   "metadata": {},
   "source": [
    "## 觀察單特徵"
   ]
  },
  {
   "cell_type": "code",
   "execution_count": null,
   "metadata": {},
   "outputs": [],
   "source": [
    "data_array = [[\"L\", 300], \n",
    "              [\"S\", 100], \n",
    "              [\"M\", 200],\n",
    "              [\"L\", 250],\n",
    "              [\"M\", 150],\n",
    "              [\"M\", 200],\n",
    "              [\"M\", 220],\n",
    "              [np.nan, 150]]\n",
    "df = DataFrame(data_array, columns=[\"Size\", \"Price\"])\n",
    "print(df)\n",
    "\n",
    "# 單特徵展示\n",
    "import math\n",
    "def plot_distribution(dataset, cols=5, width=20, height=15, hspace=0.2, wspace=0.5):\n",
    "    plt.style.use('seaborn-whitegrid')\n",
    "    fig = plt.figure(figsize=(width,height))\n",
    "    fig.subplots_adjust(left=None, bottom=None, right=None, top=None, wspace=wspace, hspace=hspace)\n",
    "    rows = math.ceil(float(dataset.shape[1]) / cols)\n",
    "    for i, column in enumerate(dataset.columns):\n",
    "        ax = fig.add_subplot(rows, cols, i + 1)\n",
    "        ax.set_title(column)\n",
    "        if dataset.dtypes[column] == np.object:\n",
    "            g = sns.countplot(y=column, data=dataset)\n",
    "            substrings = [s.get_text()[:18] for s in g.get_yticklabels()]\n",
    "            g.set(yticklabels=substrings)\n",
    "            plt.xticks(rotation=25)\n",
    "        else:\n",
    "            #直方圖，頻數\n",
    "            g = sns.distplot(dataset[column])\n",
    "            plt.xticks(rotation=25)\n",
    "    \n",
    "plot_distribution(df, cols=3, width=20, height=5, hspace=0.45, wspace=0.5)"
   ]
  },
  {
   "cell_type": "markdown",
   "metadata": {},
   "source": [
    "## missingno \n",
    "### 畫出缺失值"
   ]
  },
  {
   "cell_type": "code",
   "execution_count": null,
   "metadata": {},
   "outputs": [],
   "source": [
    "import missingno\n",
    "\n",
    "data_array = [[100, 10, np.nan], \n",
    "              [np.nan, np.nan, 3], \n",
    "              [110, 20, 5], \n",
    "              [40, np.nan, 6],\n",
    "              [40, 30, np.nan]]\n",
    "df = DataFrame(data_array, columns=[\"Sale1\", \"Sale2\", 'Sale3'])\n",
    "print(df)\n",
    "print()\n",
    "\n",
    "print(df.isnull().sum())\n",
    "\n",
    "missingno.matrix(df, figsize = (10,3))\n",
    "\n",
    "missingno.bar(df, sort='ascending', figsize = (10,3))"
   ]
  },
  {
   "cell_type": "markdown",
   "metadata": {},
   "source": [
    "# 數據清理："
   ]
  },
  {
   "cell_type": "markdown",
   "metadata": {},
   "source": [
    "## 處理異常值 Anomaly：\n",
    "\n",
    "### 離群點: 這些點可能會對結果產生影響，先把它們找出來\n",
    "### 缺失值: 對缺失值進行填充\n",
    "### 錯誤值: 比如人的年齡不可能出現負數\n",
    "### 特殊值: 一些錯誤導致的特殊值，例如 ±Inf, NA NaN"
   ]
  },
  {
   "cell_type": "markdown",
   "metadata": {},
   "source": [
    "## 離群值（極端值）Outlier\n",
    "## HW6"
   ]
  },
  {
   "cell_type": "code",
   "execution_count": null,
   "metadata": {},
   "outputs": [],
   "source": [
    "data_array = [[80, 50], \n",
    "              [50, 100000], \n",
    "              [50, -20],\n",
    "              [20, 10]]\n",
    "df = DataFrame(data_array, columns=[\"Sale1\", \"Sale2\"])\n",
    "print(df)\n",
    "print()\n",
    "\n",
    "print(df.describe())"
   ]
  },
  {
   "cell_type": "code",
   "execution_count": null,
   "metadata": {},
   "outputs": [],
   "source": [
    "plt.hist(df['Sale1'])\n",
    "plt.show()\n",
    "\n",
    "plt.hist(df['Sale2'])\n",
    "plt.show()"
   ]
  },
  {
   "cell_type": "code",
   "execution_count": null,
   "metadata": {},
   "outputs": [],
   "source": [
    "print(df['Sale2'].value_counts())\n",
    "print()\n",
    "\n",
    "# 取代極端值\n",
    "df_ = df['Sale2']\n",
    "df_ = df_.replace({100000: 100})\n",
    "print(df_)"
   ]
  },
  {
   "cell_type": "markdown",
   "metadata": {},
   "source": [
    "### 箱線圖（Boxplot）\n",
    "#### 利用數據中的五個統計量：最小值(min)、第一四分位數(25%)、平均數(mean)、第三四分位數(75%)與最大值(max)來描述數據的一種方法\n",
    "#### 它也可以粗略地看出數據是否具有有對稱性，分布的分散程度等信息，特別可以用於對幾個樣本的比較"
   ]
  },
  {
   "cell_type": "code",
   "execution_count": null,
   "metadata": {},
   "outputs": [],
   "source": [
    "# 檢視這些欄位的數值範圍\n",
    "for col in df.columns:\n",
    "    plt.boxplot(df[col].values, labels=[col])\n",
    "    plt.show()"
   ]
  },
  {
   "cell_type": "code",
   "execution_count": null,
   "metadata": {},
   "outputs": [],
   "source": [
    "# 錯誤用法\n",
    "plt.boxplot(df.values)\n",
    "plt.show()\n",
    "\n",
    "plt.boxplot(df)\n",
    "plt.show()"
   ]
  },
  {
   "cell_type": "markdown",
   "metadata": {},
   "source": [
    "### ECDF 方法 (Emprical Cumulative Density Plot)"
   ]
  },
  {
   "cell_type": "code",
   "execution_count": null,
   "metadata": {},
   "outputs": [],
   "source": [
    "cdf = df['Sale1'].value_counts().sort_index().cumsum()\n",
    "\n",
    "plt.plot(list(cdf.index), cdf/cdf.max())\n",
    "plt.xlabel('Value')\n",
    "plt.ylabel('ECDF')\n",
    "plt.show()\n",
    "\n",
    "cdf = df['Sale2'].value_counts().sort_index().cumsum()\n",
    "\n",
    "plt.plot(list(cdf.index), cdf/cdf.max())\n",
    "plt.xlabel('Value')\n",
    "plt.ylabel('ECDF')\n",
    "plt.show()"
   ]
  },
  {
   "cell_type": "code",
   "execution_count": null,
   "metadata": {},
   "outputs": [],
   "source": [
    "print(df['Sale1'])\n",
    "print()\n",
    "\n",
    "print(df['Sale1'].cumsum())\n",
    "print()\n",
    "\n",
    "print(df['Sale1'].value_counts())\n",
    "print()\n",
    "\n",
    "print(df['Sale1'].value_counts().sort_index())\n",
    "print()\n",
    "\n",
    "print(df['Sale1'].value_counts().sort_index().cumsum())"
   ]
  },
  {
   "cell_type": "markdown",
   "metadata": {},
   "source": [
    "## 缺失值\n",
    "### 均值填充：這樣可以不改變當前數據集整體的均值\n",
    "### 回歸模型預測：建立一個回歸模型去得到預測值\n",
    "### 額外的數據補充：有點難弄"
   ]
  },
  {
   "cell_type": "code",
   "execution_count": null,
   "metadata": {},
   "outputs": [],
   "source": [
    "data_array = [[100, 10], \n",
    "              [np.nan, np.nan], \n",
    "              [110, 20], \n",
    "              [40, np.nan],\n",
    "              [40, 30]]\n",
    "df = DataFrame(data_array, columns=[\"Sale1\", \"Sale2\"])\n",
    "print(df)"
   ]
  },
  {
   "cell_type": "code",
   "execution_count": null,
   "metadata": {},
   "outputs": [],
   "source": [
    "print(df.isnull())\n",
    "print()\n",
    "\n",
    "print(df.isnull().sum())"
   ]
  },
  {
   "cell_type": "code",
   "execution_count": null,
   "metadata": {},
   "outputs": [],
   "source": [
    "import missingno\n",
    "\n",
    "missingno.matrix(df, figsize = (10,3))\n",
    "\n",
    "missingno.bar(df, sort='ascending', figsize = (10,3))"
   ]
  },
  {
   "cell_type": "code",
   "execution_count": null,
   "metadata": {},
   "outputs": [],
   "source": [
    "print(df)\n",
    "print()\n",
    "\n",
    "# 刪除包含空值的Index\n",
    "df_ = df.dropna()\n",
    "print(df_)\n",
    "print()\n",
    "\n",
    "# 刪除包含空值的Column\n",
    "df_ = df.dropna(axis=1)\n",
    "print(df_)"
   ]
  },
  {
   "cell_type": "code",
   "execution_count": null,
   "metadata": {},
   "outputs": [],
   "source": [
    "# 用0填滿Nan\n",
    "\n",
    "df_ = df.fillna(0)\n",
    "print(df_)"
   ]
  },
  {
   "cell_type": "code",
   "execution_count": null,
   "metadata": {},
   "outputs": [],
   "source": [
    "# 用平均數填滿Nan\n",
    "\n",
    "df_ = df.fillna(df.mean())\n",
    "print(df_)\n",
    "print()"
   ]
  },
  {
   "cell_type": "code",
   "execution_count": null,
   "metadata": {},
   "outputs": [],
   "source": [
    "# 用眾數填滿Nan (若有數個眾數，則數個眾數再求平均)\n",
    "\n",
    "print('Sale1眾數:')\n",
    "print(df['Sale1'].mode())\n",
    "print()\n",
    "print('Sale2眾數:')\n",
    "print(df['Sale2'].mode())\n",
    "print()\n",
    "\n",
    "df_ = df.fillna(df.mode().mean())\n",
    "print(df_)\n",
    "print()\n",
    "\n",
    "# from scipy.stats import mode\n",
    "# value_most = mode(df[~df['銷售數量1'].isnull()]['銷售數量1'])\n",
    "# print(value_most)"
   ]
  },
  {
   "cell_type": "code",
   "execution_count": null,
   "metadata": {},
   "outputs": [],
   "source": [
    "# 用q值填滿Nan\n",
    "\n",
    "print(df['Sale1'])\n",
    "print()\n",
    "\n",
    "q = np.percentile(df[~df['Sale1'].isnull()]['Sale1'], q = 75)\n",
    "print(q)\n",
    "print()\n",
    "\n",
    "sr = df['Sale1'].fillna(q)\n",
    "print(sr)"
   ]
  },
  {
   "cell_type": "markdown",
   "metadata": {},
   "source": [
    "## 錯誤值"
   ]
  },
  {
   "cell_type": "code",
   "execution_count": null,
   "metadata": {},
   "outputs": [],
   "source": [
    "data_array = [[100], \n",
    "              [-1], \n",
    "              [50],\n",
    "              [50],\n",
    "              [-1]]\n",
    "df = DataFrame(data_array, columns=[\"銷售數量\"])\n",
    "print(df)\n",
    "print()\n",
    "\n",
    "print(df['銷售數量'].value_counts())\n",
    "\n",
    "plt.hist(df.values)\n",
    "plt.show()"
   ]
  },
  {
   "cell_type": "code",
   "execution_count": null,
   "metadata": {},
   "outputs": [],
   "source": [
    "# 取代錯誤值\n",
    "\n",
    "df_ = df[\"銷售數量\"].replace({-1: 0})\n",
    "print(df_)\n",
    "print()\n",
    "\n",
    "df_ = df.copy()\n",
    "df_[df_[\"銷售數量\"]<0] = 0\n",
    "print(df_)"
   ]
  },
  {
   "cell_type": "code",
   "execution_count": null,
   "metadata": {},
   "outputs": [],
   "source": [
    "# 刪除錯誤值\n",
    "\n",
    "print(df.shape)\n",
    "print()\n",
    "\n",
    "print(df[\"銷售數量\"]>0)\n",
    "print()\n",
    "\n",
    "df_ = df.loc[df[\"銷售數量\"]>0, :]\n",
    "print(df_)\n",
    "print()\n",
    "\n",
    "df_ = df_.reset_index(drop=True)\n",
    "print(df_)\n",
    "print()\n",
    "\n",
    "print(df_.shape)"
   ]
  },
  {
   "cell_type": "markdown",
   "metadata": {},
   "source": [
    "## 重複值"
   ]
  },
  {
   "cell_type": "code",
   "execution_count": null,
   "metadata": {},
   "outputs": [],
   "source": [
    "df = pd.DataFrame({'A': [0, 1, 1, 3],\n",
    "                   'B': [0, 2, 3, 1]})\n",
    "print(df)\n",
    "print()\n",
    "\n",
    "df_ = df.drop_duplicates(subset=['A'], keep='first')\n",
    "print(df_)"
   ]
  },
  {
   "cell_type": "code",
   "execution_count": null,
   "metadata": {},
   "outputs": [],
   "source": [
    "df = pd.DataFrame({'A': [0, 1, 1, 3],\n",
    "                   'B': [0, 1, 1, 3]})\n",
    "print(df)\n",
    "print()\n",
    "\n",
    "df_ = df.drop_duplicates(subset=['A', 'B'], keep='first')\n",
    "print(df_)\n",
    "print()\n",
    "\n",
    "df_ = df.drop_duplicates(subset=None, keep='first')\n",
    "print(df_)"
   ]
  },
  {
   "cell_type": "markdown",
   "metadata": {},
   "source": [
    "# 數據合併："
   ]
  },
  {
   "cell_type": "markdown",
   "metadata": {},
   "source": [
    "## 簡單的合併刪除"
   ]
  },
  {
   "cell_type": "code",
   "execution_count": null,
   "metadata": {},
   "outputs": [],
   "source": [
    "df1 = pd.DataFrame({'A': ['A0', 'A1']})\n",
    "df2 = pd.DataFrame({'A': ['A1', 'A3']})\n",
    "\n",
    "print('df1')\n",
    "print(df1)\n",
    "print()\n",
    "\n",
    "print('df2')\n",
    "print(df2)\n",
    "print()\n",
    "\n",
    "df_ = df1.append(df2)\n",
    "print(df_)\n",
    "print()\n",
    "\n",
    "df_ = df_.reset_index(drop=True)\n",
    "print(df_)"
   ]
  },
  {
   "cell_type": "code",
   "execution_count": null,
   "metadata": {},
   "outputs": [],
   "source": [
    "df1 = pd.DataFrame({'A': ['A0', 'A1', 'A2', 'A3']})\n",
    "df2 = pd.DataFrame({'B': ['B0', 'B1', 'B2', 'B3']})\n",
    "\n",
    "print('df1')\n",
    "print(df1)\n",
    "print()\n",
    "\n",
    "print('df2')\n",
    "print(df2)\n",
    "print()\n",
    "\n",
    "df_ = df1.copy()\n",
    "df_['B'] = df2['B']\n",
    "print(df_)"
   ]
  },
  {
   "cell_type": "code",
   "execution_count": null,
   "metadata": {},
   "outputs": [],
   "source": [
    "df = pd.DataFrame({'A': ['A0', 'A1', 'A2', 'A3'],\n",
    "                   'B': ['B0', 'B1', 'B2', 'B3']})\n",
    "print(df)\n",
    "print()\n",
    "\n",
    "df_ = df.drop(0)\n",
    "print(df_)"
   ]
  },
  {
   "cell_type": "code",
   "execution_count": null,
   "metadata": {},
   "outputs": [],
   "source": [
    "df = pd.DataFrame({'A': ['A0', 'A1', 'A2', 'A3'],\n",
    "                   'B': ['B0', 'B1', 'B2', 'B3']})\n",
    "print(df)\n",
    "print()\n",
    "\n",
    "df_ = df.drop('A', axis=1)\n",
    "print(df_)"
   ]
  },
  {
   "cell_type": "markdown",
   "metadata": {},
   "source": [
    "## concat、merge\n",
    "## concat可以將數據根據不同的軸作簡單的融合\n",
    "## merge方法提供了一種類似於SQL的內存鏈接操作\n",
    "## HW8"
   ]
  },
  {
   "cell_type": "markdown",
   "metadata": {},
   "source": [
    "## pd.concat( [ , ] )\n",
    "### 沿著一條軸，將多個對象堆疊到一起"
   ]
  },
  {
   "cell_type": "code",
   "execution_count": null,
   "metadata": {},
   "outputs": [],
   "source": [
    "df1 = pd.DataFrame({'A': ['A0', 'A1', 'A2', 'A3'],\n",
    "                    'B': ['B0', 'B1', 'B2', 'B3'],\n",
    "                    'C': ['C0', 'C1', 'C2', 'C3'],\n",
    "                    'D': ['D0', 'D1', 'D2', 'D3']},\n",
    "                   index=[0, 1, 2, 3])\n",
    "\n",
    "df2 = pd.DataFrame({'A': ['A4', 'A5', 'A6', 'A7'],\n",
    "                    'B': ['B4', 'B5', 'B6', 'B7'],\n",
    "                    'C': ['C4', 'C5', 'C6', 'C7'],\n",
    "                    'D': ['D4', 'D5', 'D6', 'D7']},\n",
    "                   index=[4, 5, 6, 7])\n",
    "\n",
    "df3 = pd.DataFrame({'B': ['B2', 'B3', 'B6', 'B7'],\n",
    "                    'D': ['D2', 'D3', 'D6', 'D7'],\n",
    "                    'F': ['F2', 'F3', 'F6', 'F7']},\n",
    "                   index=[2, 3, 6, 7])"
   ]
  },
  {
   "cell_type": "code",
   "execution_count": null,
   "metadata": {},
   "outputs": [],
   "source": [
    "# 沿縱軸合併\n",
    "\n",
    "print('df1')\n",
    "print(df1)\n",
    "print()\n",
    "\n",
    "print('df2')\n",
    "print(df2)\n",
    "print()\n",
    "\n",
    "df_ = pd.concat([df1, df2])\n",
    "print(df_)\n",
    "print()"
   ]
  },
  {
   "cell_type": "code",
   "execution_count": null,
   "metadata": {},
   "outputs": [],
   "source": [
    "df_ = pd.concat([df1, df2])\n",
    "print(df_)\n",
    "print()\n",
    "\n",
    "df_ = df1.append(df2)\n",
    "print(df_)"
   ]
  },
  {
   "cell_type": "code",
   "execution_count": null,
   "metadata": {},
   "outputs": [],
   "source": [
    "# 沿縱軸合併，相同字段的表首尾相接\n",
    "\n",
    "print('df1')\n",
    "print(df1)\n",
    "print()\n",
    "\n",
    "print('df3')\n",
    "print(df3)\n",
    "print()\n",
    "\n",
    "df_ = pd.concat([df1, df3])\n",
    "print(df_)\n",
    "print()"
   ]
  },
  {
   "cell_type": "code",
   "execution_count": null,
   "metadata": {},
   "outputs": [],
   "source": [
    "# outer 保留兩個表的所有信息\n",
    "# inner 只保留兩個表中公共部分的信息\n",
    "\n",
    "print('df1')\n",
    "print(df1)\n",
    "print()\n",
    "\n",
    "print('df3')\n",
    "print(df3)\n",
    "print()\n",
    "\n",
    "df_ = pd.concat([df1, df3], join='outer')\n",
    "print(df_)\n",
    "print()\n",
    "\n",
    "df_ = pd.concat([df1, df3], join='inner')\n",
    "print(df_)"
   ]
  },
  {
   "cell_type": "code",
   "execution_count": null,
   "metadata": {},
   "outputs": [],
   "source": [
    "# key來識別數據源自於哪張表\n",
    "\n",
    "print('df1')\n",
    "print(df1)\n",
    "print()\n",
    "\n",
    "print('df3')\n",
    "print(df3)\n",
    "print()\n",
    "\n",
    "df_ = pd.concat([df1, df3], keys=['x', 'y'])\n",
    "print(df_)\n",
    "print()"
   ]
  },
  {
   "cell_type": "code",
   "execution_count": null,
   "metadata": {},
   "outputs": [],
   "source": [
    "# 沿橫軸合併\n",
    "\n",
    "print('df1')\n",
    "print(df1)\n",
    "print()\n",
    "\n",
    "print('df2')\n",
    "print(df2)\n",
    "print()\n",
    "\n",
    "df_ = pd.concat([df1, df2], axis = 1)\n",
    "print(df_)"
   ]
  },
  {
   "cell_type": "code",
   "execution_count": null,
   "metadata": {},
   "outputs": [],
   "source": [
    "# 沿橫軸合併\n",
    "\n",
    "print('df1')\n",
    "print(df1)\n",
    "print()\n",
    "\n",
    "print('df3')\n",
    "print(df3)\n",
    "print()\n",
    "\n",
    "df_ = pd.concat([df1, df3], axis = 1)\n",
    "print(df_)"
   ]
  },
  {
   "cell_type": "code",
   "execution_count": null,
   "metadata": {},
   "outputs": [],
   "source": [
    "# outer 保留兩個表的所有信息\n",
    "# inner 只保留兩個表中公共部分的信息\n",
    "\n",
    "# 沿橫軸合併\n",
    "df_ = pd.concat([df1, df3], axis = 1, join='outer')\n",
    "print(df_)\n",
    "print()\n",
    "\n",
    "# 沿橫軸合併\n",
    "df_ = pd.concat([df1, df3], axis = 1, join='inner')\n",
    "print(df_)"
   ]
  },
  {
   "cell_type": "code",
   "execution_count": null,
   "metadata": {},
   "outputs": [],
   "source": [
    "# 沿橫軸合併\n",
    "\n",
    "print('df1')\n",
    "print(df1)\n",
    "print()\n",
    "\n",
    "print('df3')\n",
    "print(df3)\n",
    "print()\n",
    "\n",
    "df_ = pd.concat([df1, df3], axis = 1, keys=['x', 'y'])\n",
    "print(df_)"
   ]
  },
  {
   "cell_type": "markdown",
   "metadata": {},
   "source": [
    "## pd.merge( [ , ] )\n",
    "### 類似於SQL的內存鏈接操作，把左表與右表做鍵拼接列"
   ]
  },
  {
   "cell_type": "code",
   "execution_count": null,
   "metadata": {},
   "outputs": [],
   "source": [
    "df1 = pd.DataFrame({'A': ['A0', 'A1', 'A2', 'A3'],\n",
    "                    'B': ['B0', 'B1', 'B2', 'B3'],\n",
    "                    'C': ['C0', 'C1', 'C2', 'C3'],\n",
    "                    'D': ['D0', 'D1', 'D2', 'D3']},\n",
    "                   index=[0, 1, 2, 3])\n",
    "\n",
    "df2 = pd.DataFrame({'A': ['A4', 'A5', 'A6', 'A7'],\n",
    "                    'B': ['B4', 'B5', 'B6', 'B7'],\n",
    "                    'C': ['C4', 'C5', 'C6', 'C7'],\n",
    "                    'D': ['D4', 'D5', 'D6', 'D7']},\n",
    "                   index=[4, 5, 6, 7])\n",
    "\n",
    "df3 = pd.DataFrame({'B': ['B2', 'B3', 'B6', 'B7'],\n",
    "                    'D': ['D2', 'D3', 'D6', 'D7'],\n",
    "                    'F': ['F2', 'F3', 'F6', 'F7']},\n",
    "                   index=[2, 3, 6, 7])"
   ]
  },
  {
   "cell_type": "code",
   "execution_count": null,
   "metadata": {},
   "outputs": [],
   "source": [
    "print('df1')\n",
    "print(df1)\n",
    "print()\n",
    "\n",
    "print('df3')\n",
    "print(df3)\n",
    "print()\n",
    "\n",
    "df_ = pd.merge(df1, df3)\n",
    "print(df_)\n",
    "print()"
   ]
  },
  {
   "cell_type": "code",
   "execution_count": null,
   "metadata": {},
   "outputs": [],
   "source": [
    "# outer 保留兩個表的所有信息\n",
    "# inner 只保留兩個表中公共部分的信息\n",
    "\n",
    "print('df1')\n",
    "print(df1)\n",
    "print()\n",
    "\n",
    "print('df3')\n",
    "print(df3)\n",
    "print()\n",
    "\n",
    "df_ = pd.merge(df1, df3, how='inner')\n",
    "print(df_)\n",
    "print()\n",
    "\n",
    "df_ = pd.merge(df1, df3, how='outer')\n",
    "print(df_)\n",
    "print()"
   ]
  },
  {
   "cell_type": "code",
   "execution_count": null,
   "metadata": {},
   "outputs": [],
   "source": [
    "print('df1')\n",
    "print(df1)\n",
    "print()\n",
    "\n",
    "print('df3')\n",
    "print(df3)\n",
    "print()\n",
    "\n",
    "df_ = pd.merge(df1, df3, how='left')\n",
    "print(df_)\n",
    "print()\n",
    "\n",
    "df_ = pd.merge(df1, df3, how='right')\n",
    "print(df_)\n",
    "print()"
   ]
  },
  {
   "cell_type": "code",
   "execution_count": null,
   "metadata": {},
   "outputs": [],
   "source": [
    "print('df1')\n",
    "print(df1)\n",
    "print()\n",
    "\n",
    "print('df3')\n",
    "print(df3)\n",
    "print()\n",
    "\n",
    "df_ = pd.merge(df1, df3, on=['B'])\n",
    "print(df_)\n",
    "print()"
   ]
  },
  {
   "cell_type": "markdown",
   "metadata": {},
   "source": [
    "## melt ()\n",
    "### 將column、index、value逐一解開"
   ]
  },
  {
   "cell_type": "code",
   "execution_count": null,
   "metadata": {},
   "outputs": [],
   "source": [
    "df1 = pd.DataFrame({'A': ['A0', 'A1', 'A2', 'A3'],\n",
    "                    'B': ['B0', 'B1', 'B2', 'B3'],\n",
    "                    'C': ['C0', 'C1', 'C2', 'C3'],\n",
    "                    'D': ['D0', 'D1', 'D2', 'D3']},\n",
    "                   index=[0, 1, 2, 3])\n",
    "print('df1')\n",
    "print(df1)\n",
    "print()\n",
    "\n",
    "print(df1.melt())"
   ]
  },
  {
   "cell_type": "markdown",
   "metadata": {},
   "source": [
    "## pivot_table()\n",
    "### 透視表"
   ]
  },
  {
   "cell_type": "code",
   "execution_count": null,
   "metadata": {},
   "outputs": [],
   "source": [
    "df1 = pd.DataFrame({'ID': ['001', '002', '001', '002', '003', '003'],\n",
    "                    'Name': ['Sam', 'Tom', 'Sam', 'Tom', 'John', 'John'],\n",
    "                    'Sub': ['Eng', 'Eng', 'Math', 'Math', 'His', 'Eng'],\n",
    "                    'Score': [100, 30, 80, 60, 90, 70],},\n",
    "                   index=[0, 1, 2, 3, 4, 5])\n",
    "print('df1')\n",
    "print(df1)\n",
    "print()\n",
    "\n",
    "pt = df1.pivot_table(index=['ID', 'Name'], columns='Sub', values='Score')\n",
    "print(pt)\n",
    "print()\n",
    "\n",
    "print(pt.shape)\n",
    "print(pt.index)"
   ]
  },
  {
   "cell_type": "markdown",
   "metadata": {},
   "source": [
    "# 數據處理："
   ]
  },
  {
   "cell_type": "markdown",
   "metadata": {},
   "source": [
    "## 轉換型態"
   ]
  },
  {
   "cell_type": "code",
   "execution_count": null,
   "metadata": {},
   "outputs": [],
   "source": [
    "data_array = [[1]]\n",
    "df = DataFrame(data_array, columns=['Col'])\n",
    "print(df)\n",
    "print()\n",
    "\n",
    "print(df['Col'].dtype)\n",
    "print()\n",
    "\n",
    "# int64 -> float64\n",
    "df['Col'] = df['Col'].astype(float)\n",
    "print(df['Col'].dtype)"
   ]
  },
  {
   "cell_type": "markdown",
   "metadata": {},
   "source": [
    "## 應用函數\n",
    "## apply, applymap, map"
   ]
  },
  {
   "cell_type": "code",
   "execution_count": null,
   "metadata": {},
   "outputs": [],
   "source": [
    "data_array = [[2, 100], \n",
    "              [5, 120], \n",
    "              [1, 130], \n",
    "              [3, 100],\n",
    "              [4, 110],]\n",
    "df = DataFrame(data_array, columns=[\"Count\", \"Price\"])\n",
    "print(df)"
   ]
  },
  {
   "cell_type": "markdown",
   "metadata": {},
   "source": [
    "### apply\n",
    "### 方程作用在一維的向量上\n",
    "### 可以操作 DataFrame数据，也可以操作Series数据"
   ]
  },
  {
   "cell_type": "code",
   "execution_count": null,
   "metadata": {},
   "outputs": [],
   "source": [
    "print(df)\n",
    "print()\n",
    "\n",
    "f = lambda x: x.max() + x.min()\n",
    "print(df.apply(f))"
   ]
  },
  {
   "cell_type": "markdown",
   "metadata": {},
   "source": [
    "### applymap\n",
    "### 方程作用於DataFrame中的每一個元素\n",
    "### 操作对象可以是DataFrame"
   ]
  },
  {
   "cell_type": "code",
   "execution_count": null,
   "metadata": {},
   "outputs": [],
   "source": [
    "print(df)\n",
    "print()\n",
    "\n",
    "format = lambda x: x*2\n",
    "print(df.applymap(format))"
   ]
  },
  {
   "cell_type": "markdown",
   "metadata": {},
   "source": [
    "### map\n",
    "### 作用於一個Series的每一個元素"
   ]
  },
  {
   "cell_type": "code",
   "execution_count": null,
   "metadata": {},
   "outputs": [],
   "source": [
    "print(df)\n",
    "print()\n",
    "\n",
    "format = lambda x: x*2\n",
    "print(df['Price'].map(format))"
   ]
  },
  {
   "cell_type": "markdown",
   "metadata": {},
   "source": [
    "## One Hot Encoding\n",
    "## HW4\n",
    "\n",
    "1. 離散特徵的取值之間沒有大小的意義，比如color：[red,blue],那麼就使用one-hot編碼\n",
    "\n",
    "2. 離散特徵的取值有大小的意義，比如size:[X,XL,XXL]，那麼可考慮使用數值的映射{X:1,XL:2,XXL:3}"
   ]
  },
  {
   "cell_type": "code",
   "execution_count": null,
   "metadata": {},
   "outputs": [],
   "source": [
    "data_array = [[\"Red\", 100], \n",
    "              [\"Blue\", 120], \n",
    "              [\"Green\", 130], \n",
    "              [\"Red\", 100],\n",
    "              [\"Yellow\", 110],]\n",
    "df = DataFrame(data_array, columns=[\"顏色\", \"價錢\"])\n",
    "print(df)"
   ]
  },
  {
   "cell_type": "code",
   "execution_count": null,
   "metadata": {},
   "outputs": [],
   "source": [
    "df_ = pd.get_dummies(df)\n",
    "print(df_)\n",
    "print()"
   ]
  },
  {
   "cell_type": "markdown",
   "metadata": {},
   "source": [
    "## Label Encoding"
   ]
  },
  {
   "cell_type": "code",
   "execution_count": null,
   "metadata": {},
   "outputs": [],
   "source": [
    "df_ = df.copy()\n",
    "for dtype, col in zip(df_.dtypes, df_.columns):\n",
    "    if dtype == 'object':\n",
    "        df_[col] = pd.factorize(df_[col])[0]\n",
    "\n",
    "print(df_)"
   ]
  },
  {
   "cell_type": "code",
   "execution_count": null,
   "metadata": {},
   "outputs": [],
   "source": [
    "from sklearn.preprocessing import LabelEncoder\n",
    "\n",
    "df['顏色_label'] = LabelEncoder().fit_transform(df['顏色'])\n",
    "print(df)"
   ]
  },
  {
   "cell_type": "markdown",
   "metadata": {},
   "source": [
    "## 歸一化 (Normalization) 與標準化 (Standardization)\n",
    "## HW7\n",
    "### 對不同特徵維度的伸縮變換的目的，是使得不同度量之間的特徵具有可比性，同時不改變原始數據的分布\n",
    "### 標準化好處：提升收斂速度、提升模型精度"
   ]
  },
  {
   "cell_type": "code",
   "execution_count": null,
   "metadata": {},
   "outputs": [],
   "source": [
    "data_array = [[2, 100], \n",
    "              [5, 120], \n",
    "              [1, 130], \n",
    "              [3, 100],\n",
    "              [4, 110],]\n",
    "df = DataFrame(data_array, columns=[\"Count\", \"Price\"])\n",
    "print(df)"
   ]
  },
  {
   "cell_type": "markdown",
   "metadata": {},
   "source": [
    "### 歸一化\n",
    "### 常用 Min-max normalization\n",
    "### 將特徵縮放至特定區間（0~1 或 -1~1），但沒有改變數據分布\n",
    "### 這種方法有個缺陷就是當有新數據加入時，可能導致max和min的變化，需要重新定義\n",
    "### 這種方法對於outlier非常敏感，因為outlier影響了max或min值，所以這種方法只適用於數據在一個範圍內分布的情況"
   ]
  },
  {
   "cell_type": "markdown",
   "metadata": {},
   "source": [
    "### 使結果值映射到[0 ~1]之間"
   ]
  },
  {
   "cell_type": "code",
   "execution_count": null,
   "metadata": {},
   "outputs": [],
   "source": [
    "def min_max_normalization(x):\n",
    "    return (x - np.min(x)) / (np.max(x) - np.min(x))\n",
    "print(min_max_normalization(df))\n",
    "print()\n",
    "\n",
    "df_norm = df.apply(lambda x: (x - np.min(x)) / (np.max(x) - np.min(x)))\n",
    "print(df_norm)"
   ]
  },
  {
   "cell_type": "markdown",
   "metadata": {},
   "source": [
    "### 使結果值映射到[-1 ~ 1]之間"
   ]
  },
  {
   "cell_type": "code",
   "execution_count": null,
   "metadata": {},
   "outputs": [],
   "source": [
    "def min_max_normalization(x):\n",
    "    return ((x - np.min(x)) / (np.max(x) - np.min(x)) -0.5) *2\n",
    "print(min_max_normalization(df))\n",
    "print()\n",
    "\n",
    "df_norm = df.apply(lambda x: ((x - np.min(x)) / (np.max(x) - np.min(x)) -0.5) *2)\n",
    "print(df_norm)"
   ]
  },
  {
   "cell_type": "markdown",
   "metadata": {},
   "source": [
    "### 標準化\n",
    "### 常用z-score標準化\n",
    "### 將特徵範圍縮放到0附近, 但沒有改變數據分布\n",
    "### 如果數據的分布本身就服從正態分布，就可以用這個方法\n",
    "### 通常這種方法基本可用於有outlier的情況，但是，在計算方差和均值的時候outliers仍然會影響計算"
   ]
  },
  {
   "cell_type": "code",
   "execution_count": null,
   "metadata": {},
   "outputs": [],
   "source": [
    "def standard_normalization(x):\n",
    "    return (x - np.mean(x)) / np.std(x)\n",
    "print(standard_normalization(df))\n",
    "print()\n",
    "\n",
    "df_norm = df.apply(lambda x: (x - np.mean(x)) / np.std(x))\n",
    "print(df_norm)"
   ]
  },
  {
   "cell_type": "markdown",
   "metadata": {},
   "source": [
    "### log函數轉換"
   ]
  },
  {
   "cell_type": "code",
   "execution_count": null,
   "metadata": {},
   "outputs": [],
   "source": [
    "df_norm = df.apply(lambda x: np.log10(x) / np.log10(np.max(x)))\n",
    "print(df_norm)"
   ]
  },
  {
   "cell_type": "markdown",
   "metadata": {},
   "source": [
    "### 其它方法：\n",
    "### Logistic轉換\n",
    "### Softmax轉換"
   ]
  },
  {
   "cell_type": "markdown",
   "metadata": {},
   "source": [
    "# 分組聚合："
   ]
  },
  {
   "cell_type": "markdown",
   "metadata": {},
   "source": [
    "## HW8\n",
    "## HW13"
   ]
  },
  {
   "cell_type": "code",
   "execution_count": null,
   "metadata": {},
   "outputs": [],
   "source": [
    "data_array = [[\"Red\", 50, 2], \n",
    "              [\"Blue\", 120, 3],\n",
    "              [\"Blue\", 150, 5], \n",
    "              [\"Green\", 130, 1], \n",
    "              [\"Green\", 130, 3],\n",
    "              [\"Green\", 120, 3],\n",
    "              [\"Red\", 60, 10],\n",
    "              [\"Yellow\", 110, 2],\n",
    "              [\"Yellow\", 115, 3],]\n",
    "df = DataFrame(data_array, columns=[\"Color\", \"Price\", \"Count\"])\n",
    "print(df)"
   ]
  },
  {
   "cell_type": "markdown",
   "metadata": {},
   "source": [
    "## 分組（分群） groupby"
   ]
  },
  {
   "cell_type": "code",
   "execution_count": null,
   "metadata": {},
   "outputs": [],
   "source": [
    "df = pd.DataFrame({'key1': ['a', 'a', 'b', 'b', 'a'],\n",
    "                  'key2': ['one','two','one','two','one'],\n",
    "                  'data1': [1, 3, 5, 7, 9],\n",
    "                  'data2': [2, 4, 6, 8, 10]})\n",
    "\n",
    "print(df)\n",
    "print(df.dtypes)"
   ]
  },
  {
   "cell_type": "code",
   "execution_count": null,
   "metadata": {},
   "outputs": [],
   "source": [
    "gb = df.groupby(by=['a', 'a', 'b', 'b', 'a'])\n",
    "print(type(gb))\n",
    "print(gb.groups)\n",
    "print()"
   ]
  },
  {
   "cell_type": "code",
   "execution_count": null,
   "metadata": {},
   "outputs": [],
   "source": [
    "gb = df.groupby(['a', 'a', 'b', 'b', 'a'])\n",
    "print(gb.count())\n",
    "print()\n",
    "\n",
    "gb_count = df.groupby(df['key1'].values)\n",
    "print(gb.count())\n",
    "print()\n",
    "\n",
    "gb_count = df.groupby(df['key1'])\n",
    "print(gb.count())\n",
    "print()\n",
    "\n",
    "gb_count = df.groupby(['key1'])\n",
    "print(gb.count())\n",
    "print()"
   ]
  },
  {
   "cell_type": "code",
   "execution_count": null,
   "metadata": {},
   "outputs": [],
   "source": [
    "gb = df.groupby([['a', 'a', 'b', 'b', 'a'], ['one','two','one','two','one']])\n",
    "print(gb.count())\n",
    "print()\n",
    "\n",
    "gb = df.groupby([df['key1'], df['key2']])\n",
    "print(gb.count())\n",
    "\n",
    "# gb = df.groupby(df[['key1', 'key2']])\n",
    "# print(df[['key1', 'key2']])\n",
    "# [['a' 'one']\n",
    "#  ['a' 'two']\n",
    "#  ['b' 'one']\n",
    "#  ['b' 'two']\n",
    "#  ['a' 'one']]\n",
    "\n",
    "gb = df.groupby(['key1', 'key2'])\n",
    "print(gb.count())"
   ]
  },
  {
   "cell_type": "code",
   "execution_count": null,
   "metadata": {},
   "outputs": [],
   "source": [
    "print(df)\n",
    "print()\n",
    "\n",
    "# gb = df['key2'].groupby('key1')\n",
    "gb = df['key2'].groupby(df['key1'])\n",
    "print(gb.count())\n",
    "print()\n",
    "\n",
    "gb = df.groupby('key1')['key2']\n",
    "print(gb.count())\n",
    "print()\n",
    "\n",
    "gb = df.groupby('key1').key2\n",
    "print(gb.count())\n",
    "print()"
   ]
  },
  {
   "cell_type": "code",
   "execution_count": null,
   "metadata": {},
   "outputs": [],
   "source": [
    "print('df:')\n",
    "print(df)\n",
    "print()\n",
    "\n",
    "gb = df.groupby('key1')\n",
    "print(gb.groups)\n",
    "print()\n",
    "\n",
    "print('count:')\n",
    "print(gb.count())\n",
    "print()\n",
    "\n",
    "print('size:')\n",
    "print(gb.size())\n",
    "print()\n",
    "\n",
    "print('max:')\n",
    "print(gb.max())\n",
    "\n",
    "print('sum:')\n",
    "print(gb.sum())\n",
    "print()\n",
    "\n",
    "print('mean:')\n",
    "print(gb.mean())\n",
    "print()"
   ]
  },
  {
   "cell_type": "code",
   "execution_count": null,
   "metadata": {},
   "outputs": [],
   "source": [
    "print(df)\n",
    "print()\n",
    "\n",
    "gb = df.groupby('key1')\n",
    "print(gb.count())\n",
    "print()\n",
    "\n",
    "print(gb['data1'].transform(lambda x: np.mean(x)))\n",
    "print()\n",
    "print(gb['data1'].transform(np.mean))\n",
    "print()\n",
    "\n",
    "df['mean'] = gb['data1'].transform(np.mean)\n",
    "print()\n",
    "print(df)"
   ]
  },
  {
   "cell_type": "markdown",
   "metadata": {},
   "source": [
    "## 分段（分桶）cut\n",
    "## HW11"
   ]
  },
  {
   "cell_type": "code",
   "execution_count": null,
   "metadata": {},
   "outputs": [],
   "source": [
    "data_array = [[30, 1], \n",
    "              [32, 1],\n",
    "              [18, 0], \n",
    "              [55, 1], \n",
    "              [70, 0],\n",
    "              [12, 0],\n",
    "              [25, 1],\n",
    "              [28, 1],\n",
    "              [41, 1],\n",
    "              [85, 1],]\n",
    "df = DataFrame(data_array, columns=[\"Age\", \"Target\"])\n",
    "\n",
    "df = df.sort_values(by=\"Age\", ascending=False).reset_index(drop=True)\n",
    "print(df)"
   ]
  },
  {
   "cell_type": "code",
   "execution_count": null,
   "metadata": {},
   "outputs": [],
   "source": [
    "categorical = pd.cut(df['Age'].values, bins=[-np.inf, 20, 40, 60, 80, 100, np.inf], include_lowest=True)\n",
    "print(type(categorical))\n",
    "print()\n",
    "\n",
    "print(categorical)\n",
    "print()\n",
    "\n",
    "print(categorical.value_counts())\n",
    "print()"
   ]
  },
  {
   "cell_type": "code",
   "execution_count": null,
   "metadata": {},
   "outputs": [],
   "source": [
    "df['Age_Group'] = categorical\n",
    "print(df)\n",
    "\n",
    "df.boxplot(column=['Age'], by = ['Age_Group', 'Target'], figsize=(12,6))\n",
    "plt.show()"
   ]
  },
  {
   "cell_type": "markdown",
   "metadata": {},
   "source": [
    "## HW12"
   ]
  },
  {
   "cell_type": "code",
   "execution_count": null,
   "metadata": {},
   "outputs": [],
   "source": [
    "data_array = [[30, 1], \n",
    "              [32, 1],\n",
    "              [18, 0], \n",
    "              [55, 1], \n",
    "              [70, 0],\n",
    "              [12, 0],\n",
    "              [25, 1],\n",
    "              [28, 1],\n",
    "              [41, 1],\n",
    "              [85, 1],]\n",
    "df = DataFrame(data_array, columns=[\"Age\", \"Target\"])\n",
    "print(df)"
   ]
  },
  {
   "cell_type": "markdown",
   "metadata": {},
   "source": [
    "### 等寬劃分 cut"
   ]
  },
  {
   "cell_type": "code",
   "execution_count": null,
   "metadata": {},
   "outputs": [],
   "source": [
    "categorical_equal = pd.cut(df['Age'], 4)\n",
    "print(categorical_equal.value_counts())"
   ]
  },
  {
   "cell_type": "markdown",
   "metadata": {},
   "source": [
    "### 等頻劃分 qcut"
   ]
  },
  {
   "cell_type": "code",
   "execution_count": null,
   "metadata": {},
   "outputs": [],
   "source": [
    "categorical_equal = pd.qcut(df['Age'], 4)\n",
    "print(categorical_equal.value_counts())"
   ]
  },
  {
   "cell_type": "markdown",
   "metadata": {},
   "source": [
    "### 自訂 bin"
   ]
  },
  {
   "cell_type": "code",
   "execution_count": null,
   "metadata": {},
   "outputs": [],
   "source": [
    "rule = [-np.inf, 20, 40, 60, 80, 100, np.inf]\n",
    "print(rule)\n",
    "print()\n",
    "\n",
    "rule = np.linspace(-20, 120, num = 8)\n",
    "print(rule)\n",
    "\n",
    "categorical = pd.cut(df['Age'].values, bins=rule, include_lowest=True)\n",
    "print(categorical.value_counts())"
   ]
  },
  {
   "cell_type": "markdown",
   "metadata": {},
   "source": [
    "# 儲存數據："
   ]
  },
  {
   "cell_type": "code",
   "execution_count": null,
   "metadata": {},
   "outputs": [],
   "source": [
    "data_array = [[\"Taiwan\",0.26], \n",
    "              [\"China\",13.93], \n",
    "              [\"USA\", 3.29], \n",
    "              [\"Japan\", 1.26]]\n",
    "df = DataFrame(data_array, columns=[\"國家\", \"人口\"])\n",
    "print(df)"
   ]
  },
  {
   "cell_type": "code",
   "execution_count": null,
   "metadata": {},
   "outputs": [],
   "source": [
    "df.to_csv('test.csv', index=False)"
   ]
  },
  {
   "cell_type": "markdown",
   "metadata": {},
   "source": [
    "## HW16\n",
    "## 將 home_credit.csv 上傳到 Kaggle\n",
    "\n",
    "https://www.kaggle.com/c/home-credit-default-risk\n",
    "\n",
    "點選 Leaderboard，按 Late Submission"
   ]
  },
  {
   "cell_type": "code",
   "execution_count": null,
   "metadata": {},
   "outputs": [],
   "source": []
  }
 ],
 "metadata": {
  "kernelspec": {
   "display_name": "Python 3",
   "language": "python",
   "name": "python3"
  },
  "language_info": {
   "codemirror_mode": {
    "name": "ipython",
    "version": 3
   },
   "file_extension": ".py",
   "mimetype": "text/x-python",
   "name": "python",
   "nbconvert_exporter": "python",
   "pygments_lexer": "ipython3",
   "version": "3.6.7"
  }
 },
 "nbformat": 4,
 "nbformat_minor": 2
}
