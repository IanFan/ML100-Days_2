{
 "cells": [
  {
   "cell_type": "markdown",
   "metadata": {
    "colab_type": "text",
    "id": "s1SL1Zu8U6BK"
   },
   "source": [
    "## Work\n",
    "1. 請嘗試寫一個 callback 用來記錄各類別在訓練過程中，對驗證集的 True Positive 與 True Negative"
   ]
  },
  {
   "cell_type": "code",
   "execution_count": 1,
   "metadata": {
    "colab": {
     "base_uri": "https://localhost:8080/",
     "height": 34
    },
    "colab_type": "code",
    "executionInfo": {
     "elapsed": 2962,
     "status": "ok",
     "timestamp": 1563860143809,
     "user": {
      "displayName": "Ian Fan",
      "photoUrl": "https://lh6.googleusercontent.com/-aw0JecSePwQ/AAAAAAAAAAI/AAAAAAAAAzg/pB03Sr9kJz0/s64/photo.jpg",
      "userId": "11332184683163561655"
     },
     "user_tz": -480
    },
    "id": "KOLMgurJU7gN",
    "outputId": "d9ec64ea-a6bb-4d33-e706-86db54a998c5"
   },
   "outputs": [
    {
     "name": "stdout",
     "output_type": "stream",
     "text": [
      "Found GPU at: /device:GPU:0\n"
     ]
    }
   ],
   "source": [
    "import tensorflow as tf\n",
    "device_name = tf.test.gpu_device_name()\n",
    "if device_name != '/device:GPU:0':\n",
    "  raise SystemError('GPU device not found')\n",
    "print('Found GPU at: {}'.format(device_name))"
   ]
  },
  {
   "cell_type": "code",
   "execution_count": 0,
   "metadata": {
    "colab": {},
    "colab_type": "code",
    "id": "nlq7WSrdU6BL"
   },
   "outputs": [],
   "source": [
    "import os\n",
    "import keras\n",
    "\n",
    "# Disable GPU\n",
    "# os.environ[\"CUDA_VISIBLE_DEVICES\"] = \"\""
   ]
  },
  {
   "cell_type": "code",
   "execution_count": 0,
   "metadata": {
    "colab": {},
    "colab_type": "code",
    "id": "w75PJPOaU6BP"
   },
   "outputs": [],
   "source": [
    "train, test = keras.datasets.cifar10.load_data()"
   ]
  },
  {
   "cell_type": "code",
   "execution_count": 0,
   "metadata": {
    "colab": {},
    "colab_type": "code",
    "id": "lAeXvVrNU6BR"
   },
   "outputs": [],
   "source": [
    "## 資料前處理\n",
    "def preproc_x(x, flatten=True):\n",
    "    x = x / 255.\n",
    "    if flatten:\n",
    "        x = x.reshape((len(x), -1))\n",
    "    return x\n",
    "\n",
    "def preproc_y(y, num_classes=10):\n",
    "    if y.shape[-1] == 1:\n",
    "        y = keras.utils.to_categorical(y, num_classes)\n",
    "    return y    "
   ]
  },
  {
   "cell_type": "code",
   "execution_count": 0,
   "metadata": {
    "colab": {},
    "colab_type": "code",
    "id": "hGwYUfKfU6BU"
   },
   "outputs": [],
   "source": [
    "x_train, y_train = train\n",
    "x_test, y_test = test\n",
    "\n",
    "# Preproc the inputs\n",
    "x_train = preproc_x(x_train)\n",
    "x_test = preproc_x(x_test)\n",
    "\n",
    "# Preprc the outputs\n",
    "y_train = preproc_y(y_train)\n",
    "y_test = preproc_y(y_test)"
   ]
  },
  {
   "cell_type": "code",
   "execution_count": 0,
   "metadata": {
    "colab": {},
    "colab_type": "code",
    "id": "4iMucRZVU6BW"
   },
   "outputs": [],
   "source": [
    "from keras.layers import BatchNormalization\n",
    "def build_mlp(input_shape, output_units=10, num_neurons=[256, 256, 256]):\n",
    "    \"\"\"Code Here\n",
    "    建立你的神經網路\n",
    "    \"\"\"\n",
    "    input_layer = keras.layers.Input(input_shape)\n",
    "    \n",
    "    for i, n_units in enumerate(num_neurons):\n",
    "        if i == 0:\n",
    "            x = keras.layers.Dense(units=n_units, \n",
    "                                   activation=\"relu\", \n",
    "                                   name=\"hidden_layer\"+str(i+1))(input_layer)\n",
    "            x = BatchNormalization()(x)\n",
    "        else:\n",
    "            x = keras.layers.Dense(units=n_units, \n",
    "                                   activation=\"relu\", \n",
    "                                   name=\"hidden_layer\"+str(i+1))(x)\n",
    "            x = BatchNormalization()(x)\n",
    "    \n",
    "    out = keras.layers.Dense(units=output_units, activation=\"softmax\", name=\"output\")(x)\n",
    "    \n",
    "    model = keras.models.Model(inputs=[input_layer], outputs=[out])\n",
    "    return model"
   ]
  },
  {
   "cell_type": "code",
   "execution_count": 0,
   "metadata": {
    "colab": {},
    "colab_type": "code",
    "id": "eRUpledPU6BY"
   },
   "outputs": [],
   "source": [
    "## 超參數設定\n",
    "LEARNING_RATE = 1e-3\n",
    "EPOCHS = 25\n",
    "BATCH_SIZE = 1024\n",
    "MOMENTUM = 0.95"
   ]
  },
  {
   "cell_type": "code",
   "execution_count": 0,
   "metadata": {
    "colab": {},
    "colab_type": "code",
    "id": "8CSLwyczU6Ba"
   },
   "outputs": [],
   "source": [
    "# 載入 Callbacks\n",
    "from keras.callbacks import Callback\n",
    "\n",
    "def perf_measure(y_actual, y_hat):\n",
    "      TP = 0\n",
    "      FP = 0\n",
    "      TN = 0\n",
    "      FN = 0\n",
    "      for i in range(len(y_hat)): \n",
    "          if y_actual[i]==y_hat[i]==1:\n",
    "             TP += 1\n",
    "          if y_hat[i]==1 and y_actual[i]!=y_hat[i]:\n",
    "             FP += 1\n",
    "          if y_actual[i]==y_hat[i]==0:\n",
    "             TN += 1\n",
    "          if y_hat[i]==0 and y_actual[i]!=y_hat[i]:\n",
    "             FN += 1\n",
    "      return(TP, FP, TN, FN)\n",
    "\n",
    "# Record_fp_tp\n",
    "class Record_tp_tn(Callback):\n",
    "    \"\"\"Code Here\n",
    "    撰寫一個紀錄 ture positive 與 true negative 數量的 callbacks    \n",
    "    \"\"\"\n",
    "    def on_epoch_end(self, epoch, logs = {}, thres=0.5):\n",
    "        logs = logs or {}\n",
    "        y_true = self.validation_data[1].argmax(axis = 1)\n",
    "        y_pred = self.model.predict(self.validation_data[0])\n",
    "        y_pred = (y_pred[:, 1] >= thres) * 1\n",
    "        \n",
    "        tp, fp, tn, fn = perf_measure(y_true, y_pred)\n",
    "        \n",
    "        logs[\"val_tp\"] = tp\n",
    "        logs[\"val_tn\"] = tn\n",
    "        \n",
    "rec_tptn = Record_tp_tn()"
   ]
  },
  {
   "cell_type": "code",
   "execution_count": 15,
   "metadata": {
    "colab": {
     "base_uri": "https://localhost:8080/",
     "height": 1000
    },
    "colab_type": "code",
    "executionInfo": {
     "elapsed": 66459,
     "status": "ok",
     "timestamp": 1563861993284,
     "user": {
      "displayName": "Ian Fan",
      "photoUrl": "https://lh6.googleusercontent.com/-aw0JecSePwQ/AAAAAAAAAAI/AAAAAAAAAzg/pB03Sr9kJz0/s64/photo.jpg",
      "userId": "11332184683163561655"
     },
     "user_tz": -480
    },
    "id": "Ui15IQThU6Bc",
    "outputId": "f3c86928-7b41-4fd3-ad31-c98ecb13cc2b",
    "scrolled": true
   },
   "outputs": [
    {
     "name": "stdout",
     "output_type": "stream",
     "text": [
      "_________________________________________________________________\n",
      "Layer (type)                 Output Shape              Param #   \n",
      "=================================================================\n",
      "input_3 (InputLayer)         (None, 3072)              0         \n",
      "_________________________________________________________________\n",
      "hidden_layer1 (Dense)        (None, 256)               786688    \n",
      "_________________________________________________________________\n",
      "batch_normalization_7 (Batch (None, 256)               1024      \n",
      "_________________________________________________________________\n",
      "hidden_layer2 (Dense)        (None, 256)               65792     \n",
      "_________________________________________________________________\n",
      "batch_normalization_8 (Batch (None, 256)               1024      \n",
      "_________________________________________________________________\n",
      "hidden_layer3 (Dense)        (None, 256)               65792     \n",
      "_________________________________________________________________\n",
      "batch_normalization_9 (Batch (None, 256)               1024      \n",
      "_________________________________________________________________\n",
      "output (Dense)               (None, 10)                2570      \n",
      "=================================================================\n",
      "Total params: 923,914\n",
      "Trainable params: 922,378\n",
      "Non-trainable params: 1,536\n",
      "_________________________________________________________________\n",
      "Train on 50000 samples, validate on 10000 samples\n",
      "Epoch 1/25\n",
      "50000/50000 [==============================] - 3s 55us/step - loss: 2.2322 - acc: 0.2693 - val_loss: 2.2647 - val_acc: 0.3173\n",
      "Epoch 2/25\n",
      "50000/50000 [==============================] - 2s 36us/step - loss: 1.7581 - acc: 0.3849 - val_loss: 1.8435 - val_acc: 0.3750\n",
      "Epoch 3/25\n",
      "50000/50000 [==============================] - 2s 36us/step - loss: 1.6338 - acc: 0.4291 - val_loss: 1.7177 - val_acc: 0.3976\n",
      "Epoch 4/25\n",
      "50000/50000 [==============================] - 2s 37us/step - loss: 1.5622 - acc: 0.4516 - val_loss: 1.6414 - val_acc: 0.4263\n",
      "Epoch 5/25\n",
      "50000/50000 [==============================] - 2s 37us/step - loss: 1.5116 - acc: 0.4712 - val_loss: 1.6159 - val_acc: 0.4336\n",
      "Epoch 6/25\n",
      "50000/50000 [==============================] - 2s 37us/step - loss: 1.4686 - acc: 0.4854 - val_loss: 1.5920 - val_acc: 0.4421\n",
      "Epoch 7/25\n",
      "50000/50000 [==============================] - 2s 36us/step - loss: 1.4323 - acc: 0.4999 - val_loss: 1.5610 - val_acc: 0.4577\n",
      "Epoch 8/25\n",
      "50000/50000 [==============================] - 2s 36us/step - loss: 1.3989 - acc: 0.5094 - val_loss: 1.5334 - val_acc: 0.4634\n",
      "Epoch 9/25\n",
      "50000/50000 [==============================] - 2s 36us/step - loss: 1.3701 - acc: 0.5214 - val_loss: 1.5278 - val_acc: 0.4635\n",
      "Epoch 10/25\n",
      "50000/50000 [==============================] - 2s 35us/step - loss: 1.3434 - acc: 0.5308 - val_loss: 1.5066 - val_acc: 0.4674\n",
      "Epoch 11/25\n",
      "50000/50000 [==============================] - 2s 35us/step - loss: 1.3195 - acc: 0.5404 - val_loss: 1.5045 - val_acc: 0.4741\n",
      "Epoch 12/25\n",
      "50000/50000 [==============================] - 2s 36us/step - loss: 1.2954 - acc: 0.5484 - val_loss: 1.4956 - val_acc: 0.4768\n",
      "Epoch 13/25\n",
      "50000/50000 [==============================] - 2s 37us/step - loss: 1.2732 - acc: 0.5574 - val_loss: 1.4829 - val_acc: 0.4803\n",
      "Epoch 14/25\n",
      "50000/50000 [==============================] - 2s 37us/step - loss: 1.2511 - acc: 0.5644 - val_loss: 1.4805 - val_acc: 0.4834\n",
      "Epoch 15/25\n",
      "50000/50000 [==============================] - 2s 36us/step - loss: 1.2319 - acc: 0.5729 - val_loss: 1.4860 - val_acc: 0.4789\n",
      "Epoch 16/25\n",
      "50000/50000 [==============================] - 2s 36us/step - loss: 1.2119 - acc: 0.5801 - val_loss: 1.4743 - val_acc: 0.4833\n",
      "Epoch 17/25\n",
      "50000/50000 [==============================] - 2s 36us/step - loss: 1.1920 - acc: 0.5867 - val_loss: 1.4658 - val_acc: 0.4877\n",
      "Epoch 18/25\n",
      "50000/50000 [==============================] - 2s 36us/step - loss: 1.1734 - acc: 0.5942 - val_loss: 1.4602 - val_acc: 0.4928\n",
      "Epoch 19/25\n",
      "50000/50000 [==============================] - 2s 35us/step - loss: 1.1545 - acc: 0.6024 - val_loss: 1.4588 - val_acc: 0.4895\n",
      "Epoch 20/25\n",
      "50000/50000 [==============================] - 2s 36us/step - loss: 1.1381 - acc: 0.6076 - val_loss: 1.4680 - val_acc: 0.4850\n",
      "Epoch 21/25\n",
      "50000/50000 [==============================] - 2s 36us/step - loss: 1.1187 - acc: 0.6147 - val_loss: 1.4525 - val_acc: 0.4927\n",
      "Epoch 22/25\n",
      "50000/50000 [==============================] - 2s 36us/step - loss: 1.1025 - acc: 0.6201 - val_loss: 1.4541 - val_acc: 0.4928\n",
      "Epoch 23/25\n",
      "50000/50000 [==============================] - 2s 35us/step - loss: 1.0853 - acc: 0.6280 - val_loss: 1.4551 - val_acc: 0.4895\n",
      "Epoch 24/25\n",
      "50000/50000 [==============================] - 2s 36us/step - loss: 1.0690 - acc: 0.6353 - val_loss: 1.4502 - val_acc: 0.4914\n",
      "Epoch 25/25\n",
      "50000/50000 [==============================] - 2s 36us/step - loss: 1.0536 - acc: 0.6394 - val_loss: 1.4479 - val_acc: 0.4923\n"
     ]
    }
   ],
   "source": [
    "model = build_mlp(input_shape=x_train.shape[1:])\n",
    "model.summary()\n",
    "optimizer = keras.optimizers.SGD(lr=LEARNING_RATE, nesterov=True, momentum=MOMENTUM)\n",
    "model.compile(loss=\"categorical_crossentropy\", metrics=[\"accuracy\"], optimizer=optimizer)\n",
    "\n",
    "\"\"\"Code Here\n",
    "將 callbacks 放入模型訓練流程中\n",
    "\"\"\"\n",
    "model.fit(x_train, y_train, \n",
    "          epochs=EPOCHS, \n",
    "          batch_size=BATCH_SIZE, \n",
    "          validation_data=(x_test, y_test), \n",
    "          shuffle=True,\n",
    "          callbacks=[rec_tptn]\n",
    "         )\n",
    "\n",
    "# Collect results\n",
    "train_loss = model.history.history[\"loss\"]\n",
    "valid_loss = model.history.history[\"val_loss\"]\n",
    "train_acc = model.history.history[\"acc\"]\n",
    "valid_acc = model.history.history[\"val_acc\"]\n",
    "\n",
    "\"\"\"Code Here\n",
    "將 tp/tn 從訓練完的模型中取出\n",
    "\"\"\"\n",
    "valid_tp = model.history.history['val_tp']\n",
    "valid_tn = model.history.history['val_tn']"
   ]
  },
  {
   "cell_type": "code",
   "execution_count": 16,
   "metadata": {
    "colab": {
     "base_uri": "https://localhost:8080/",
     "height": 809
    },
    "colab_type": "code",
    "executionInfo": {
     "elapsed": 2058,
     "status": "ok",
     "timestamp": 1563862010292,
     "user": {
      "displayName": "Ian Fan",
      "photoUrl": "https://lh6.googleusercontent.com/-aw0JecSePwQ/AAAAAAAAAAI/AAAAAAAAAzg/pB03Sr9kJz0/s64/photo.jpg",
      "userId": "11332184683163561655"
     },
     "user_tz": -480
    },
    "id": "69mCfXp8U6Bd",
    "outputId": "b697ea73-3124-48d9-8fe8-97133cf891d6"
   },
   "outputs": [
    {
     "data": {
      "image/png": "[encoded data removed]",
      "text/plain": [
       "<Figure size 432x288 with 1 Axes>"
      ]
     },
     "metadata": {
      "tags": []
     },
     "output_type": "display_data"
    },
    {
     "data": {
      "image/png": "[encoded data removed]",
      "text/plain": [
       "<Figure size 432x288 with 1 Axes>"
      ]
     },
     "metadata": {
      "tags": []
     },
     "output_type": "display_data"
    },
    {
     "data": {
      "image/png": "[encoded data removed]",
      "text/plain": [
       "<Figure size 432x288 with 1 Axes>"
      ]
     },
     "metadata": {
      "tags": []
     },
     "output_type": "display_data"
    }
   ],
   "source": [
    "import matplotlib.pyplot as plt\n",
    "%matplotlib inline\n",
    "\n",
    "plt.plot(range(len(train_loss)), train_loss, label=\"train loss\")\n",
    "plt.plot(range(len(valid_loss)), valid_loss, label=\"valid loss\")\n",
    "plt.legend()\n",
    "plt.title(\"Loss\")\n",
    "plt.show()\n",
    "\n",
    "plt.plot(range(len(train_acc)), train_acc, label=\"train accuracy\")\n",
    "plt.plot(range(len(valid_acc)), valid_acc, label=\"valid accuracy\")\n",
    "plt.legend()\n",
    "plt.title(\"Accuracy\")\n",
    "plt.show()\n",
    "\n",
    "plt.plot(range(len(valid_tp)), valid_tp, label=\"valid tp\", color=\"navy\")\n",
    "plt.plot(range(len(valid_tn)), valid_tn, label=\"valid tn\", color=\"red\")\n",
    "plt.legend()\n",
    "plt.title(\"True positives and True Negatives\")\n",
    "plt.show()\n"
   ]
  },
  {
   "cell_type": "code",
   "execution_count": 0,
   "metadata": {
    "colab": {},
    "colab_type": "code",
    "id": "DVZ4EEVocIFr"
   },
   "outputs": [],
   "source": []
  }
 ],
 "metadata": {
  "accelerator": "GPU",
  "colab": {
   "collapsed_sections": [],
   "name": "Day_88_HW.ipynb",
   "provenance": [],
   "version": "0.3.2"
  },
  "kernelspec": {
   "display_name": "Python 3",
   "language": "python",
   "name": "python3"
  },
  "language_info": {
   "codemirror_mode": {
    "name": "ipython",
    "version": 3
   },
   "file_extension": ".py",
   "mimetype": "text/x-python",
   "name": "python",
   "nbconvert_exporter": "python",
   "pygments_lexer": "ipython3",
   "version": "3.6.8"
  }
 },
 "nbformat": 4,
 "nbformat_minor": 1
}
