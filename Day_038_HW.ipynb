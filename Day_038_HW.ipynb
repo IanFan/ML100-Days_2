{
 "cells": [
  {
   "cell_type": "markdown",
   "metadata": {},
   "source": [
    "## [作業重點]\n",
    "使用 Sklearn 中的線性迴歸模型，來訓練各種資料集，務必了解送進去模型訓練的**資料型態**為何，也請了解模型中各項參數的意義"
   ]
  },
  {
   "cell_type": "markdown",
   "metadata": {},
   "source": [
    "## 作業\n",
    "試著使用 sklearn datasets 的其他資料集 (wine, boston, ...)，來訓練自己的線性迴歸模型。"
   ]
  },
  {
   "cell_type": "markdown",
   "metadata": {},
   "source": [
    "### HINT: 注意 label 的型態，確定資料集的目標是分類還是回歸，在使用正確的模型訓練！"
   ]
  },
  {
   "cell_type": "code",
   "execution_count": 1,
   "metadata": {},
   "outputs": [],
   "source": [
    "from sklearn import datasets, linear_model, metrics\n",
    "from sklearn.metrics import mean_squared_error, r2_score, accuracy_score\n",
    "from sklearn.model_selection import train_test_split\n",
    "from sklearn.preprocessing import OneHotEncoder, LabelEncoder\n",
    "\n",
    "import numpy as np\n",
    "\n",
    "import matplotlib.pyplot as plt"
   ]
  },
  {
   "cell_type": "code",
   "execution_count": 2,
   "metadata": {},
   "outputs": [],
   "source": [
    "def data(dataset, is_regression):\n",
    "    print('data shape:', dataset.data.shape)\n",
    "    print('target shape:', dataset.target.shape)\n",
    "    \n",
    "    X = dataset.data\n",
    "    x_train, x_test, y_train, y_test = train_test_split(X, dataset.target, test_size=0.1, random_state=4)\n",
    "    print('x_train', x_train[0])\n",
    "    print('y_train', y_train[0])\n",
    "    print('x_test', x_test[0])\n",
    "    print('y_test', y_test[0])\n",
    "    \n",
    "    if is_regression:\n",
    "        model = linear_model.LinearRegression()\n",
    "    else:\n",
    "        model = linear_model.LogisticRegression(penalty='l2',solver='newton-cg',multi_class='multinomial')\n",
    "\n",
    "    model.fit(x_train, y_train)\n",
    "    y_pred = model.predict(x_test)\n",
    "    \n",
    "    if is_regression:\n",
    "        print(\"Mean squared error: %.2f\"% mean_squared_error(y_test, y_pred))\n",
    "    else:\n",
    "        print(\"r2_score: %.2f\"% r2_score(y_test, y_pred))\n",
    "        print('accuracy_score: %.2f'% accuracy_score(y_test, y_pred))\n",
    "    print()"
   ]
  },
  {
   "cell_type": "code",
   "execution_count": 3,
   "metadata": {},
   "outputs": [
    {
     "name": "stdout",
     "output_type": "stream",
     "text": [
      "data shape: (442, 10)\n",
      "target shape: (442,)\n",
      "x_train [-0.04547248 -0.04464164 -0.04824063 -0.01944209 -0.00019301 -0.01603186\n",
      "  0.06704829 -0.03949338 -0.02479119  0.01963284]\n",
      "y_train 111.0\n",
      "x_test [-0.04183994 -0.04464164 -0.04931844 -0.03665645 -0.00707277 -0.02260797\n",
      "  0.08545648 -0.03949338 -0.06648815  0.00720652]\n",
      "y_test 128.0\n",
      "Mean squared error: 2840.79\n",
      "\n"
     ]
    }
   ],
   "source": [
    "diabetes = datasets.load_diabetes()\n",
    "data(diabetes, True)"
   ]
  },
  {
   "cell_type": "code",
   "execution_count": 4,
   "metadata": {},
   "outputs": [
    {
     "name": "stdout",
     "output_type": "stream",
     "text": [
      "data shape: (506, 13)\n",
      "target shape: (506,)\n",
      "x_train [  2.44953   0.       19.58      0.        0.605     6.402    95.2\n",
      "   2.2625    5.      403.       14.7     330.04     11.32   ]\n",
      "y_train 22.3\n",
      "x_test [2.1124e-01 1.2500e+01 7.8700e+00 0.0000e+00 5.2400e-01 5.6310e+00\n",
      " 1.0000e+02 6.0821e+00 5.0000e+00 3.1100e+02 1.5200e+01 3.8663e+02\n",
      " 2.9930e+01]\n",
      "y_test 16.5\n",
      "Mean squared error: 17.04\n",
      "\n"
     ]
    }
   ],
   "source": [
    "boston = datasets.load_boston()\n",
    "data(boston, True)"
   ]
  },
  {
   "cell_type": "code",
   "execution_count": 5,
   "metadata": {},
   "outputs": [
    {
     "name": "stdout",
     "output_type": "stream",
     "text": [
      "data shape: (442, 10)\n",
      "target shape: (442,)\n",
      "x_train [-0.04547248 -0.04464164 -0.04824063 -0.01944209 -0.00019301 -0.01603186\n",
      "  0.06704829 -0.03949338 -0.02479119  0.01963284]\n",
      "y_train 111.0\n",
      "x_test [-0.04183994 -0.04464164 -0.04931844 -0.03665645 -0.00707277 -0.02260797\n",
      "  0.08545648 -0.03949338 -0.06648815  0.00720652]\n",
      "y_test 128.0\n",
      "Mean squared error: 2840.79\n",
      "\n"
     ]
    }
   ],
   "source": [
    "breast_cancer = datasets.load_breast_cancer()\n",
    "data(diabetes, True)"
   ]
  },
  {
   "cell_type": "code",
   "execution_count": 6,
   "metadata": {},
   "outputs": [
    {
     "name": "stdout",
     "output_type": "stream",
     "text": [
      "data shape: (150, 4)\n",
      "target shape: (150,)\n",
      "x_train [4.9 3.1 1.5 0.2]\n",
      "y_train 0\n",
      "x_test [6.4 2.8 5.6 2.1]\n",
      "y_test 2\n",
      "r2_score: 0.92\n",
      "accuracy_score: 0.93\n",
      "\n"
     ]
    }
   ],
   "source": [
    "iris = datasets.load_iris()\n",
    "data(iris, False)"
   ]
  },
  {
   "cell_type": "code",
   "execution_count": 7,
   "metadata": {},
   "outputs": [
    {
     "name": "stdout",
     "output_type": "stream",
     "text": [
      "data shape: (178, 13)\n",
      "target shape: (178,)\n",
      "x_train [1.229e+01 2.830e+00 2.220e+00 1.800e+01 8.800e+01 2.450e+00 2.250e+00\n",
      " 2.500e-01 1.990e+00 2.150e+00 1.150e+00 3.300e+00 2.900e+02]\n",
      "y_train 1\n",
      "x_test [1.296e+01 3.450e+00 2.350e+00 1.850e+01 1.060e+02 1.390e+00 7.000e-01\n",
      " 4.000e-01 9.400e-01 5.280e+00 6.800e-01 1.750e+00 6.750e+02]\n",
      "y_test 2\n",
      "r2_score: 1.00\n",
      "accuracy_score: 1.00\n",
      "\n"
     ]
    }
   ],
   "source": [
    "wine = datasets.load_wine()\n",
    "data(wine, False)"
   ]
  },
  {
   "cell_type": "code",
   "execution_count": null,
   "metadata": {},
   "outputs": [],
   "source": []
  }
 ],
 "metadata": {
  "kernelspec": {
   "display_name": "Python 3",
   "language": "python",
   "name": "python3"
  },
  "language_info": {
   "codemirror_mode": {
    "name": "ipython",
    "version": 3
   },
   "file_extension": ".py",
   "mimetype": "text/x-python",
   "name": "python",
   "nbconvert_exporter": "python",
   "pygments_lexer": "ipython3",
   "version": "3.6.7"
  }
 },
 "nbformat": 4,
 "nbformat_minor": 2
}
