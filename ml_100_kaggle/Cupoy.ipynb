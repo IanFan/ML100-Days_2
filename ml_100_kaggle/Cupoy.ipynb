{
 "cells": [
  {
   "cell_type": "code",
   "execution_count": 64,
   "metadata": {},
   "outputs": [],
   "source": [
    "import numpy as np\n",
    "\n",
    "import pandas as pd\n",
    "from pandas import DataFrame\n",
    "from pandas import Series\n",
    "from pandas import Index\n",
    "\n",
    "import matplotlib.pyplot as plt\n",
    "%matplotlib inline\n",
    "\n",
    "import os\n",
    "\n",
    "from sklearn import tree, preprocessing\n",
    "\n",
    "import missingno"
   ]
  },
  {
   "cell_type": "code",
   "execution_count": 12,
   "metadata": {},
   "outputs": [
    {
     "name": "stdout",
     "output_type": "stream",
     "text": [
      "(113, 22)\n",
      "Index(['name', 'bonus', 'deferral_payments', 'deferred_income',\n",
      "       'director_fees', 'email_address', 'exercised_stock_options', 'expenses',\n",
      "       'from_messages', 'from_poi_to_this_person', 'from_this_person_to_poi',\n",
      "       'loan_advances', 'long_term_incentive', 'other', 'poi',\n",
      "       'restricted_stock', 'restricted_stock_deferred', 'salary',\n",
      "       'shared_receipt_with_poi', 'to_messages', 'total_payments',\n",
      "       'total_stock_value'],\n",
      "      dtype='object')\n",
      "name                          object\n",
      "bonus                        float64\n",
      "deferral_payments            float64\n",
      "deferred_income              float64\n",
      "director_fees                float64\n",
      "email_address                 object\n",
      "exercised_stock_options      float64\n",
      "expenses                     float64\n",
      "from_messages                float64\n",
      "from_poi_to_this_person      float64\n",
      "from_this_person_to_poi      float64\n",
      "loan_advances                float64\n",
      "long_term_incentive          float64\n",
      "other                        float64\n",
      "poi                             bool\n",
      "restricted_stock             float64\n",
      "restricted_stock_deferred    float64\n",
      "salary                       float64\n",
      "shared_receipt_with_poi      float64\n",
      "to_messages                  float64\n",
      "total_payments               float64\n",
      "total_stock_value            float64\n",
      "dtype: object\n",
      "(113, 21)\n"
     ]
    }
   ],
   "source": [
    "train = pd.read_csv(os.path.join('./', 'train_data.csv'))\n",
    "print(train.shape)\n",
    "print(train.columns)\n",
    "print(train.dtypes)\n",
    "\n",
    "poi = train['poi']\n",
    "train = train.drop('poi', axis=1)\n",
    "print(train.shape)"
   ]
  },
  {
   "cell_type": "code",
   "execution_count": 9,
   "metadata": {},
   "outputs": [
    {
     "name": "stdout",
     "output_type": "stream",
     "text": [
      "(33, 21)\n",
      "Index(['name', 'bonus', 'deferral_payments', 'deferred_income',\n",
      "       'director_fees', 'email_address', 'exercised_stock_options', 'expenses',\n",
      "       'from_messages', 'from_poi_to_this_person', 'from_this_person_to_poi',\n",
      "       'loan_advances', 'long_term_incentive', 'other', 'restricted_stock',\n",
      "       'restricted_stock_deferred', 'salary', 'shared_receipt_with_poi',\n",
      "       'to_messages', 'total_payments', 'total_stock_value'],\n",
      "      dtype='object')\n",
      "name                          object\n",
      "bonus                        float64\n",
      "deferral_payments            float64\n",
      "deferred_income              float64\n",
      "director_fees                float64\n",
      "email_address                 object\n",
      "exercised_stock_options      float64\n",
      "expenses                     float64\n",
      "from_messages                float64\n",
      "from_poi_to_this_person      float64\n",
      "from_this_person_to_poi      float64\n",
      "loan_advances                float64\n",
      "long_term_incentive          float64\n",
      "other                        float64\n",
      "restricted_stock             float64\n",
      "restricted_stock_deferred    float64\n",
      "salary                       float64\n",
      "shared_receipt_with_poi      float64\n",
      "to_messages                  float64\n",
      "total_payments               float64\n",
      "total_stock_value            float64\n",
      "dtype: object\n"
     ]
    }
   ],
   "source": [
    "test = pd.read_csv(os.path.join('./', 'test_features.csv'))\n",
    "print(test.shape)\n",
    "print(test.columns)\n",
    "print(test.dtypes)"
   ]
  },
  {
   "cell_type": "code",
   "execution_count": 16,
   "metadata": {},
   "outputs": [
    {
     "name": "stdout",
     "output_type": "stream",
     "text": [
      "<class 'pandas.core.series.Series'>\n",
      "float64\n"
     ]
    }
   ],
   "source": [
    "print(type(poi))\n",
    "poi = poi.astype(float)\n",
    "print(poi.dtype)"
   ]
  },
  {
   "cell_type": "code",
   "execution_count": 17,
   "metadata": {},
   "outputs": [
    {
     "name": "stdout",
     "output_type": "stream",
     "text": [
      "(146, 21)\n"
     ]
    }
   ],
   "source": [
    "df = pd.concat([train, test])\n",
    "print(df.shape)"
   ]
  },
  {
   "cell_type": "code",
   "execution_count": 42,
   "metadata": {},
   "outputs": [
    {
     "name": "stdout",
     "output_type": "stream",
     "text": [
      "146\n",
      "bonus                         64\n",
      "deferral_payments            107\n",
      "deferred_income               97\n",
      "director_fees                129\n",
      "exercised_stock_options       44\n",
      "expenses                      51\n",
      "from_messages                 60\n",
      "from_poi_to_this_person       60\n",
      "from_this_person_to_poi       60\n",
      "loan_advances                142\n",
      "long_term_incentive           80\n",
      "other                         53\n",
      "restricted_stock              36\n",
      "restricted_stock_deferred    128\n",
      "salary                        51\n",
      "shared_receipt_with_poi       60\n",
      "to_messages                   60\n",
      "total_payments                21\n",
      "total_stock_value             20\n",
      "dtype: int64\n"
     ]
    },
    {
     "data": {
      "text/plain": [
       "<matplotlib.axes._subplots.AxesSubplot at 0x1a205fd978>"
      ]
     },
     "execution_count": 42,
     "metadata": {},
     "output_type": "execute_result"
    },
    {
     "data": {
      "image/png": "[encoded data removed]",
      "text/plain": [
       "<Figure size 720x216 with 2 Axes>"
      ]
     },
     "metadata": {
      "needs_background": "light"
     },
     "output_type": "display_data"
    },
    {
     "data": {
      "image/png": "[encoded data removed]",
      "text/plain": [
       "<Figure size 720x216 with 3 Axes>"
      ]
     },
     "metadata": {
      "needs_background": "light"
     },
     "output_type": "display_data"
    }
   ],
   "source": [
    "print(df.shape[0])\n",
    "print(df.isnull().sum())\n",
    "\n",
    "missingno.matrix(df, figsize = (10,3))\n",
    "\n",
    "missingno.bar(df, sort='ascending', figsize = (10,3))"
   ]
  },
  {
   "cell_type": "code",
   "execution_count": 43,
   "metadata": {},
   "outputs": [
    {
     "name": "stdout",
     "output_type": "stream",
     "text": [
      "(146, 18)\n"
     ]
    }
   ],
   "source": [
    "deferral_payments = df['deferral_payments']\n",
    "df = df.drop('deferral_payments', axis=1)\n",
    "print(df.shape)"
   ]
  },
  {
   "cell_type": "code",
   "execution_count": 46,
   "metadata": {},
   "outputs": [
    {
     "name": "stdout",
     "output_type": "stream",
     "text": [
      "(146, 15)\n"
     ]
    }
   ],
   "source": [
    "loan_advances = df['loan_advances']\n",
    "df = df.drop('loan_advances', axis=1)\n",
    "print(df.shape)"
   ]
  },
  {
   "cell_type": "code",
   "execution_count": 47,
   "metadata": {},
   "outputs": [
    {
     "name": "stdout",
     "output_type": "stream",
     "text": [
      "(146, 14)\n"
     ]
    }
   ],
   "source": [
    "restricted_stock_deferred = df['restricted_stock_deferred']\n",
    "df = df.drop('restricted_stock_deferred', axis=1)\n",
    "print(df.shape)"
   ]
  },
  {
   "cell_type": "code",
   "execution_count": 44,
   "metadata": {},
   "outputs": [
    {
     "name": "stdout",
     "output_type": "stream",
     "text": [
      "(146, 17)\n"
     ]
    }
   ],
   "source": [
    "deferred_income = df['deferred_income']\n",
    "df = df.drop('deferred_income', axis=1)\n",
    "print(df.shape)"
   ]
  },
  {
   "cell_type": "code",
   "execution_count": 45,
   "metadata": {},
   "outputs": [
    {
     "name": "stdout",
     "output_type": "stream",
     "text": [
      "(146, 16)\n"
     ]
    }
   ],
   "source": [
    "director_fees = df['director_fees']\n",
    "df = df.drop('director_fees', axis=1)\n",
    "print(df.shape)"
   ]
  },
  {
   "cell_type": "code",
   "execution_count": 26,
   "metadata": {},
   "outputs": [
    {
     "name": "stdout",
     "output_type": "stream",
     "text": [
      "(146, 20)\n"
     ]
    }
   ],
   "source": [
    "email_address = df['email_address']\n",
    "df = df.drop('email_address', axis=1)\n",
    "print(df.shape)"
   ]
  },
  {
   "cell_type": "code",
   "execution_count": 30,
   "metadata": {},
   "outputs": [
    {
     "name": "stdout",
     "output_type": "stream",
     "text": [
      "(146, 19)\n"
     ]
    }
   ],
   "source": [
    "name = df['name']\n",
    "df = df.drop('name', axis=1)\n",
    "print(df.shape)"
   ]
  },
  {
   "cell_type": "code",
   "execution_count": 37,
   "metadata": {},
   "outputs": [
    {
     "data": {
      "image/png": "[encoded data removed]",
      "text/plain": [
       "<Figure size 432x288 with 1 Axes>"
      ]
     },
     "metadata": {
      "needs_background": "light"
     },
     "output_type": "display_data"
    },
    {
     "name": "stdout",
     "output_type": "stream",
     "text": [
      "bonus\n",
      "97343619.0    1\n",
      "8000000.0     1\n",
      "7000000.0     1\n",
      "5600000.0     1\n",
      "5249999.0     1\n",
      "4175000.0     1\n",
      "3100000.0     1\n",
      "3000000.0     2\n",
      "2600000.0     1\n",
      "2500000.0     1\n",
      "2000000.0     2\n",
      "1750000.0     1\n",
      "1700000.0     1\n",
      "1500000.0     2\n",
      "1350000.0     1\n",
      "1300000.0     1\n",
      "1250000.0     1\n",
      "1200000.0     2\n",
      "1150000.0     1\n",
      "1100000.0     2\n",
      "1000000.0     6\n",
      "900000.0      2\n",
      "850000.0      3\n",
      "800000.0      4\n",
      "788750.0      1\n",
      "750000.0      4\n",
      "700000.0      5\n",
      "650000.0      1\n",
      "600000.0      6\n",
      "509870.0      1\n",
      "500000.0      2\n",
      "450000.0      1\n",
      "425000.0      1\n",
      "400000.0      4\n",
      "350000.0      2\n",
      "325000.0      3\n",
      "300000.0      3\n",
      "250000.0      2\n",
      "200000.0      3\n",
      "100000.0      2\n",
      "70000.0       1\n",
      "Name: bonus, dtype: int64\n"
     ]
    },
    {
     "data": {
      "image/png": "[encoded data removed]",
      "text/plain": [
       "<Figure size 432x288 with 1 Axes>"
      ]
     },
     "metadata": {
      "needs_background": "light"
     },
     "output_type": "display_data"
    },
    {
     "name": "stdout",
     "output_type": "stream",
     "text": [
      "deferral_payments\n",
      " 32083396.0    1\n",
      " 6426990.0     1\n",
      " 3131860.0     1\n",
      " 2964506.0     1\n",
      " 2869717.0     1\n",
      " 2157527.0     1\n",
      " 2144013.0     1\n",
      " 1848227.0     1\n",
      " 1295738.0     1\n",
      " 1130036.0     1\n",
      " 875307.0      1\n",
      " 842924.0      1\n",
      " 831299.0      1\n",
      " 774401.0      1\n",
      " 684694.0      1\n",
      " 649584.0      1\n",
      " 564348.0      1\n",
      " 504610.0      1\n",
      " 260455.0      1\n",
      " 227449.0      1\n",
      " 214678.0      1\n",
      " 204075.0      1\n",
      " 202911.0      1\n",
      " 187469.0      1\n",
      " 181993.0      1\n",
      " 181755.0      1\n",
      " 178980.0      1\n",
      " 93585.0       1\n",
      " 85430.0       1\n",
      " 77716.0       1\n",
      " 73122.0       1\n",
      " 53625.0       1\n",
      " 51365.0       1\n",
      " 50591.0       1\n",
      " 27610.0       1\n",
      " 16586.0       1\n",
      " 10259.0       1\n",
      " 7961.0        1\n",
      "-102500.0      1\n",
      "Name: deferral_payments, dtype: int64\n"
     ]
    },
    {
     "data": {
      "image/png": "[encoded data removed]",
      "text/plain": [
       "<Figure size 432x288 with 1 Axes>"
      ]
     },
     "metadata": {
      "needs_background": "light"
     },
     "output_type": "display_data"
    },
    {
     "name": "stdout",
     "output_type": "stream",
     "text": [
      "deferred_income\n",
      "-833.0         1\n",
      "-1042.0        1\n",
      "-4167.0        1\n",
      "-5104.0        1\n",
      "-10800.0       1\n",
      "-17500.0       1\n",
      "-25000.0       4\n",
      "-33333.0       1\n",
      "-36666.0       1\n",
      "-38346.0       1\n",
      "-41250.0       1\n",
      "-51042.0       1\n",
      "-75000.0       1\n",
      "-98784.0       1\n",
      "-100000.0      1\n",
      "-101250.0      1\n",
      "-103750.0      1\n",
      "-113784.0      1\n",
      "-121284.0      1\n",
      "-125000.0      1\n",
      "-144062.0      1\n",
      "-159792.0      1\n",
      "-200000.0      1\n",
      "-201641.0      1\n",
      "-235000.0      1\n",
      "-262500.0      1\n",
      "-280000.0      1\n",
      "-300000.0      2\n",
      "-400729.0      1\n",
      "-485813.0      1\n",
      "-575000.0      1\n",
      "-583325.0      1\n",
      "-694862.0      1\n",
      "-719000.0      1\n",
      "-775241.0      1\n",
      "-934484.0      1\n",
      "-1284000.0     1\n",
      "-1386055.0     2\n",
      "-2334434.0     1\n",
      "-3081055.0     1\n",
      "-3117011.0     1\n",
      "-3367011.0     1\n",
      "-3504386.0     1\n",
      "-27992891.0    1\n",
      "Name: deferred_income, dtype: int64\n"
     ]
    },
    {
     "data": {
      "image/png": "[encoded data removed]",
      "text/plain": [
       "<Figure size 432x288 with 1 Axes>"
      ]
     },
     "metadata": {
      "needs_background": "light"
     },
     "output_type": "display_data"
    },
    {
     "name": "stdout",
     "output_type": "stream",
     "text": [
      "director_fees\n",
      "1398517.0    1\n",
      "137864.0     1\n",
      "125034.0     1\n",
      "119292.0     1\n",
      "113784.0     1\n",
      "112492.0     1\n",
      "109298.0     1\n",
      "108750.0     1\n",
      "108579.0     1\n",
      "103750.0     1\n",
      "102492.0     1\n",
      "101250.0     1\n",
      "98784.0      1\n",
      "38346.0      1\n",
      "36666.0      1\n",
      "17500.0      1\n",
      "3285.0       1\n",
      "Name: director_fees, dtype: int64\n"
     ]
    },
    {
     "data": {
      "image/png": "[encoded data removed]",
      "text/plain": [
       "<Figure size 432x288 with 1 Axes>"
      ]
     },
     "metadata": {
      "needs_background": "light"
     },
     "output_type": "display_data"
    },
    {
     "name": "stdout",
     "output_type": "stream",
     "text": [
      "exercised_stock_options\n",
      "311764000.0    1\n",
      "34348384.0     1\n",
      "30766064.0     1\n",
      "19794175.0     1\n",
      "19250000.0     1\n",
      "15364167.0     1\n",
      "10433518.0     1\n",
      "8831913.0      1\n",
      "8308552.0      1\n",
      "8191755.0      1\n",
      "7509039.0      1\n",
      "6680544.0      1\n",
      "5538001.0      1\n",
      "5266578.0      1\n",
      "5210569.0      1\n",
      "5127155.0      1\n",
      "4890344.0      1\n",
      "4452476.0      1\n",
      "4346544.0      1\n",
      "4160672.0      1\n",
      "4158995.0      1\n",
      "4046157.0      1\n",
      "3282960.0      1\n",
      "3181250.0      1\n",
      "2604490.0      1\n",
      "2549361.0      1\n",
      "2542813.0      1\n",
      "2291113.0      1\n",
      "2282768.0      1\n",
      "2218275.0      1\n",
      "              ..\n",
      "608750.0       1\n",
      "607837.0       1\n",
      "601438.0       1\n",
      "591250.0       1\n",
      "506765.0       1\n",
      "493489.0       1\n",
      "436515.0       1\n",
      "431750.0       1\n",
      "412878.0       1\n",
      "400478.0       1\n",
      "384728.0       1\n",
      "372205.0       1\n",
      "371750.0       1\n",
      "343434.0       1\n",
      "281073.0       1\n",
      "257817.0       1\n",
      "192758.0       1\n",
      "187500.0       1\n",
      "185063.0       1\n",
      "176378.0       1\n",
      "139130.0       1\n",
      "117551.0       1\n",
      "98718.0        1\n",
      "83237.0        1\n",
      "81042.0        1\n",
      "59539.0        1\n",
      "28798.0        1\n",
      "17378.0        1\n",
      "9803.0         1\n",
      "3285.0         1\n",
      "Name: exercised_stock_options, Length: 101, dtype: int64\n"
     ]
    },
    {
     "data": {
      "image/png": "[encoded data removed]",
      "text/plain": [
       "<Figure size 432x288 with 1 Axes>"
      ]
     },
     "metadata": {
      "needs_background": "light"
     },
     "output_type": "display_data"
    },
    {
     "name": "stdout",
     "output_type": "stream",
     "text": [
      "expenses\n",
      "5235198.0    1\n",
      "228763.0     1\n",
      "228656.0     1\n",
      "178979.0     1\n",
      "137767.0     1\n",
      "137108.0     1\n",
      "129142.0     1\n",
      "127017.0     1\n",
      "125978.0     1\n",
      "118134.0     1\n",
      "116337.0     1\n",
      "116335.0     1\n",
      "103773.0     1\n",
      "99832.0      1\n",
      "98849.0      1\n",
      "96268.0      1\n",
      "95924.0      1\n",
      "94299.0      1\n",
      "86987.0      1\n",
      "86174.0      1\n",
      "84208.0      1\n",
      "83585.0      1\n",
      "81364.0      1\n",
      "81353.0      1\n",
      "78552.0      1\n",
      "77978.0      1\n",
      "76169.0      1\n",
      "65907.0      1\n",
      "63791.0      1\n",
      "59175.0      1\n",
      "            ..\n",
      "28164.0      1\n",
      "28093.0      1\n",
      "27942.0      1\n",
      "27861.0      1\n",
      "25785.0      1\n",
      "23870.0      1\n",
      "22884.0      1\n",
      "22344.0      1\n",
      "21530.0      1\n",
      "18834.0      1\n",
      "17355.0      1\n",
      "16514.0      2\n",
      "14689.0      1\n",
      "13868.0      1\n",
      "11892.0      1\n",
      "11200.0      1\n",
      "10181.0      1\n",
      "9410.0       1\n",
      "8409.0       1\n",
      "8211.0       1\n",
      "5774.0       1\n",
      "4994.0       1\n",
      "3486.0       1\n",
      "3475.0       1\n",
      "2151.0       1\n",
      "1413.0       1\n",
      "1279.0       1\n",
      "600.0        1\n",
      "475.0        1\n",
      "148.0        1\n",
      "Name: expenses, Length: 94, dtype: int64\n"
     ]
    },
    {
     "data": {
      "image/png": "[encoded data removed]",
      "text/plain": [
       "<Figure size 432x288 with 1 Axes>"
      ]
     },
     "metadata": {
      "needs_background": "light"
     },
     "output_type": "display_data"
    },
    {
     "name": "stdout",
     "output_type": "stream",
     "text": [
      "from_messages\n",
      "14368.0    1\n",
      "6759.0     1\n",
      "4343.0     1\n",
      "3069.0     1\n",
      "2742.0     1\n",
      "2681.0     1\n",
      "2585.0     1\n",
      "2195.0     1\n",
      "1941.0     1\n",
      "1728.0     1\n",
      "1215.0     1\n",
      "1073.0     1\n",
      "1061.0     1\n",
      "1053.0     1\n",
      "909.0      1\n",
      "556.0      1\n",
      "484.0      1\n",
      "230.0      1\n",
      "222.0      1\n",
      "221.0      1\n",
      "215.0      1\n",
      "146.0      1\n",
      "144.0      1\n",
      "136.0      1\n",
      "125.0      1\n",
      "108.0      1\n",
      "92.0       1\n",
      "82.0       1\n",
      "75.0       1\n",
      "74.0       1\n",
      "          ..\n",
      "56.0       1\n",
      "52.0       1\n",
      "49.0       2\n",
      "48.0       1\n",
      "45.0       1\n",
      "44.0       1\n",
      "41.0       2\n",
      "40.0       2\n",
      "39.0       1\n",
      "38.0       1\n",
      "36.0       2\n",
      "34.0       1\n",
      "33.0       1\n",
      "32.0       1\n",
      "30.0       1\n",
      "29.0       4\n",
      "28.0       1\n",
      "27.0       2\n",
      "26.0       2\n",
      "25.0       1\n",
      "22.0       1\n",
      "21.0       1\n",
      "19.0       4\n",
      "18.0       2\n",
      "17.0       1\n",
      "16.0       4\n",
      "15.0       1\n",
      "14.0       2\n",
      "13.0       2\n",
      "12.0       4\n",
      "Name: from_messages, Length: 64, dtype: int64\n"
     ]
    },
    {
     "data": {
      "image/png": "[encoded data removed]",
      "text/plain": [
       "<Figure size 432x288 with 1 Axes>"
      ]
     },
     "metadata": {
      "needs_background": "light"
     },
     "output_type": "display_data"
    },
    {
     "name": "stdout",
     "output_type": "stream",
     "text": [
      "from_poi_to_this_person\n",
      "528.0     1\n",
      "305.0     1\n",
      "251.0     1\n",
      "242.0     1\n",
      "240.0     1\n",
      "228.0     1\n",
      "204.0     1\n",
      "199.0     1\n",
      "188.0     1\n",
      "186.0     1\n",
      "180.0     1\n",
      "156.0     1\n",
      "144.0     1\n",
      "140.0     2\n",
      "123.0     1\n",
      "115.0     1\n",
      "106.0     1\n",
      "94.0      1\n",
      "92.0      1\n",
      "88.0      1\n",
      "74.0      1\n",
      "67.0      1\n",
      "66.0      1\n",
      "64.0      1\n",
      "61.0      1\n",
      "58.0      2\n",
      "54.0      1\n",
      "53.0      1\n",
      "52.0      2\n",
      "47.0      1\n",
      "44.0      1\n",
      "42.0      2\n",
      "41.0      1\n",
      "40.0      1\n",
      "39.0      2\n",
      "38.0      1\n",
      "37.0      1\n",
      "35.0      3\n",
      "32.0      1\n",
      "29.0      1\n",
      "28.0      2\n",
      "25.0      3\n",
      "24.0      1\n",
      "23.0      1\n",
      "22.0      1\n",
      "20.0      1\n",
      "17.0      1\n",
      "16.0      1\n",
      "13.0      2\n",
      "12.0      2\n",
      "11.0      1\n",
      "10.0      6\n",
      "8.0       1\n",
      "7.0       1\n",
      "4.0       2\n",
      "1.0       1\n",
      "0.0      12\n",
      "Name: from_poi_to_this_person, dtype: int64\n"
     ]
    },
    {
     "data": {
      "image/png": "[encoded data removed]",
      "text/plain": [
       "<Figure size 432x288 with 1 Axes>"
      ]
     },
     "metadata": {
      "needs_background": "light"
     },
     "output_type": "display_data"
    },
    {
     "name": "stdout",
     "output_type": "stream",
     "text": [
      "from_this_person_to_poi\n",
      "609.0     1\n",
      "411.0     1\n",
      "387.0     1\n",
      "386.0     1\n",
      "194.0     2\n",
      "171.0     1\n",
      "108.0     1\n",
      "83.0      1\n",
      "71.0      1\n",
      "65.0      2\n",
      "61.0      1\n",
      "49.0      1\n",
      "48.0      2\n",
      "38.0      1\n",
      "37.0      1\n",
      "30.0      1\n",
      "27.0      1\n",
      "26.0      1\n",
      "25.0      1\n",
      "24.0      1\n",
      "23.0      1\n",
      "21.0      1\n",
      "20.0      1\n",
      "19.0      1\n",
      "18.0      1\n",
      "17.0      1\n",
      "16.0      1\n",
      "15.0      4\n",
      "14.0      3\n",
      "13.0      1\n",
      "12.0      1\n",
      "11.0      3\n",
      "8.0       2\n",
      "7.0       3\n",
      "6.0       3\n",
      "5.0       2\n",
      "4.0       3\n",
      "3.0       2\n",
      "2.0       3\n",
      "1.0       6\n",
      "0.0      20\n",
      "Name: from_this_person_to_poi, dtype: int64\n"
     ]
    },
    {
     "data": {
      "image/png": "[encoded data removed]",
      "text/plain": [
       "<Figure size 432x288 with 1 Axes>"
      ]
     },
     "metadata": {
      "needs_background": "light"
     },
     "output_type": "display_data"
    },
    {
     "name": "stdout",
     "output_type": "stream",
     "text": [
      "loan_advances\n",
      "83925000.0    1\n",
      "81525000.0    1\n",
      "2000000.0     1\n",
      "400000.0      1\n",
      "Name: loan_advances, dtype: int64\n"
     ]
    },
    {
     "data": {
      "image/png": "[encoded data removed]",
      "text/plain": [
       "<Figure size 432x288 with 1 Axes>"
      ]
     },
     "metadata": {
      "needs_background": "light"
     },
     "output_type": "display_data"
    },
    {
     "name": "stdout",
     "output_type": "stream",
     "text": [
      "long_term_incentive\n",
      "48521928.0    1\n",
      "5145434.0     1\n",
      "3600000.0     1\n",
      "2234774.0     1\n",
      "2035380.0     1\n",
      "1920000.0     1\n",
      "1736055.0     1\n",
      "1725545.0     1\n",
      "1617011.0     3\n",
      "1586055.0     1\n",
      "1387399.0     1\n",
      "1294981.0     1\n",
      "1105218.0     1\n",
      "983346.0      1\n",
      "974293.0      1\n",
      "831809.0      1\n",
      "808346.0      1\n",
      "769862.0      1\n",
      "694862.0      2\n",
      "602671.0      1\n",
      "556416.0      2\n",
      "554422.0      4\n",
      "540751.0      1\n",
      "484000.0      1\n",
      "476451.0      1\n",
      "461912.0      1\n",
      "422158.0      1\n",
      "415657.0      1\n",
      "375304.0      2\n",
      "374347.0      1\n",
      "369721.0      1\n",
      "365625.0      1\n",
      "350000.0      1\n",
      "335349.0      1\n",
      "323466.0      1\n",
      "312500.0      1\n",
      "304805.0      3\n",
      "300000.0      2\n",
      "275000.0      2\n",
      "256191.0      1\n",
      "200000.0      2\n",
      "180250.0      1\n",
      "175000.0      2\n",
      "156250.0      1\n",
      "150000.0      1\n",
      "135836.0      1\n",
      "125000.0      1\n",
      "100000.0      1\n",
      "93750.0       1\n",
      "75000.0       1\n",
      "71023.0       1\n",
      "69223.0       1\n",
      "Name: long_term_incentive, dtype: int64\n"
     ]
    },
    {
     "data": {
      "image/png": "[encoded data removed]",
      "text/plain": [
       "<Figure size 432x288 with 1 Axes>"
      ]
     },
     "metadata": {
      "needs_background": "light"
     },
     "output_type": "display_data"
    },
    {
     "name": "stdout",
     "output_type": "stream",
     "text": [
      "other\n",
      "42667589.0    1\n",
      "10359729.0    1\n",
      "7427621.0     1\n",
      "2818454.0     1\n",
      "2660303.0     1\n",
      "1852186.0     1\n",
      "1829457.0     1\n",
      "1573324.0     1\n",
      "1553729.0     1\n",
      "1085463.0     1\n",
      "907502.0      1\n",
      "864523.0      1\n",
      "819288.0      1\n",
      "680833.0      1\n",
      "465357.0      1\n",
      "427316.0      1\n",
      "426629.0      1\n",
      "425688.0      1\n",
      "416441.0      1\n",
      "401481.0      1\n",
      "401130.0      1\n",
      "400572.0      1\n",
      "374689.0      1\n",
      "362096.0      1\n",
      "356071.0      1\n",
      "307895.0      1\n",
      "301026.0      1\n",
      "297353.0      1\n",
      "285414.0      1\n",
      "277464.0      1\n",
      "             ..\n",
      "1661.0        1\n",
      "1621.0        1\n",
      "1568.0        1\n",
      "1552.0        1\n",
      "1425.0        1\n",
      "1411.0        1\n",
      "1231.0        1\n",
      "1215.0        1\n",
      "1191.0        1\n",
      "1105.0        1\n",
      "972.0         1\n",
      "947.0         1\n",
      "891.0         1\n",
      "874.0         1\n",
      "778.0         1\n",
      "774.0         1\n",
      "713.0         1\n",
      "705.0         1\n",
      "566.0         1\n",
      "540.0         2\n",
      "494.0         1\n",
      "486.0         1\n",
      "473.0         1\n",
      "330.0         1\n",
      "272.0         1\n",
      "176.0         1\n",
      "162.0         1\n",
      "152.0         1\n",
      "69.0          1\n",
      "2.0           1\n",
      "Name: other, Length: 92, dtype: int64\n"
     ]
    },
    {
     "data": {
      "image/png": "[encoded data removed]",
      "text/plain": [
       "<Figure size 432x288 with 1 Axes>"
      ]
     },
     "metadata": {
      "needs_background": "light"
     },
     "output_type": "display_data"
    },
    {
     "name": "stdout",
     "output_type": "stream",
     "text": [
      "restricted_stock\n",
      " 130322299.0    1\n",
      " 14761694.0     1\n",
      " 13847074.0     1\n",
      " 8453763.0      1\n",
      " 6843672.0      1\n",
      " 4188667.0      1\n",
      " 4131594.0      1\n",
      " 3942714.0      1\n",
      " 3654808.0      1\n",
      " 3576206.0      1\n",
      " 2796177.0      1\n",
      " 2748364.0      1\n",
      " 2502063.0      1\n",
      " 2217299.0      1\n",
      " 2046079.0      1\n",
      " 2041016.0      1\n",
      " 1794412.0      1\n",
      " 1788391.0      1\n",
      " 1787380.0      1\n",
      " 1757552.0      1\n",
      " 1552453.0      1\n",
      " 1478269.0      1\n",
      " 1392142.0      1\n",
      " 1323148.0      1\n",
      " 1293424.0      1\n",
      " 1248318.0      1\n",
      " 1034346.0      1\n",
      " 1008149.0      1\n",
      " 985032.0       1\n",
      " 969729.0       1\n",
      "               ..\n",
      " 363428.0       1\n",
      " 360528.0       2\n",
      " 346663.0       1\n",
      " 315068.0       3\n",
      " 307301.0       1\n",
      " 283649.0       1\n",
      " 264013.0       1\n",
      " 259907.0       1\n",
      " 252055.0       1\n",
      " 235370.0       1\n",
      " 213063.0       1\n",
      " 208809.0       1\n",
      " 208510.0       1\n",
      " 207940.0       1\n",
      " 201483.0       1\n",
      " 196983.0       1\n",
      " 189041.0       3\n",
      " 161602.0       1\n",
      " 157569.0       1\n",
      " 153686.0       1\n",
      " 151418.0       1\n",
      " 145796.0       1\n",
      " 141833.0       1\n",
      " 126027.0       5\n",
      " 94556.0        1\n",
      " 75838.0        1\n",
      " 47304.0        1\n",
      " 44093.0        1\n",
      " 32460.0        1\n",
      "-2604490.0      1\n",
      "Name: restricted_stock, Length: 97, dtype: int64\n"
     ]
    },
    {
     "data": {
      "image/png": "[encoded data removed]",
      "text/plain": [
       "<Figure size 432x288 with 1 Axes>"
      ]
     },
     "metadata": {
      "needs_background": "light"
     },
     "output_type": "display_data"
    },
    {
     "name": "stdout",
     "output_type": "stream",
     "text": [
      "restricted_stock_deferred\n",
      " 15456290.0    1\n",
      " 44093.0       1\n",
      "-32460.0       1\n",
      "-44093.0       1\n",
      "-72419.0       1\n",
      "-82782.0       1\n",
      "-94556.0       1\n",
      "-126027.0      1\n",
      "-140264.0      1\n",
      "-153686.0      1\n",
      "-307301.0      1\n",
      "-315068.0      1\n",
      "-329825.0      1\n",
      "-409554.0      1\n",
      "-472568.0      1\n",
      "-560222.0      1\n",
      "-1787380.0     1\n",
      "-7576788.0     1\n",
      "Name: restricted_stock_deferred, dtype: int64\n"
     ]
    },
    {
     "data": {
      "image/png": "[encoded data removed]",
      "text/plain": [
       "<Figure size 432x288 with 1 Axes>"
      ]
     },
     "metadata": {
      "needs_background": "light"
     },
     "output_type": "display_data"
    },
    {
     "name": "stdout",
     "output_type": "stream",
     "text": [
      "salary\n",
      "26704229.0    1\n",
      "1111258.0     1\n",
      "1072321.0     1\n",
      "1060932.0     1\n",
      "655037.0      1\n",
      "510364.0      1\n",
      "492375.0      1\n",
      "440698.0      1\n",
      "428780.0      1\n",
      "420636.0      1\n",
      "415189.0      1\n",
      "404338.0      1\n",
      "374125.0      1\n",
      "370448.0      1\n",
      "365788.0      1\n",
      "365163.0      1\n",
      "365038.0      1\n",
      "357091.0      1\n",
      "349487.0      1\n",
      "339288.0      1\n",
      "330546.0      1\n",
      "329078.0      1\n",
      "317543.0      1\n",
      "314288.0      1\n",
      "309946.0      1\n",
      "304588.0      1\n",
      "304110.0      1\n",
      "288589.0      1\n",
      "288558.0      1\n",
      "288542.0      1\n",
      "             ..\n",
      "222093.0      1\n",
      "221003.0      1\n",
      "216582.0      1\n",
      "213999.0      1\n",
      "213625.0      1\n",
      "211844.0      1\n",
      "211788.0      1\n",
      "210692.0      1\n",
      "210500.0      1\n",
      "206121.0      1\n",
      "201955.0      1\n",
      "199157.0      1\n",
      "197091.0      1\n",
      "192008.0      1\n",
      "187922.0      1\n",
      "184899.0      1\n",
      "182245.0      1\n",
      "174246.0      1\n",
      "170941.0      1\n",
      "162779.0      1\n",
      "158403.0      1\n",
      "130724.0      1\n",
      "96840.0       1\n",
      "94941.0       1\n",
      "85274.0       1\n",
      "80818.0       1\n",
      "76399.0       1\n",
      "63744.0       1\n",
      "6615.0        1\n",
      "477.0         1\n",
      "Name: salary, Length: 94, dtype: int64\n"
     ]
    },
    {
     "data": {
      "image/png": "[encoded data removed]",
      "text/plain": [
       "<Figure size 432x288 with 1 Axes>"
      ]
     },
     "metadata": {
      "needs_background": "light"
     },
     "output_type": "display_data"
    },
    {
     "name": "stdout",
     "output_type": "stream",
     "text": [
      "shared_receipt_with_poi\n",
      "5521.0    1\n",
      "4527.0    1\n",
      "3962.0    1\n",
      "3920.0    1\n",
      "3669.0    1\n",
      "3639.0    1\n",
      "2979.0    1\n",
      "2672.0    1\n",
      "2639.0    1\n",
      "2565.0    1\n",
      "2477.0    1\n",
      "2411.0    1\n",
      "2333.0    1\n",
      "2326.0    1\n",
      "2271.0    1\n",
      "2228.0    1\n",
      "2189.0    1\n",
      "2188.0    1\n",
      "2103.0    1\n",
      "2097.0    1\n",
      "2042.0    1\n",
      "1902.0    1\n",
      "1847.0    1\n",
      "1730.0    1\n",
      "1604.0    1\n",
      "1593.0    1\n",
      "1585.0    1\n",
      "1469.0    1\n",
      "1407.0    1\n",
      "1401.0    1\n",
      "         ..\n",
      "508.0     1\n",
      "477.0     1\n",
      "471.0     1\n",
      "465.0     1\n",
      "463.0     1\n",
      "437.0     1\n",
      "395.0     1\n",
      "379.0     1\n",
      "337.0     1\n",
      "300.0     1\n",
      "233.0     1\n",
      "215.0     1\n",
      "196.0     1\n",
      "178.0     1\n",
      "127.0     1\n",
      "119.0     1\n",
      "117.0     1\n",
      "114.0     2\n",
      "91.0      1\n",
      "73.0      1\n",
      "71.0      1\n",
      "58.0      1\n",
      "50.0      1\n",
      "41.0      1\n",
      "23.0      2\n",
      "22.0      1\n",
      "12.0      1\n",
      "10.0      1\n",
      "3.0       1\n",
      "2.0       1\n",
      "Name: shared_receipt_with_poi, Length: 83, dtype: int64\n"
     ]
    },
    {
     "data": {
      "image/png": "[encoded data removed]",
      "text/plain": [
       "<Figure size 432x288 with 1 Axes>"
      ]
     },
     "metadata": {
      "needs_background": "light"
     },
     "output_type": "display_data"
    },
    {
     "name": "stdout",
     "output_type": "stream",
     "text": [
      "to_messages\n",
      "15149.0    1\n",
      "12754.0    1\n",
      "8305.0     1\n",
      "7991.0     1\n",
      "7315.0     1\n",
      "7259.0     1\n",
      "6019.0     1\n",
      "4607.0     1\n",
      "4273.0     1\n",
      "4009.0     1\n",
      "3627.0     1\n",
      "3523.0     1\n",
      "3329.0     1\n",
      "3275.0     1\n",
      "3221.0     1\n",
      "3187.0     1\n",
      "3136.0     1\n",
      "3093.0     1\n",
      "2902.0     1\n",
      "2822.0     1\n",
      "2649.0     1\n",
      "2647.0     1\n",
      "2598.0     1\n",
      "2572.0     1\n",
      "2475.0     1\n",
      "2374.0     1\n",
      "2355.0     1\n",
      "2350.0     1\n",
      "2192.0     1\n",
      "2181.0     1\n",
      "          ..\n",
      "719.0      1\n",
      "714.0      1\n",
      "672.0      1\n",
      "671.0      1\n",
      "653.0      1\n",
      "613.0      1\n",
      "573.0      1\n",
      "566.0      1\n",
      "533.0      1\n",
      "523.0      1\n",
      "517.0      1\n",
      "504.0      1\n",
      "496.0      1\n",
      "460.0      1\n",
      "400.0      1\n",
      "383.0      1\n",
      "312.0      1\n",
      "266.0      1\n",
      "258.0      1\n",
      "232.0      1\n",
      "225.0      1\n",
      "209.0      1\n",
      "176.0      1\n",
      "169.0      1\n",
      "136.0      1\n",
      "128.0      1\n",
      "111.0      1\n",
      "102.0      1\n",
      "58.0       1\n",
      "57.0       1\n",
      "Name: to_messages, Length: 86, dtype: int64\n"
     ]
    },
    {
     "data": {
      "image/png": "[encoded data removed]",
      "text/plain": [
       "<Figure size 432x288 with 1 Axes>"
      ]
     },
     "metadata": {
      "needs_background": "light"
     },
     "output_type": "display_data"
    },
    {
     "name": "stdout",
     "output_type": "stream",
     "text": [
      "total_payments\n",
      "309886585.0    1\n",
      "103559793.0    1\n",
      "17252530.0     1\n",
      "15456290.0     1\n",
      "10425757.0     1\n",
      "8682716.0      1\n",
      "8407016.0      1\n",
      "5634343.0      1\n",
      "5501630.0      1\n",
      "4747979.0      1\n",
      "4677574.0      1\n",
      "4484442.0      1\n",
      "4335388.0      1\n",
      "4099771.0      1\n",
      "3859065.0      1\n",
      "3676340.0      1\n",
      "3471141.0      1\n",
      "3202070.0      1\n",
      "3131860.0      1\n",
      "3123383.0      1\n",
      "3100224.0      1\n",
      "3038702.0      1\n",
      "2692324.0      1\n",
      "2669589.0      1\n",
      "2664228.0      1\n",
      "2652612.0      1\n",
      "2424083.0      1\n",
      "2368151.0      1\n",
      "2355702.0      1\n",
      "2146973.0      1\n",
      "              ..\n",
      "360300.0       1\n",
      "319941.0       1\n",
      "288682.0       1\n",
      "249787.0       1\n",
      "228656.0       1\n",
      "228474.0       1\n",
      "213071.0       1\n",
      "211725.0       1\n",
      "189583.0       1\n",
      "182466.0       1\n",
      "181755.0       1\n",
      "119292.0       1\n",
      "111529.0       1\n",
      "102500.0       1\n",
      "91093.0        1\n",
      "87492.0        1\n",
      "87410.0        1\n",
      "84992.0        1\n",
      "83750.0        1\n",
      "77492.0        1\n",
      "55097.0        1\n",
      "50591.0        1\n",
      "49288.0        1\n",
      "27942.0        1\n",
      "7961.0         1\n",
      "3750.0         1\n",
      "2151.0         1\n",
      "1279.0         1\n",
      "475.0          1\n",
      "148.0          1\n",
      "Name: total_payments, Length: 125, dtype: int64\n"
     ]
    },
    {
     "data": {
      "image/png": "[encoded data removed]",
      "text/plain": [
       "<Figure size 432x288 with 1 Axes>"
      ]
     },
     "metadata": {
      "needs_background": "light"
     },
     "output_type": "display_data"
    },
    {
     "name": "stdout",
     "output_type": "stream",
     "text": [
      "total_stock_value\n",
      " 434509511.0    1\n",
      " 49110078.0     1\n",
      " 30766064.0     1\n",
      " 26093672.0     1\n",
      " 23817930.0     1\n",
      " 22542539.0     1\n",
      " 15144123.0     1\n",
      " 14622185.0     1\n",
      " 11884758.0     1\n",
      " 10623258.0     1\n",
      " 8831913.0      1\n",
      " 8317782.0      1\n",
      " 7890324.0      1\n",
      " 7307594.0      1\n",
      " 7256648.0      1\n",
      " 6678735.0      1\n",
      " 6391065.0      1\n",
      " 6153642.0      1\n",
      " 6079137.0      1\n",
      " 6077885.0      1\n",
      " 5898997.0      1\n",
      " 5819980.0      1\n",
      " 5243487.0      1\n",
      " 5167144.0      1\n",
      " 4817796.0      1\n",
      " 4221891.0      1\n",
      " 3745048.0      1\n",
      " 3614261.0      1\n",
      " 3444470.0      1\n",
      " 3128982.0      1\n",
      "               ..\n",
      " 441096.0       1\n",
      " 431750.0       1\n",
      " 417619.0       1\n",
      " 412878.0       1\n",
      " 384930.0       1\n",
      " 372205.0       1\n",
      " 371750.0       1\n",
      " 368705.0       1\n",
      " 360528.0       1\n",
      " 346663.0       1\n",
      " 343434.0       1\n",
      " 318607.0       1\n",
      " 257817.0       1\n",
      " 252055.0       1\n",
      " 221141.0       1\n",
      " 208510.0       1\n",
      " 207940.0       1\n",
      " 192758.0       1\n",
      " 189518.0       1\n",
      " 176378.0       1\n",
      " 159211.0       1\n",
      " 151418.0       1\n",
      " 139130.0       1\n",
      " 126027.0       2\n",
      " 98718.0        1\n",
      " 85641.0        1\n",
      " 63014.0        1\n",
      " 47304.0        1\n",
      " 28798.0        1\n",
      "-44093.0        1\n",
      "Name: total_stock_value, Length: 124, dtype: int64\n"
     ]
    }
   ],
   "source": [
    "for col in df.columns:\n",
    "    df[col].hist()\n",
    "    plt.title(col)\n",
    "    plt.show()\n",
    "    print(col)\n",
    "    print(df[col].value_counts().sort_index(ascending= False))"
   ]
  },
  {
   "cell_type": "code",
   "execution_count": 62,
   "metadata": {
    "scrolled": true
   },
   "outputs": [
    {
     "name": "stdout",
     "output_type": "stream",
     "text": [
      "1034861.2195121954\n",
      "2924000.000000004\n",
      "--------\n",
      "2135352.965686275\n",
      "7351624.950000009\n",
      "--------\n",
      "51122.70526315789\n",
      "116983.92000000001\n",
      "--------\n",
      "327.7151162790698\n",
      "1781.25\n",
      "--------\n",
      "56.73255813953488\n",
      "186.5\n",
      "--------\n",
      "19.72093023255814\n",
      "74.0\n",
      "--------\n",
      "666149.7727272727\n",
      "1728172.5\n",
      "--------\n",
      "238106.39784946232\n",
      "1021397.0399999991\n",
      "--------\n",
      "810522.320909091\n",
      "2748842.13\n",
      "--------\n",
      "259962.1052631579\n",
      "417149.92000000004\n",
      "--------\n",
      "1058.906976744186\n",
      "2583.5\n",
      "--------\n",
      "1650.5697674418604\n",
      "4075.0\n",
      "--------\n",
      "1498188.8288000003\n",
      "4184593.1200000024\n",
      "--------\n",
      "2286912.4523809524\n",
      "7453276.5\n",
      "--------\n"
     ]
    }
   ],
   "source": [
    "for col in df.columns:\n",
    "#     print(df[col][df[col]>np.percentile(df[~df[col].isnull()][col], q=95)])\n",
    "    df[col][df[col]>np.percentile(df[~df[col].isnull()][col], q=90)] = np.percentile(df[~df[col].isnull()][col], q=90)\n",
    "    print(df[~df[col].isnull()][col].mean())\n",
    "    print(np.percentile(df[~df[col].isnull()][col], q=90))\n",
    "    print('--------')\n",
    "#     df[col].replace({df[col].max(): np.df[col]})"
   ]
  },
  {
   "cell_type": "code",
   "execution_count": 67,
   "metadata": {},
   "outputs": [],
   "source": [
    "for col in df.columns:\n",
    "    df[col].fillna(df[col].mean(), inplace=True)"
   ]
  },
  {
   "cell_type": "code",
   "execution_count": 68,
   "metadata": {},
   "outputs": [
    {
     "name": "stdout",
     "output_type": "stream",
     "text": [
      "113\n",
      "146\n",
      "(113, 14)\n",
      "(33, 14)\n"
     ]
    }
   ],
   "source": [
    "print(len(train.index.values))\n",
    "print(len(df))\n",
    "train_df = df.iloc[:len(train.index.values), :]\n",
    "test_df = df.iloc[len(train.index.values):, :]\n",
    "print(train_df.shape)\n",
    "print(test_df.shape)"
   ]
  },
  {
   "cell_type": "code",
   "execution_count": 69,
   "metadata": {},
   "outputs": [],
   "source": [
    "target = poi.values\n",
    "features = train_df.values\n",
    "\n",
    "tree_classifier = tree.DecisionTreeClassifier()\n",
    "model = tree_classifier.fit(features, target)"
   ]
  },
  {
   "cell_type": "code",
   "execution_count": 70,
   "metadata": {},
   "outputs": [
    {
     "name": "stdout",
     "output_type": "stream",
     "text": [
      "                         Importance\n",
      "exercised_stock_options    0.194616\n",
      "other                      0.181607\n",
      "bonus                      0.163548\n",
      "total_payments             0.162981\n",
      "expenses                   0.157009\n",
      "salary                     0.065192\n",
      "shared_receipt_with_poi    0.065192\n",
      "from_this_person_to_poi    0.009855\n",
      "from_messages              0.000000\n",
      "from_poi_to_this_person    0.000000\n",
      "long_term_incentive        0.000000\n",
      "restricted_stock           0.000000\n",
      "to_messages                0.000000\n",
      "total_stock_value          0.000000\n",
      "1.0\n",
      "[0.1946163  0.37622344 0.53977146 0.70275223 0.85976073 0.92495304\n",
      " 0.99014535 1.         1.         1.         1.         1.\n",
      " 1.         1.        ]\n"
     ]
    }
   ],
   "source": [
    "importance = pd.DataFrame(np.array(model.feature_importances_)[:np.newaxis], index=train_df.columns.values, columns=['Importance'])\n",
    "importance = importance.sort_values(by='Importance', ascending=False)\n",
    "print(importance)\n",
    "\n",
    "print(model.score(features, target))\n",
    "\n",
    "print(importance.values.cumsum())"
   ]
  },
  {
   "cell_type": "code",
   "execution_count": 76,
   "metadata": {},
   "outputs": [
    {
     "name": "stdout",
     "output_type": "stream",
     "text": [
      "0         BELDEN TIMOTHY N\n",
      "1       BOWEN JR RAYMOND M\n",
      "2           HANNON KEVIN P\n",
      "3         DELAINEY DAVID W\n",
      "4         CAUSEY RICHARD A\n",
      "5         HICKERSON GARY J\n",
      "6           FREVERT MARK A\n",
      "7              CHAN RONNIE\n",
      "8     DONAHUE JR JEFFREY M\n",
      "9        REYNOLDS LAWRENCE\n",
      "10        HORTON STANLEY C\n",
      "11           LEWIS RICHARD\n",
      "12      SHERRICK JEFFREY B\n",
      "13          MEYER JEROME J\n",
      "14     DERRICK JR. JAMES V\n",
      "15                PIRO JIM\n",
      "16     DETMERING TIMOTHY J\n",
      "17       KISHKILL JOSEPH G\n",
      "18          BAY FRANKLIN R\n",
      "19          PRENTICE JAMES\n",
      "20                   TOTAL\n",
      "21          FALLON JAMES B\n",
      "22              METTS MARK\n",
      "23           WODRASKA JOHN\n",
      "24     MORDAUNT KRISTINA M\n",
      "25        CARTER REBECCA C\n",
      "26        BHATNAGAR SANJAY\n",
      "27        WALTERS GARETH W\n",
      "28         BIBI PHILIPPE A\n",
      "29         SHERRIFF JOHN R\n",
      "30            GIBBS DANA R\n",
      "31          LINDHOLM TOD A\n",
      "32         MCMAHON JEFFREY\n",
      "Name: name, dtype: object\n"
     ]
    }
   ],
   "source": [
    "features_test = test_df.values\n",
    "\n",
    "test_predict = model.predict(features_test)\n",
    "df = pd.DataFrame({'poi':test_predict, 'name':name.iloc[len(train.index.values):]})\n",
    "df.to_csv('predict.csv', index=False)\n",
    "\n",
    "# https://www.kaggle.com/c/titanic"
   ]
  },
  {
   "cell_type": "code",
   "execution_count": null,
   "metadata": {},
   "outputs": [],
   "source": []
  }
 ],
 "metadata": {
  "kernelspec": {
   "display_name": "Python 3",
   "language": "python",
   "name": "python3"
  },
  "language_info": {
   "codemirror_mode": {
    "name": "ipython",
    "version": 3
   },
   "file_extension": ".py",
   "mimetype": "text/x-python",
   "name": "python",
   "nbconvert_exporter": "python",
   "pygments_lexer": "ipython3",
   "version": "3.6.7"
  }
 },
 "nbformat": 4,
 "nbformat_minor": 2
}
