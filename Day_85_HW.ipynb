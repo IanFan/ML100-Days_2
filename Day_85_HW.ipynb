{
 "cells": [
  {
   "cell_type": "markdown",
   "metadata": {},
   "source": [
    "## Work\n",
    "1. 試改變 monitor \"Validation Accuracy\" 並比較結果\n",
    "2. 調整 earlystop 的等待次數至 10, 25 並比較結果"
   ]
  },
  {
   "cell_type": "code",
   "execution_count": 1,
   "metadata": {},
   "outputs": [
    {
     "name": "stderr",
     "output_type": "stream",
     "text": [
      "Using TensorFlow backend.\n"
     ]
    }
   ],
   "source": [
    "import os\n",
    "import keras\n",
    "import matplotlib.pyplot as plt\n",
    "%matplotlib inline\n",
    "\n",
    "\n",
    "# Disable GPU\n",
    "os.environ[\"CUDA_VISIBLE_DEVICES\"] = \"\""
   ]
  },
  {
   "cell_type": "code",
   "execution_count": 2,
   "metadata": {},
   "outputs": [],
   "source": [
    "train, test = keras.datasets.cifar10.load_data()"
   ]
  },
  {
   "cell_type": "code",
   "execution_count": 3,
   "metadata": {},
   "outputs": [],
   "source": [
    "## 資料前處理\n",
    "def preproc_x(x, flatten=True):\n",
    "    x = x / 255.\n",
    "    if flatten:\n",
    "        x = x.reshape((len(x), -1))\n",
    "    return x\n",
    "\n",
    "def preproc_y(y, num_classes=10):\n",
    "    if y.shape[-1] == 1:\n",
    "        y = keras.utils.to_categorical(y, num_classes)\n",
    "    return y    "
   ]
  },
  {
   "cell_type": "code",
   "execution_count": 4,
   "metadata": {},
   "outputs": [],
   "source": [
    "x_train, y_train = train\n",
    "x_test, y_test = test\n",
    "\n",
    "# Preproc the inputs\n",
    "x_train = preproc_x(x_train)\n",
    "x_test = preproc_x(x_test)\n",
    "\n",
    "# Preprc the outputs\n",
    "y_train = preproc_y(y_train)\n",
    "y_test = preproc_y(y_test)"
   ]
  },
  {
   "cell_type": "code",
   "execution_count": 5,
   "metadata": {},
   "outputs": [],
   "source": [
    "from keras.layers import BatchNormalization\n",
    "\n",
    "\"\"\"Code Here\n",
    "建立你的神經網路\n",
    "\"\"\"\n",
    "def build_mlp(input_shape, output_units=10, num_neurons=[512, 256, 128]):\n",
    "    input_layer = keras.layers.Input(input_shape)\n",
    "    \n",
    "    for i, n_units in enumerate(num_neurons):\n",
    "        if i == 0:\n",
    "            x = keras.layers.Dense(units=n_units, \n",
    "                                   activation=\"relu\", \n",
    "                                   name=\"hidden_layer\"+str(i+1))(input_layer)\n",
    "            x = BatchNormalization()(x)\n",
    "        else:\n",
    "            x = keras.layers.Dense(units=n_units, \n",
    "                                   activation=\"relu\", \n",
    "                                   name=\"hidden_layer\"+str(i+1))(x)\n",
    "            x = BatchNormalization()(x)\n",
    "    \n",
    "    out = keras.layers.Dense(units=output_units, activation=\"softmax\", name=\"output\")(x)\n",
    "    \n",
    "    model = keras.models.Model(inputs=[input_layer], outputs=[out])\n",
    "    return model"
   ]
  },
  {
   "cell_type": "code",
   "execution_count": 6,
   "metadata": {},
   "outputs": [],
   "source": [
    "\"\"\"Code Here\n",
    "設定超參數\n",
    "\"\"\"\n",
    "LEARNING_RATE = 1e-3\n",
    "EPOCHS = 50\n",
    "BATCH_SIZE = 1024\n",
    "MOMENTUM = 0.95\n",
    "PATIENCE = [10, 25]"
   ]
  },
  {
   "cell_type": "code",
   "execution_count": 7,
   "metadata": {},
   "outputs": [
    {
     "name": "stderr",
     "output_type": "stream",
     "text": [
      "WARNING: Logging before flag parsing goes to stderr.\n",
      "W0722 14:05:08.863332 4508378560 deprecation_wrapper.py:119] From /Users/ianfan/anaconda3/envs/tensorflow/lib/python3.6/site-packages/keras/backend/tensorflow_backend.py:74: The name tf.get_default_graph is deprecated. Please use tf.compat.v1.get_default_graph instead.\n",
      "\n",
      "W0722 14:05:08.877418 4508378560 deprecation_wrapper.py:119] From /Users/ianfan/anaconda3/envs/tensorflow/lib/python3.6/site-packages/keras/backend/tensorflow_backend.py:517: The name tf.placeholder is deprecated. Please use tf.compat.v1.placeholder instead.\n",
      "\n",
      "W0722 14:05:08.879983 4508378560 deprecation_wrapper.py:119] From /Users/ianfan/anaconda3/envs/tensorflow/lib/python3.6/site-packages/keras/backend/tensorflow_backend.py:4138: The name tf.random_uniform is deprecated. Please use tf.random.uniform instead.\n",
      "\n",
      "W0722 14:05:08.948037 4508378560 deprecation_wrapper.py:119] From /Users/ianfan/anaconda3/envs/tensorflow/lib/python3.6/site-packages/keras/backend/tensorflow_backend.py:133: The name tf.placeholder_with_default is deprecated. Please use tf.compat.v1.placeholder_with_default instead.\n",
      "\n",
      "W0722 14:05:09.128499 4508378560 deprecation_wrapper.py:119] From /Users/ianfan/anaconda3/envs/tensorflow/lib/python3.6/site-packages/keras/optimizers.py:790: The name tf.train.Optimizer is deprecated. Please use tf.compat.v1.train.Optimizer instead.\n",
      "\n",
      "W0722 14:05:09.134835 4508378560 deprecation_wrapper.py:119] From /Users/ianfan/anaconda3/envs/tensorflow/lib/python3.6/site-packages/keras/backend/tensorflow_backend.py:3295: The name tf.log is deprecated. Please use tf.math.log instead.\n",
      "\n",
      "W0722 14:05:09.212674 4508378560 deprecation.py:323] From /Users/ianfan/anaconda3/envs/tensorflow/lib/python3.6/site-packages/tensorflow/python/ops/math_grad.py:1250: add_dispatch_support.<locals>.wrapper (from tensorflow.python.ops.array_ops) is deprecated and will be removed in a future version.\n",
      "Instructions for updating:\n",
      "Use tf.where in 2.0, which has the same broadcast rule as np.where\n"
     ]
    },
    {
     "name": "stdout",
     "output_type": "stream",
     "text": [
      "_________________________________________________________________\n",
      "Layer (type)                 Output Shape              Param #   \n",
      "=================================================================\n",
      "input_1 (InputLayer)         (None, 3072)              0         \n",
      "_________________________________________________________________\n",
      "hidden_layer1 (Dense)        (None, 512)               1573376   \n",
      "_________________________________________________________________\n",
      "batch_normalization_1 (Batch (None, 512)               2048      \n",
      "_________________________________________________________________\n",
      "hidden_layer2 (Dense)        (None, 256)               131328    \n",
      "_________________________________________________________________\n",
      "batch_normalization_2 (Batch (None, 256)               1024      \n",
      "_________________________________________________________________\n",
      "hidden_layer3 (Dense)        (None, 128)               32896     \n",
      "_________________________________________________________________\n",
      "batch_normalization_3 (Batch (None, 128)               512       \n",
      "_________________________________________________________________\n",
      "output (Dense)               (None, 10)                1290      \n",
      "=================================================================\n",
      "Total params: 1,742,474\n",
      "Trainable params: 1,740,682\n",
      "Non-trainable params: 1,792\n",
      "_________________________________________________________________\n",
      "Train on 50000 samples, validate on 10000 samples\n",
      "Epoch 1/50\n",
      "50000/50000 [==============================] - 4s 78us/step - loss: 2.1980 - acc: 0.2734 - val_loss: 2.0332 - val_acc: 0.3129\n",
      "Epoch 2/50\n",
      "50000/50000 [==============================] - 3s 64us/step - loss: 1.7518 - acc: 0.3905 - val_loss: 1.8101 - val_acc: 0.3775\n",
      "Epoch 3/50\n",
      "50000/50000 [==============================] - 3s 61us/step - loss: 1.6249 - acc: 0.4326 - val_loss: 1.6894 - val_acc: 0.4117\n",
      "Epoch 4/50\n",
      "50000/50000 [==============================] - 3s 63us/step - loss: 1.5498 - acc: 0.4565 - val_loss: 1.6484 - val_acc: 0.4230\n",
      "Epoch 5/50\n",
      "50000/50000 [==============================] - 3s 63us/step - loss: 1.4953 - acc: 0.4776 - val_loss: 1.6001 - val_acc: 0.4353\n",
      "Epoch 6/50\n",
      "50000/50000 [==============================] - 3s 63us/step - loss: 1.4482 - acc: 0.4943 - val_loss: 1.5775 - val_acc: 0.4469\n",
      "Epoch 7/50\n",
      "50000/50000 [==============================] - 3s 68us/step - loss: 1.4070 - acc: 0.5086 - val_loss: 1.5617 - val_acc: 0.4481\n",
      "Epoch 8/50\n",
      "50000/50000 [==============================] - 3s 69us/step - loss: 1.3708 - acc: 0.5216 - val_loss: 1.5341 - val_acc: 0.4636\n",
      "Epoch 9/50\n",
      "50000/50000 [==============================] - 3s 67us/step - loss: 1.3370 - acc: 0.5330 - val_loss: 1.5160 - val_acc: 0.4659\n",
      "Epoch 10/50\n",
      "50000/50000 [==============================] - 4s 71us/step - loss: 1.3056 - acc: 0.5464 - val_loss: 1.5085 - val_acc: 0.4680\n",
      "Epoch 11/50\n",
      "50000/50000 [==============================] - 3s 66us/step - loss: 1.2765 - acc: 0.5580 - val_loss: 1.4996 - val_acc: 0.4718\n",
      "Epoch 12/50\n",
      "50000/50000 [==============================] - 3s 65us/step - loss: 1.2506 - acc: 0.5674 - val_loss: 1.4897 - val_acc: 0.4775\n",
      "Epoch 13/50\n",
      "50000/50000 [==============================] - 3s 67us/step - loss: 1.2238 - acc: 0.5770 - val_loss: 1.4871 - val_acc: 0.4764\n",
      "Epoch 14/50\n",
      "50000/50000 [==============================] - 3s 65us/step - loss: 1.1977 - acc: 0.5874 - val_loss: 1.4707 - val_acc: 0.4850\n",
      "Epoch 15/50\n",
      "50000/50000 [==============================] - 3s 66us/step - loss: 1.1735 - acc: 0.5943 - val_loss: 1.4741 - val_acc: 0.4860\n",
      "Epoch 16/50\n",
      "50000/50000 [==============================] - 3s 70us/step - loss: 1.1502 - acc: 0.6038 - val_loss: 1.4816 - val_acc: 0.4800\n",
      "Epoch 17/50\n",
      "50000/50000 [==============================] - 3s 69us/step - loss: 1.1272 - acc: 0.6142 - val_loss: 1.4612 - val_acc: 0.4908\n",
      "Epoch 18/50\n",
      "50000/50000 [==============================] - 3s 70us/step - loss: 1.1044 - acc: 0.6224 - val_loss: 1.4830 - val_acc: 0.4856\n",
      "Epoch 19/50\n",
      "50000/50000 [==============================] - 3s 69us/step - loss: 1.0844 - acc: 0.6292 - val_loss: 1.4643 - val_acc: 0.4843\n",
      "Epoch 20/50\n",
      "50000/50000 [==============================] - 4s 72us/step - loss: 1.0596 - acc: 0.6384 - val_loss: 1.4662 - val_acc: 0.4902\n",
      "Epoch 21/50\n",
      "50000/50000 [==============================] - 3s 69us/step - loss: 1.0393 - acc: 0.6451 - val_loss: 1.4746 - val_acc: 0.4860\n",
      "Epoch 22/50\n",
      "50000/50000 [==============================] - 3s 68us/step - loss: 1.0167 - acc: 0.6540 - val_loss: 1.4675 - val_acc: 0.4936\n",
      "Epoch 23/50\n",
      "50000/50000 [==============================] - 3s 68us/step - loss: 0.9964 - acc: 0.6622 - val_loss: 1.4627 - val_acc: 0.4905\n",
      "Epoch 24/50\n",
      "50000/50000 [==============================] - 4s 74us/step - loss: 0.9753 - acc: 0.6691 - val_loss: 1.4742 - val_acc: 0.4850\n",
      "Epoch 25/50\n",
      "50000/50000 [==============================] - 3s 68us/step - loss: 0.9539 - acc: 0.6795 - val_loss: 1.4758 - val_acc: 0.4891\n",
      "Epoch 26/50\n",
      "50000/50000 [==============================] - 5s 102us/step - loss: 0.9343 - acc: 0.6851 - val_loss: 1.4759 - val_acc: 0.4918\n",
      "Epoch 27/50\n",
      "50000/50000 [==============================] - 5s 101us/step - loss: 0.9161 - acc: 0.6915 - val_loss: 1.4771 - val_acc: 0.4895\n",
      "Epoch 00027: early stopping\n",
      "_________________________________________________________________\n",
      "Layer (type)                 Output Shape              Param #   \n",
      "=================================================================\n",
      "input_2 (InputLayer)         (None, 3072)              0         \n",
      "_________________________________________________________________\n",
      "hidden_layer1 (Dense)        (None, 512)               1573376   \n",
      "_________________________________________________________________\n",
      "batch_normalization_4 (Batch (None, 512)               2048      \n",
      "_________________________________________________________________\n",
      "hidden_layer2 (Dense)        (None, 256)               131328    \n",
      "_________________________________________________________________\n",
      "batch_normalization_5 (Batch (None, 256)               1024      \n",
      "_________________________________________________________________\n",
      "hidden_layer3 (Dense)        (None, 128)               32896     \n",
      "_________________________________________________________________\n",
      "batch_normalization_6 (Batch (None, 128)               512       \n",
      "_________________________________________________________________\n",
      "output (Dense)               (None, 10)                1290      \n",
      "=================================================================\n",
      "Total params: 1,742,474\n",
      "Trainable params: 1,740,682\n",
      "Non-trainable params: 1,792\n",
      "_________________________________________________________________\n",
      "Train on 50000 samples, validate on 10000 samples\n",
      "Epoch 1/50\n",
      "50000/50000 [==============================] - 8s 157us/step - loss: 2.2086 - acc: 0.2669 - val_loss: 2.0870 - val_acc: 0.3187\n",
      "Epoch 2/50\n",
      "50000/50000 [==============================] - 6s 111us/step - loss: 1.7410 - acc: 0.3920 - val_loss: 1.8109 - val_acc: 0.3798\n",
      "Epoch 3/50\n",
      "50000/50000 [==============================] - 5s 100us/step - loss: 1.6163 - acc: 0.4341 - val_loss: 1.6916 - val_acc: 0.4074\n",
      "Epoch 4/50\n",
      "50000/50000 [==============================] - 5s 100us/step - loss: 1.5442 - acc: 0.4582 - val_loss: 1.6364 - val_acc: 0.4229\n",
      "Epoch 5/50\n",
      "50000/50000 [==============================] - 5s 104us/step - loss: 1.4889 - acc: 0.4802 - val_loss: 1.5895 - val_acc: 0.4433\n",
      "Epoch 6/50\n",
      "50000/50000 [==============================] - 5s 103us/step - loss: 1.4426 - acc: 0.4967 - val_loss: 1.5628 - val_acc: 0.4529\n",
      "Epoch 7/50\n",
      "50000/50000 [==============================] - 5s 105us/step - loss: 1.4018 - acc: 0.5116 - val_loss: 1.5380 - val_acc: 0.4665\n",
      "Epoch 8/50\n",
      "50000/50000 [==============================] - 5s 107us/step - loss: 1.3670 - acc: 0.5241 - val_loss: 1.5260 - val_acc: 0.4644\n",
      "Epoch 9/50\n",
      "50000/50000 [==============================] - 5s 100us/step - loss: 1.3334 - acc: 0.5383 - val_loss: 1.5266 - val_acc: 0.4653\n",
      "Epoch 10/50\n",
      "50000/50000 [==============================] - 5s 96us/step - loss: 1.3046 - acc: 0.5475 - val_loss: 1.4931 - val_acc: 0.4782\n",
      "Epoch 11/50\n",
      "50000/50000 [==============================] - 5s 96us/step - loss: 1.2764 - acc: 0.5597 - val_loss: 1.4778 - val_acc: 0.4836\n",
      "Epoch 12/50\n"
     ]
    },
    {
     "name": "stdout",
     "output_type": "stream",
     "text": [
      "50000/50000 [==============================] - 5s 97us/step - loss: 1.2484 - acc: 0.5684 - val_loss: 1.4830 - val_acc: 0.4797\n",
      "Epoch 13/50\n",
      "50000/50000 [==============================] - 5s 97us/step - loss: 1.2224 - acc: 0.5786 - val_loss: 1.4703 - val_acc: 0.4874\n",
      "Epoch 14/50\n",
      "50000/50000 [==============================] - 5s 97us/step - loss: 1.1983 - acc: 0.5860 - val_loss: 1.4685 - val_acc: 0.4865\n",
      "Epoch 15/50\n",
      "50000/50000 [==============================] - 5s 93us/step - loss: 1.1728 - acc: 0.5976 - val_loss: 1.4612 - val_acc: 0.4838\n",
      "Epoch 16/50\n",
      "50000/50000 [==============================] - 5s 95us/step - loss: 1.1500 - acc: 0.6069 - val_loss: 1.4566 - val_acc: 0.4924\n",
      "Epoch 17/50\n",
      "50000/50000 [==============================] - 5s 97us/step - loss: 1.1279 - acc: 0.6142 - val_loss: 1.4686 - val_acc: 0.4880\n",
      "Epoch 18/50\n",
      "50000/50000 [==============================] - 5s 97us/step - loss: 1.1074 - acc: 0.6228 - val_loss: 1.4572 - val_acc: 0.4897\n",
      "Epoch 19/50\n",
      "50000/50000 [==============================] - 5s 95us/step - loss: 1.0831 - acc: 0.6302 - val_loss: 1.4545 - val_acc: 0.4931\n",
      "Epoch 20/50\n",
      "50000/50000 [==============================] - 5s 95us/step - loss: 1.0618 - acc: 0.6382 - val_loss: 1.4560 - val_acc: 0.4958\n",
      "Epoch 21/50\n",
      "50000/50000 [==============================] - 5s 99us/step - loss: 1.0415 - acc: 0.6482 - val_loss: 1.4552 - val_acc: 0.4953\n",
      "Epoch 22/50\n",
      "50000/50000 [==============================] - 5s 102us/step - loss: 1.0209 - acc: 0.6545 - val_loss: 1.4529 - val_acc: 0.4954\n",
      "Epoch 23/50\n",
      "50000/50000 [==============================] - 5s 95us/step - loss: 1.0011 - acc: 0.6619 - val_loss: 1.4564 - val_acc: 0.4978\n",
      "Epoch 24/50\n",
      "50000/50000 [==============================] - 5s 94us/step - loss: 0.9781 - acc: 0.6718 - val_loss: 1.4597 - val_acc: 0.4986\n",
      "Epoch 25/50\n",
      "50000/50000 [==============================] - 5s 95us/step - loss: 0.9578 - acc: 0.6781 - val_loss: 1.4835 - val_acc: 0.4942\n",
      "Epoch 26/50\n",
      "50000/50000 [==============================] - 5s 97us/step - loss: 0.9408 - acc: 0.6855 - val_loss: 1.4679 - val_acc: 0.4969\n",
      "Epoch 27/50\n",
      "50000/50000 [==============================] - 5s 97us/step - loss: 0.9199 - acc: 0.6946 - val_loss: 1.4775 - val_acc: 0.4937\n",
      "Epoch 28/50\n",
      "50000/50000 [==============================] - 5s 96us/step - loss: 0.8992 - acc: 0.7013 - val_loss: 1.4835 - val_acc: 0.4961\n",
      "Epoch 29/50\n",
      "50000/50000 [==============================] - 5s 95us/step - loss: 0.8794 - acc: 0.7084 - val_loss: 1.4852 - val_acc: 0.4953\n",
      "Epoch 30/50\n",
      "50000/50000 [==============================] - 5s 94us/step - loss: 0.8600 - acc: 0.7176 - val_loss: 1.4895 - val_acc: 0.4970\n",
      "Epoch 31/50\n",
      "50000/50000 [==============================] - 5s 94us/step - loss: 0.8417 - acc: 0.7232 - val_loss: 1.4825 - val_acc: 0.4987\n",
      "Epoch 32/50\n",
      "50000/50000 [==============================] - 5s 94us/step - loss: 0.8212 - acc: 0.7327 - val_loss: 1.5109 - val_acc: 0.4942\n",
      "Epoch 33/50\n",
      "50000/50000 [==============================] - 5s 98us/step - loss: 0.8020 - acc: 0.7380 - val_loss: 1.5101 - val_acc: 0.4959\n",
      "Epoch 34/50\n",
      "50000/50000 [==============================] - 5s 101us/step - loss: 0.7821 - acc: 0.7478 - val_loss: 1.5119 - val_acc: 0.4964\n",
      "Epoch 35/50\n",
      "50000/50000 [==============================] - 5s 99us/step - loss: 0.7626 - acc: 0.7555 - val_loss: 1.5411 - val_acc: 0.4933\n",
      "Epoch 36/50\n",
      "50000/50000 [==============================] - 5s 94us/step - loss: 0.7449 - acc: 0.7632 - val_loss: 1.5342 - val_acc: 0.4910\n",
      "Epoch 37/50\n",
      "50000/50000 [==============================] - 5s 92us/step - loss: 0.7269 - acc: 0.7714 - val_loss: 1.5365 - val_acc: 0.4891\n",
      "Epoch 38/50\n",
      "50000/50000 [==============================] - 5s 95us/step - loss: 0.7073 - acc: 0.7773 - val_loss: 1.5572 - val_acc: 0.4896\n",
      "Epoch 39/50\n",
      "50000/50000 [==============================] - 5s 97us/step - loss: 0.6905 - acc: 0.7848 - val_loss: 1.5668 - val_acc: 0.4898\n",
      "Epoch 40/50\n",
      "50000/50000 [==============================] - 5s 95us/step - loss: 0.6726 - acc: 0.7922 - val_loss: 1.5689 - val_acc: 0.4938\n",
      "Epoch 41/50\n",
      "50000/50000 [==============================] - 5s 94us/step - loss: 0.6529 - acc: 0.7999 - val_loss: 1.5685 - val_acc: 0.4945\n",
      "Epoch 42/50\n",
      "50000/50000 [==============================] - 5s 92us/step - loss: 0.6344 - acc: 0.8084 - val_loss: 1.5890 - val_acc: 0.4933\n",
      "Epoch 43/50\n",
      "50000/50000 [==============================] - 5s 96us/step - loss: 0.6184 - acc: 0.8125 - val_loss: 1.5922 - val_acc: 0.4922\n",
      "Epoch 44/50\n",
      "50000/50000 [==============================] - 5s 99us/step - loss: 0.5999 - acc: 0.8207 - val_loss: 1.6192 - val_acc: 0.4863\n",
      "Epoch 45/50\n",
      "50000/50000 [==============================] - 5s 94us/step - loss: 0.5837 - acc: 0.8264 - val_loss: 1.6361 - val_acc: 0.4848\n",
      "Epoch 46/50\n",
      "50000/50000 [==============================] - 5s 93us/step - loss: 0.5663 - acc: 0.8336 - val_loss: 1.6233 - val_acc: 0.4872\n",
      "Epoch 47/50\n",
      "50000/50000 [==============================] - 5s 98us/step - loss: 0.5506 - acc: 0.8394 - val_loss: 1.6490 - val_acc: 0.4892\n",
      "Epoch 00047: early stopping\n"
     ]
    }
   ],
   "source": [
    "# 載入 Callbacks\n",
    "\"\"\"Code Here\n",
    "設定 callbacks: Earlystop\n",
    "\"\"\"\n",
    "\n",
    "from keras.callbacks import EarlyStopping\n",
    "\n",
    "\n",
    "\n",
    "results = {}\n",
    "\"\"\"Code Here\n",
    "撰寫你的訓練流程並將結果用 dictionary 紀錄\n",
    "\"\"\"\n",
    "\n",
    "for patience in PATIENCE:\n",
    "    earlystop = EarlyStopping(monitor=\"val_loss\", \n",
    "                          patience=patience, \n",
    "                          verbose=1\n",
    "                          )\n",
    "    \n",
    "    model = build_mlp(input_shape=x_train.shape[1:])\n",
    "    model.summary()\n",
    "    optimizer = keras.optimizers.SGD(lr=LEARNING_RATE, nesterov=True, momentum=MOMENTUM)\n",
    "    model.compile(loss=\"categorical_crossentropy\", metrics=[\"accuracy\"], optimizer=optimizer)\n",
    "\n",
    "    model.fit(x_train, y_train, \n",
    "              epochs=EPOCHS, \n",
    "              batch_size=BATCH_SIZE, \n",
    "              validation_data=(x_test, y_test), \n",
    "              shuffle=True,\n",
    "              callbacks=[earlystop]\n",
    "             )\n",
    "\n",
    "    # Collect results\n",
    "    train_loss = model.history.history[\"loss\"]\n",
    "    valid_loss = model.history.history[\"val_loss\"]\n",
    "    train_acc = model.history.history[\"acc\"]\n",
    "    valid_acc = model.history.history[\"val_acc\"]\n",
    "    \n",
    "    results[\"earlystop_patience_=\"+str(patience)] = [train_loss, valid_loss, train_acc, valid_acc]"
   ]
  },
  {
   "cell_type": "code",
   "execution_count": 8,
   "metadata": {},
   "outputs": [
    {
     "data": {
      "text/plain": [
       "'Code Here\\n將結果繪出\\n'"
      ]
     },
     "execution_count": 8,
     "metadata": {},
     "output_type": "execute_result"
    }
   ],
   "source": [
    "import matplotlib.pyplot as plt\n",
    "%matplotlib inline\n",
    "\"\"\"Code Here\n",
    "將結果繪出\n",
    "\"\"\""
   ]
  },
  {
   "cell_type": "code",
   "execution_count": 9,
   "metadata": {},
   "outputs": [
    {
     "data": {
      "image/png": "[encoded data removed]",
      "text/plain": [
       "<Figure size 432x288 with 1 Axes>"
      ]
     },
     "metadata": {
      "needs_background": "light"
     },
     "output_type": "display_data"
    },
    {
     "data": {
      "image/png": "[encoded data removed]",
      "text/plain": [
       "<Figure size 432x288 with 1 Axes>"
      ]
     },
     "metadata": {
      "needs_background": "light"
     },
     "output_type": "display_data"
    },
    {
     "data": {
      "image/png": "[encoded data removed]",
      "text/plain": [
       "<Figure size 432x288 with 1 Axes>"
      ]
     },
     "metadata": {
      "needs_background": "light"
     },
     "output_type": "display_data"
    },
    {
     "data": {
      "image/png": "[encoded data removed]",
      "text/plain": [
       "<Figure size 432x288 with 1 Axes>"
      ]
     },
     "metadata": {
      "needs_background": "light"
     },
     "output_type": "display_data"
    }
   ],
   "source": [
    "for patience in PATIENCE:\n",
    "    key = \"earlystop_patience_=\"+str(patience)\n",
    "    result = results[key]\n",
    "    train_loss = result[0]\n",
    "    valid_loss = result[1]\n",
    "    train_acc = result[2]\n",
    "    valid_acc = result[3]\n",
    "\n",
    "    plt.plot(range(len(train_loss)), train_loss, label=\"train loss\")\n",
    "    plt.plot(range(len(valid_loss)), valid_loss, label=\"valid loss\")\n",
    "    plt.legend()\n",
    "    plt.title(\"Loss_\"+key)\n",
    "    plt.show()\n",
    "\n",
    "    plt.plot(range(len(train_acc)), train_acc, label=\"train accuracy\")\n",
    "    plt.plot(range(len(valid_acc)), valid_acc, label=\"valid accuracy\")\n",
    "    plt.legend()\n",
    "    plt.title(\"Accuracy_\"+key)\n",
    "    plt.show()"
   ]
  }
 ],
 "metadata": {
  "kernelspec": {
   "display_name": "Python 3",
   "language": "python",
   "name": "python3"
  },
  "language_info": {
   "codemirror_mode": {
    "name": "ipython",
    "version": 3
   },
   "file_extension": ".py",
   "mimetype": "text/x-python",
   "name": "python",
   "nbconvert_exporter": "python",
   "pygments_lexer": "ipython3",
   "version": "3.6.8"
  }
 },
 "nbformat": 4,
 "nbformat_minor": 2
}
