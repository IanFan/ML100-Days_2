{
 "cells": [
  {
   "cell_type": "markdown",
   "metadata": {},
   "source": [
    "# 作業\n",
    "* 試著想想看, 非監督學習是否有可能使用評價函數 (Metric) 來鑑別好壞呢?  \n",
    "(Hint : 可以分為 \"有目標值\" 與 \"無目標值\" 兩個方向思考)"
   ]
  },
  {
   "cell_type": "markdown",
   "metadata": {
    "collapsed": true
   },
   "source": [
    "分群演算法\n",
    "\n",
    "Adjusted Rand index (ARI)\n",
    "- 對任意數量的聚類中心和樣本數，隨機聚類的ARI都非常接近於0；\n",
    "- 取值在［－1，1］之間，負數代表結果不好，越接近於1越好；\n",
    "- 可用於聚類算法之間的比較\n",
    "- ARI需要真實標籤\n",
    "\n",
    "Mutual Information based scores (MI) 互信息\n",
    "- 除取值範圍在［0，1］之間，其他同ARI；可用於聚類模型選擇\n",
    "- 需要先驗知識\n",
    "\n",
    "Homogeneity, completeness and V-measure\n",
    "- [0，1]之間\n",
    "\n",
    "Fowlkes-Mallows scores(FMI)\n",
    "- [0, 1]\n",
    "\n",
    "Silhouette Coefficient (sklearn.metrics 的 silhouette_score() 方法)\n",
    "- 評分結果在[-1, +1]之間，評分結果越高，聚類結果越好\n",
    "- 評分很高時，簇的密度越高，劃分越好，這也關係到一個聚類的標準性\n",
    "- 重要的是，這個評分標準不需要先驗知識\n",
    "\n",
    "Calinski-Harabaz Index\n",
    "- 評分很高時，簇的密度越高，劃分越好，這也關係到一個聚類的標準性\n",
    "- 評分是計算速度"
   ]
  },
  {
   "cell_type": "code",
   "execution_count": null,
   "metadata": {},
   "outputs": [],
   "source": []
  }
 ],
 "metadata": {
  "kernelspec": {
   "display_name": "Python 3",
   "language": "python",
   "name": "python3"
  },
  "language_info": {
   "codemirror_mode": {
    "name": "ipython",
    "version": 3
   },
   "file_extension": ".py",
   "mimetype": "text/x-python",
   "name": "python",
   "nbconvert_exporter": "python",
   "pygments_lexer": "ipython3",
   "version": "3.6.8"
  }
 },
 "nbformat": 4,
 "nbformat_minor": 1
}
