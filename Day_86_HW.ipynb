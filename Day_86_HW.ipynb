{
 "cells": [
  {
   "cell_type": "code",
   "execution_count": 1,
   "metadata": {
    "colab": {
     "base_uri": "https://localhost:8080/",
     "height": 34
    },
    "colab_type": "code",
    "executionInfo": {
     "elapsed": 3157,
     "status": "ok",
     "timestamp": 1563847594450,
     "user": {
      "displayName": "Ian Fan",
      "photoUrl": "https://lh6.googleusercontent.com/-aw0JecSePwQ/AAAAAAAAAAI/AAAAAAAAAzg/pB03Sr9kJz0/s64/photo.jpg",
      "userId": "11332184683163561655"
     },
     "user_tz": -480
    },
    "id": "IJWWGcv5k8kN",
    "outputId": "9b06700e-180e-4e1f-bc1b-22d744002864"
   },
   "outputs": [
    {
     "name": "stdout",
     "output_type": "stream",
     "text": [
      "Found GPU at: /device:GPU:0\n"
     ]
    }
   ],
   "source": [
    "import tensorflow as tf\n",
    "device_name = tf.test.gpu_device_name()\n",
    "if device_name != '/device:GPU:0':\n",
    "  raise SystemError('GPU device not found')\n",
    "print('Found GPU at: {}'.format(device_name))"
   ]
  },
  {
   "cell_type": "code",
   "execution_count": 2,
   "metadata": {
    "colab": {
     "base_uri": "https://localhost:8080/",
     "height": 34
    },
    "colab_type": "code",
    "executionInfo": {
     "elapsed": 2049,
     "status": "ok",
     "timestamp": 1563847599538,
     "user": {
      "displayName": "Ian Fan",
      "photoUrl": "https://lh6.googleusercontent.com/-aw0JecSePwQ/AAAAAAAAAAI/AAAAAAAAAzg/pB03Sr9kJz0/s64/photo.jpg",
      "userId": "11332184683163561655"
     },
     "user_tz": -480
    },
    "id": "obuXaxJflGd-",
    "outputId": "09f117ae-cd50-4d1d-a072-f8dfee93ed6b"
   },
   "outputs": [
    {
     "name": "stderr",
     "output_type": "stream",
     "text": [
      "Using TensorFlow backend.\n"
     ]
    }
   ],
   "source": [
    "import os\n",
    "import keras\n",
    "\n",
    "# Disable GPU\n",
    "os.environ[\"CUDA_VISIBLE_DEVICES\"] = \"\""
   ]
  },
  {
   "cell_type": "code",
   "execution_count": 3,
   "metadata": {
    "colab": {
     "base_uri": "https://localhost:8080/",
     "height": 71
    },
    "colab_type": "code",
    "executionInfo": {
     "elapsed": 15866,
     "status": "ok",
     "timestamp": 1563847618660,
     "user": {
      "displayName": "Ian Fan",
      "photoUrl": "https://lh6.googleusercontent.com/-aw0JecSePwQ/AAAAAAAAAAI/AAAAAAAAAzg/pB03Sr9kJz0/s64/photo.jpg",
      "userId": "11332184683163561655"
     },
     "user_tz": -480
    },
    "id": "7MLnYhATlJ1w",
    "outputId": "b1b936e7-bd70-4769-8ab7-c5c69593cdec"
   },
   "outputs": [
    {
     "name": "stdout",
     "output_type": "stream",
     "text": [
      "Downloading data from https://www.cs.toronto.edu/~kriz/cifar-10-python.tar.gz\n",
      "170500096/170498071 [==============================] - 11s 0us/step\n"
     ]
    }
   ],
   "source": [
    "train, test = keras.datasets.cifar10.load_data()"
   ]
  },
  {
   "cell_type": "code",
   "execution_count": 0,
   "metadata": {
    "colab": {},
    "colab_type": "code",
    "id": "xWldHMFDlLI0"
   },
   "outputs": [],
   "source": [
    "## 資料前處理\n",
    "def preproc_x(x, flatten=True):\n",
    "    x = x / 255.\n",
    "    if flatten:\n",
    "        x = x.reshape((len(x), -1))\n",
    "    return x\n",
    "\n",
    "def preproc_y(y, num_classes=10):\n",
    "    if y.shape[-1] == 1:\n",
    "        y = keras.utils.to_categorical(y, num_classes)\n",
    "    return y    "
   ]
  },
  {
   "cell_type": "code",
   "execution_count": 0,
   "metadata": {
    "colab": {},
    "colab_type": "code",
    "id": "t7kg50SslMRB"
   },
   "outputs": [],
   "source": [
    "x_train, y_train = train\n",
    "x_test, y_test = test\n",
    "\n",
    "# Preproc the inputs\n",
    "x_train = preproc_x(x_train)\n",
    "x_test = preproc_x(x_test)\n",
    "\n",
    "# Preprc the outputs\n",
    "y_train = preproc_y(y_train)\n",
    "y_test = preproc_y(y_test)"
   ]
  },
  {
   "cell_type": "code",
   "execution_count": 0,
   "metadata": {
    "colab": {},
    "colab_type": "code",
    "id": "IgXJV3v4lN2l"
   },
   "outputs": [],
   "source": [
    "from keras.layers import BatchNormalization\n",
    "\n",
    "def build_mlp(input_shape, output_units=10, num_neurons=[512, 256, 128]):\n",
    "    \"\"\"Code Here\n",
    "    建立你的神經網路\n",
    "    \"\"\"\n",
    "    input_layer = keras.layers.Input(input_shape)\n",
    "    \n",
    "    for i, n_units in enumerate(num_neurons):\n",
    "        if i == 0:\n",
    "            x = keras.layers.Dense(units=n_units, \n",
    "                                   activation=\"relu\", \n",
    "                                   name=\"hidden_layer\"+str(i+1))(input_layer)\n",
    "            x = BatchNormalization()(x)\n",
    "        else:\n",
    "            x = keras.layers.Dense(units=n_units, \n",
    "                                   activation=\"relu\", \n",
    "                                   name=\"hidden_layer\"+str(i+1))(x)\n",
    "            x = BatchNormalization()(x)\n",
    "    \n",
    "    out = keras.layers.Dense(units=output_units, activation=\"softmax\", name=\"output\")(x)\n",
    "    \n",
    "    model = keras.models.Model(inputs=[input_layer], outputs=[out])\n",
    "    return model"
   ]
  },
  {
   "cell_type": "code",
   "execution_count": 0,
   "metadata": {
    "colab": {},
    "colab_type": "code",
    "id": "7XJ7EzfYlPUH"
   },
   "outputs": [],
   "source": [
    "\"\"\"Code Here\n",
    "設定超參數\n",
    "\"\"\"\n",
    "LEARNING_RATE = 1e-3\n",
    "EPOCHS = 50\n",
    "BATCH_SIZE = 1024\n",
    "MOMENTUM = 0.95\n",
    "SAVE_BEST = [True, False]"
   ]
  },
  {
   "cell_type": "code",
   "execution_count": 8,
   "metadata": {
    "colab": {
     "base_uri": "https://localhost:8080/",
     "height": 1000
    },
    "colab_type": "code",
    "executionInfo": {
     "elapsed": 196981,
     "status": "ok",
     "timestamp": 1563847828157,
     "user": {
      "displayName": "Ian Fan",
      "photoUrl": "https://lh6.googleusercontent.com/-aw0JecSePwQ/AAAAAAAAAAI/AAAAAAAAAzg/pB03Sr9kJz0/s64/photo.jpg",
      "userId": "11332184683163561655"
     },
     "user_tz": -480
    },
    "id": "0pe1OYeHlQsG",
    "outputId": "e4f3ebfd-df3b-412f-8390-7ec13a99529a"
   },
   "outputs": [
    {
     "name": "stderr",
     "output_type": "stream",
     "text": [
      "WARNING: Logging before flag parsing goes to stderr.\n",
      "W0723 02:07:11.556686 140153173956480 deprecation_wrapper.py:119] From /usr/local/lib/python3.6/dist-packages/keras/backend/tensorflow_backend.py:74: The name tf.get_default_graph is deprecated. Please use tf.compat.v1.get_default_graph instead.\n",
      "\n",
      "W0723 02:07:11.561070 140153173956480 deprecation_wrapper.py:119] From /usr/local/lib/python3.6/dist-packages/keras/backend/tensorflow_backend.py:517: The name tf.placeholder is deprecated. Please use tf.compat.v1.placeholder instead.\n",
      "\n",
      "W0723 02:07:11.578203 140153173956480 deprecation_wrapper.py:119] From /usr/local/lib/python3.6/dist-packages/keras/backend/tensorflow_backend.py:4138: The name tf.random_uniform is deprecated. Please use tf.random.uniform instead.\n",
      "\n",
      "W0723 02:07:11.707192 140153173956480 deprecation_wrapper.py:119] From /usr/local/lib/python3.6/dist-packages/keras/backend/tensorflow_backend.py:133: The name tf.placeholder_with_default is deprecated. Please use tf.compat.v1.placeholder_with_default instead.\n",
      "\n",
      "W0723 02:07:12.071678 140153173956480 deprecation_wrapper.py:119] From /usr/local/lib/python3.6/dist-packages/keras/optimizers.py:790: The name tf.train.Optimizer is deprecated. Please use tf.compat.v1.train.Optimizer instead.\n",
      "\n",
      "W0723 02:07:12.084820 140153173956480 deprecation_wrapper.py:119] From /usr/local/lib/python3.6/dist-packages/keras/backend/tensorflow_backend.py:3295: The name tf.log is deprecated. Please use tf.math.log instead.\n",
      "\n",
      "W0723 02:07:12.219893 140153173956480 deprecation.py:323] From /usr/local/lib/python3.6/dist-packages/tensorflow/python/ops/math_grad.py:1250: add_dispatch_support.<locals>.wrapper (from tensorflow.python.ops.array_ops) is deprecated and will be removed in a future version.\n",
      "Instructions for updating:\n",
      "Use tf.where in 2.0, which has the same broadcast rule as np.where\n"
     ]
    },
    {
     "name": "stdout",
     "output_type": "stream",
     "text": [
      "_________________________________________________________________\n",
      "Layer (type)                 Output Shape              Param #   \n",
      "=================================================================\n",
      "input_1 (InputLayer)         (None, 3072)              0         \n",
      "_________________________________________________________________\n",
      "hidden_layer1 (Dense)        (None, 512)               1573376   \n",
      "_________________________________________________________________\n",
      "batch_normalization_1 (Batch (None, 512)               2048      \n",
      "_________________________________________________________________\n",
      "hidden_layer2 (Dense)        (None, 256)               131328    \n",
      "_________________________________________________________________\n",
      "batch_normalization_2 (Batch (None, 256)               1024      \n",
      "_________________________________________________________________\n",
      "hidden_layer3 (Dense)        (None, 128)               32896     \n",
      "_________________________________________________________________\n",
      "batch_normalization_3 (Batch (None, 128)               512       \n",
      "_________________________________________________________________\n",
      "output (Dense)               (None, 10)                1290      \n",
      "=================================================================\n",
      "Total params: 1,742,474\n",
      "Trainable params: 1,740,682\n",
      "Non-trainable params: 1,792\n",
      "_________________________________________________________________\n",
      "Train on 50000 samples, validate on 10000 samples\n",
      "Epoch 1/50\n",
      "50000/50000 [==============================] - 5s 94us/step - loss: 2.2128 - acc: 0.2712 - val_loss: 2.0947 - val_acc: 0.3133\n",
      "Epoch 2/50\n",
      "50000/50000 [==============================] - 2s 37us/step - loss: 1.7405 - acc: 0.3939 - val_loss: 1.7885 - val_acc: 0.3865\n",
      "Epoch 3/50\n",
      "50000/50000 [==============================] - 2s 37us/step - loss: 1.6165 - acc: 0.4333 - val_loss: 1.6959 - val_acc: 0.4046\n",
      "Epoch 4/50\n",
      "50000/50000 [==============================] - 2s 37us/step - loss: 1.5451 - acc: 0.4592 - val_loss: 1.6364 - val_acc: 0.4251\n",
      "Epoch 5/50\n",
      "50000/50000 [==============================] - 2s 37us/step - loss: 1.4907 - acc: 0.4779 - val_loss: 1.5916 - val_acc: 0.4410\n",
      "Epoch 6/50\n",
      "50000/50000 [==============================] - 2s 37us/step - loss: 1.4452 - acc: 0.4940 - val_loss: 1.5649 - val_acc: 0.4502\n",
      "Epoch 7/50\n",
      "50000/50000 [==============================] - 2s 36us/step - loss: 1.4071 - acc: 0.5091 - val_loss: 1.5507 - val_acc: 0.4592\n",
      "Epoch 8/50\n",
      "50000/50000 [==============================] - 2s 36us/step - loss: 1.3724 - acc: 0.5214 - val_loss: 1.5230 - val_acc: 0.4611\n",
      "Epoch 9/50\n",
      "50000/50000 [==============================] - 2s 37us/step - loss: 1.3379 - acc: 0.5341 - val_loss: 1.5162 - val_acc: 0.4671\n",
      "Epoch 10/50\n",
      "50000/50000 [==============================] - 2s 36us/step - loss: 1.3086 - acc: 0.5439 - val_loss: 1.5017 - val_acc: 0.4668\n",
      "Epoch 11/50\n",
      "50000/50000 [==============================] - 2s 36us/step - loss: 1.2813 - acc: 0.5550 - val_loss: 1.4827 - val_acc: 0.4785\n",
      "Epoch 12/50\n",
      "50000/50000 [==============================] - 2s 36us/step - loss: 1.2528 - acc: 0.5636 - val_loss: 1.4804 - val_acc: 0.4749\n",
      "Epoch 13/50\n",
      "50000/50000 [==============================] - 2s 36us/step - loss: 1.2276 - acc: 0.5741 - val_loss: 1.4848 - val_acc: 0.4781\n",
      "Epoch 14/50\n",
      "50000/50000 [==============================] - 2s 36us/step - loss: 1.2021 - acc: 0.5839 - val_loss: 1.4698 - val_acc: 0.4815\n",
      "Epoch 15/50\n",
      "50000/50000 [==============================] - 2s 35us/step - loss: 1.1794 - acc: 0.5927 - val_loss: 1.4617 - val_acc: 0.4836\n",
      "Epoch 16/50\n",
      "50000/50000 [==============================] - 2s 36us/step - loss: 1.1559 - acc: 0.6010 - val_loss: 1.4588 - val_acc: 0.4824\n",
      "Epoch 17/50\n",
      "50000/50000 [==============================] - 2s 36us/step - loss: 1.1311 - acc: 0.6102 - val_loss: 1.4559 - val_acc: 0.4876\n",
      "Epoch 18/50\n",
      "50000/50000 [==============================] - 2s 36us/step - loss: 1.1055 - acc: 0.6213 - val_loss: 1.4719 - val_acc: 0.4817\n",
      "Epoch 19/50\n",
      "50000/50000 [==============================] - 2s 36us/step - loss: 1.0846 - acc: 0.6283 - val_loss: 1.4584 - val_acc: 0.4896\n",
      "Epoch 20/50\n",
      "50000/50000 [==============================] - 2s 36us/step - loss: 1.0640 - acc: 0.6353 - val_loss: 1.4638 - val_acc: 0.4850\n",
      "Epoch 21/50\n",
      "50000/50000 [==============================] - 2s 36us/step - loss: 1.0421 - acc: 0.6448 - val_loss: 1.4524 - val_acc: 0.4913\n",
      "Epoch 22/50\n",
      "50000/50000 [==============================] - 2s 36us/step - loss: 1.0203 - acc: 0.6557 - val_loss: 1.4597 - val_acc: 0.4952\n",
      "Epoch 23/50\n",
      "50000/50000 [==============================] - 2s 36us/step - loss: 0.9974 - acc: 0.6637 - val_loss: 1.4504 - val_acc: 0.4954\n",
      "Epoch 24/50\n",
      "50000/50000 [==============================] - 2s 36us/step - loss: 0.9778 - acc: 0.6706 - val_loss: 1.4719 - val_acc: 0.4929\n",
      "Epoch 25/50\n",
      "50000/50000 [==============================] - 2s 36us/step - loss: 0.9577 - acc: 0.6794 - val_loss: 1.4640 - val_acc: 0.4936\n",
      "Epoch 26/50\n",
      "50000/50000 [==============================] - 2s 36us/step - loss: 0.9354 - acc: 0.6856 - val_loss: 1.4677 - val_acc: 0.4948\n",
      "Epoch 27/50\n",
      "50000/50000 [==============================] - 2s 35us/step - loss: 0.9149 - acc: 0.6954 - val_loss: 1.4703 - val_acc: 0.4928\n",
      "Epoch 28/50\n",
      "50000/50000 [==============================] - 2s 36us/step - loss: 0.8940 - acc: 0.7034 - val_loss: 1.4672 - val_acc: 0.4992\n",
      "Epoch 29/50\n",
      "50000/50000 [==============================] - 2s 36us/step - loss: 0.8747 - acc: 0.7109 - val_loss: 1.4663 - val_acc: 0.4973\n",
      "Epoch 30/50\n",
      "50000/50000 [==============================] - 2s 36us/step - loss: 0.8547 - acc: 0.7178 - val_loss: 1.4676 - val_acc: 0.4975\n",
      "Epoch 31/50\n",
      "50000/50000 [==============================] - 2s 35us/step - loss: 0.8346 - acc: 0.7268 - val_loss: 1.4833 - val_acc: 0.4966\n",
      "Epoch 32/50\n",
      "50000/50000 [==============================] - 2s 36us/step - loss: 0.8154 - acc: 0.7331 - val_loss: 1.4991 - val_acc: 0.4909\n",
      "Epoch 33/50\n",
      "50000/50000 [==============================] - 2s 35us/step - loss: 0.7957 - acc: 0.7417 - val_loss: 1.4854 - val_acc: 0.4952\n",
      "Epoch 34/50\n",
      "50000/50000 [==============================] - 2s 35us/step - loss: 0.7788 - acc: 0.7471 - val_loss: 1.5095 - val_acc: 0.4944\n",
      "Epoch 35/50\n",
      "50000/50000 [==============================] - 2s 35us/step - loss: 0.7593 - acc: 0.7537 - val_loss: 1.5121 - val_acc: 0.4926\n",
      "Epoch 36/50\n",
      "50000/50000 [==============================] - 2s 35us/step - loss: 0.7401 - acc: 0.7624 - val_loss: 1.5071 - val_acc: 0.4942\n",
      "Epoch 37/50\n",
      "50000/50000 [==============================] - 2s 35us/step - loss: 0.7203 - acc: 0.7714 - val_loss: 1.5323 - val_acc: 0.4971\n",
      "Epoch 38/50\n",
      "50000/50000 [==============================] - 2s 35us/step - loss: 0.7012 - acc: 0.7771 - val_loss: 1.5328 - val_acc: 0.4931\n",
      "Epoch 39/50\n",
      "50000/50000 [==============================] - 2s 35us/step - loss: 0.6824 - acc: 0.7840 - val_loss: 1.5412 - val_acc: 0.4915\n",
      "Epoch 40/50\n",
      "50000/50000 [==============================] - 2s 36us/step - loss: 0.6653 - acc: 0.7924 - val_loss: 1.5480 - val_acc: 0.4915\n",
      "Epoch 41/50\n",
      "50000/50000 [==============================] - 2s 35us/step - loss: 0.6478 - acc: 0.7992 - val_loss: 1.5715 - val_acc: 0.4899\n",
      "Epoch 42/50\n",
      "50000/50000 [==============================] - 2s 36us/step - loss: 0.6295 - acc: 0.8061 - val_loss: 1.5786 - val_acc: 0.4913\n",
      "Epoch 43/50\n",
      "50000/50000 [==============================] - 2s 36us/step - loss: 0.6109 - acc: 0.8148 - val_loss: 1.5999 - val_acc: 0.4850\n",
      "Epoch 44/50\n",
      "50000/50000 [==============================] - 2s 35us/step - loss: 0.5925 - acc: 0.8230 - val_loss: 1.6153 - val_acc: 0.4892\n",
      "Epoch 45/50\n",
      "50000/50000 [==============================] - 2s 35us/step - loss: 0.5765 - acc: 0.8298 - val_loss: 1.6005 - val_acc: 0.4917\n",
      "Epoch 46/50\n",
      "50000/50000 [==============================] - 2s 36us/step - loss: 0.5581 - acc: 0.8367 - val_loss: 1.6088 - val_acc: 0.4914\n",
      "Epoch 47/50\n",
      "50000/50000 [==============================] - 2s 35us/step - loss: 0.5423 - acc: 0.8440 - val_loss: 1.6207 - val_acc: 0.4880\n",
      "Epoch 48/50\n",
      "50000/50000 [==============================] - 2s 35us/step - loss: 0.5250 - acc: 0.8500 - val_loss: 1.6368 - val_acc: 0.4916\n",
      "Epoch 49/50\n",
      "50000/50000 [==============================] - 2s 35us/step - loss: 0.5089 - acc: 0.8570 - val_loss: 1.6598 - val_acc: 0.4833\n",
      "Epoch 50/50\n",
      "50000/50000 [==============================] - 2s 35us/step - loss: 0.4935 - acc: 0.8608 - val_loss: 1.6610 - val_acc: 0.4820\n",
      "10000/10000 [==============================] - 1s 104us/step\n",
      "_________________________________________________________________\n",
      "Layer (type)                 Output Shape              Param #   \n",
      "=================================================================\n",
      "input_2 (InputLayer)         (None, 3072)              0         \n",
      "_________________________________________________________________\n",
      "hidden_layer1 (Dense)        (None, 512)               1573376   \n",
      "_________________________________________________________________\n",
      "batch_normalization_4 (Batch (None, 512)               2048      \n",
      "_________________________________________________________________\n",
      "hidden_layer2 (Dense)        (None, 256)               131328    \n",
      "_________________________________________________________________\n",
      "batch_normalization_5 (Batch (None, 256)               1024      \n",
      "_________________________________________________________________\n",
      "hidden_layer3 (Dense)        (None, 128)               32896     \n",
      "_________________________________________________________________\n",
      "batch_normalization_6 (Batch (None, 128)               512       \n",
      "_________________________________________________________________\n",
      "output (Dense)               (None, 10)                1290      \n",
      "=================================================================\n",
      "Total params: 1,742,474\n",
      "Trainable params: 1,740,682\n",
      "Non-trainable params: 1,792\n",
      "_________________________________________________________________\n",
      "Train on 50000 samples, validate on 10000 samples\n",
      "Epoch 1/50\n",
      "50000/50000 [==============================] - 3s 53us/step - loss: 2.2178 - acc: 0.2690 - val_loss: 2.1796 - val_acc: 0.3104\n",
      "Epoch 2/50\n",
      "50000/50000 [==============================] - 2s 35us/step - loss: 1.7492 - acc: 0.3915 - val_loss: 1.8401 - val_acc: 0.3686\n",
      "Epoch 3/50\n",
      "50000/50000 [==============================] - 2s 35us/step - loss: 1.6237 - acc: 0.4311 - val_loss: 1.6990 - val_acc: 0.4106\n",
      "Epoch 4/50\n",
      "50000/50000 [==============================] - 2s 35us/step - loss: 1.5504 - acc: 0.4586 - val_loss: 1.6415 - val_acc: 0.4202\n",
      "Epoch 5/50\n",
      "50000/50000 [==============================] - 2s 36us/step - loss: 1.4943 - acc: 0.4758 - val_loss: 1.5962 - val_acc: 0.4396\n",
      "Epoch 6/50\n",
      "50000/50000 [==============================] - 2s 35us/step - loss: 1.4490 - acc: 0.4933 - val_loss: 1.5719 - val_acc: 0.4483\n",
      "Epoch 7/50\n",
      "50000/50000 [==============================] - 2s 35us/step - loss: 1.4082 - acc: 0.5083 - val_loss: 1.5556 - val_acc: 0.4514\n",
      "Epoch 8/50\n",
      "50000/50000 [==============================] - 2s 35us/step - loss: 1.3730 - acc: 0.5215 - val_loss: 1.5261 - val_acc: 0.4639\n",
      "Epoch 9/50\n",
      "50000/50000 [==============================] - 2s 35us/step - loss: 1.3387 - acc: 0.5333 - val_loss: 1.5221 - val_acc: 0.4675\n",
      "Epoch 10/50\n",
      "50000/50000 [==============================] - 2s 36us/step - loss: 1.3105 - acc: 0.5430 - val_loss: 1.4952 - val_acc: 0.4750\n",
      "Epoch 11/50\n",
      "50000/50000 [==============================] - 2s 36us/step - loss: 1.2803 - acc: 0.5553 - val_loss: 1.4963 - val_acc: 0.4741\n",
      "Epoch 12/50\n",
      "50000/50000 [==============================] - 2s 36us/step - loss: 1.2533 - acc: 0.5666 - val_loss: 1.4856 - val_acc: 0.4804\n",
      "Epoch 13/50\n",
      "50000/50000 [==============================] - 2s 36us/step - loss: 1.2278 - acc: 0.5751 - val_loss: 1.4860 - val_acc: 0.4753\n",
      "Epoch 14/50\n",
      "50000/50000 [==============================] - 2s 36us/step - loss: 1.2023 - acc: 0.5833 - val_loss: 1.4832 - val_acc: 0.4782\n",
      "Epoch 15/50\n",
      "50000/50000 [==============================] - 2s 36us/step - loss: 1.1779 - acc: 0.5925 - val_loss: 1.4694 - val_acc: 0.4830\n",
      "Epoch 16/50\n",
      "50000/50000 [==============================] - 2s 37us/step - loss: 1.1534 - acc: 0.6025 - val_loss: 1.4726 - val_acc: 0.4861\n",
      "Epoch 17/50\n",
      "50000/50000 [==============================] - 2s 37us/step - loss: 1.1312 - acc: 0.6116 - val_loss: 1.4740 - val_acc: 0.4813\n",
      "Epoch 18/50\n",
      "50000/50000 [==============================] - 2s 35us/step - loss: 1.1091 - acc: 0.6201 - val_loss: 1.4594 - val_acc: 0.4904\n",
      "Epoch 19/50\n",
      "50000/50000 [==============================] - 2s 35us/step - loss: 1.0830 - acc: 0.6298 - val_loss: 1.4602 - val_acc: 0.4885\n",
      "Epoch 20/50\n",
      "50000/50000 [==============================] - 2s 35us/step - loss: 1.0639 - acc: 0.6354 - val_loss: 1.4702 - val_acc: 0.4852\n",
      "Epoch 21/50\n",
      "50000/50000 [==============================] - 2s 35us/step - loss: 1.0418 - acc: 0.6476 - val_loss: 1.4689 - val_acc: 0.4919\n",
      "Epoch 22/50\n",
      "50000/50000 [==============================] - 2s 35us/step - loss: 1.0202 - acc: 0.6529 - val_loss: 1.4599 - val_acc: 0.4903\n",
      "Epoch 23/50\n",
      "50000/50000 [==============================] - 2s 36us/step - loss: 1.0001 - acc: 0.6609 - val_loss: 1.4781 - val_acc: 0.4853\n",
      "Epoch 24/50\n",
      "50000/50000 [==============================] - 2s 35us/step - loss: 0.9788 - acc: 0.6708 - val_loss: 1.4610 - val_acc: 0.4931\n",
      "Epoch 25/50\n",
      "50000/50000 [==============================] - 2s 35us/step - loss: 0.9580 - acc: 0.6773 - val_loss: 1.4792 - val_acc: 0.4895\n",
      "Epoch 26/50\n",
      "50000/50000 [==============================] - 2s 35us/step - loss: 0.9374 - acc: 0.6861 - val_loss: 1.4803 - val_acc: 0.4904\n",
      "Epoch 27/50\n",
      "50000/50000 [==============================] - 2s 35us/step - loss: 0.9176 - acc: 0.6934 - val_loss: 1.4872 - val_acc: 0.4893\n",
      "Epoch 28/50\n",
      "50000/50000 [==============================] - 2s 35us/step - loss: 0.8970 - acc: 0.7026 - val_loss: 1.4734 - val_acc: 0.4955\n",
      "Epoch 29/50\n",
      "50000/50000 [==============================] - 2s 36us/step - loss: 0.8761 - acc: 0.7111 - val_loss: 1.4770 - val_acc: 0.4926\n",
      "Epoch 30/50\n",
      "50000/50000 [==============================] - 2s 35us/step - loss: 0.8567 - acc: 0.7177 - val_loss: 1.4979 - val_acc: 0.4947\n",
      "Epoch 31/50\n",
      "50000/50000 [==============================] - 2s 35us/step - loss: 0.8357 - acc: 0.7252 - val_loss: 1.4904 - val_acc: 0.4981\n",
      "Epoch 32/50\n",
      "50000/50000 [==============================] - 2s 35us/step - loss: 0.8177 - acc: 0.7341 - val_loss: 1.5143 - val_acc: 0.4894\n",
      "Epoch 33/50\n",
      "50000/50000 [==============================] - 2s 35us/step - loss: 0.7983 - acc: 0.7420 - val_loss: 1.5185 - val_acc: 0.4879\n",
      "Epoch 34/50\n",
      "50000/50000 [==============================] - 2s 35us/step - loss: 0.7790 - acc: 0.7484 - val_loss: 1.5086 - val_acc: 0.4957\n",
      "Epoch 35/50\n",
      "50000/50000 [==============================] - 2s 35us/step - loss: 0.7602 - acc: 0.7559 - val_loss: 1.5270 - val_acc: 0.4918\n",
      "Epoch 36/50\n",
      "50000/50000 [==============================] - 2s 35us/step - loss: 0.7403 - acc: 0.7640 - val_loss: 1.5272 - val_acc: 0.4925\n",
      "Epoch 37/50\n",
      "50000/50000 [==============================] - 2s 35us/step - loss: 0.7210 - acc: 0.7714 - val_loss: 1.5806 - val_acc: 0.4837\n",
      "Epoch 38/50\n",
      "50000/50000 [==============================] - 2s 35us/step - loss: 0.7014 - acc: 0.7794 - val_loss: 1.5564 - val_acc: 0.4919\n",
      "Epoch 39/50\n",
      "50000/50000 [==============================] - 2s 35us/step - loss: 0.6839 - acc: 0.7861 - val_loss: 1.5603 - val_acc: 0.4919\n",
      "Epoch 40/50\n",
      "50000/50000 [==============================] - 2s 36us/step - loss: 0.6650 - acc: 0.7937 - val_loss: 1.5571 - val_acc: 0.4944\n",
      "Epoch 41/50\n",
      "50000/50000 [==============================] - 2s 36us/step - loss: 0.6464 - acc: 0.8006 - val_loss: 1.5866 - val_acc: 0.4838\n",
      "Epoch 42/50\n",
      "50000/50000 [==============================] - 2s 35us/step - loss: 0.6284 - acc: 0.8094 - val_loss: 1.5970 - val_acc: 0.4885\n",
      "Epoch 43/50\n",
      "50000/50000 [==============================] - 2s 35us/step - loss: 0.6112 - acc: 0.8157 - val_loss: 1.5911 - val_acc: 0.4916\n",
      "Epoch 44/50\n",
      "50000/50000 [==============================] - 2s 35us/step - loss: 0.5951 - acc: 0.8203 - val_loss: 1.6101 - val_acc: 0.4915\n",
      "Epoch 45/50\n",
      "50000/50000 [==============================] - 2s 35us/step - loss: 0.5763 - acc: 0.8299 - val_loss: 1.6102 - val_acc: 0.4910\n",
      "Epoch 46/50\n",
      "50000/50000 [==============================] - 2s 35us/step - loss: 0.5580 - acc: 0.8365 - val_loss: 1.6295 - val_acc: 0.4880\n",
      "Epoch 47/50\n",
      "50000/50000 [==============================] - 2s 35us/step - loss: 0.5417 - acc: 0.8433 - val_loss: 1.6435 - val_acc: 0.4900\n",
      "Epoch 48/50\n",
      "50000/50000 [==============================] - 2s 35us/step - loss: 0.5265 - acc: 0.8491 - val_loss: 1.6776 - val_acc: 0.4851\n",
      "Epoch 49/50\n",
      "50000/50000 [==============================] - 2s 35us/step - loss: 0.5089 - acc: 0.8557 - val_loss: 1.6625 - val_acc: 0.4874\n",
      "Epoch 50/50\n",
      "50000/50000 [==============================] - 2s 35us/step - loss: 0.4915 - acc: 0.8625 - val_loss: 1.6781 - val_acc: 0.4919\n",
      "10000/10000 [==============================] - 1s 114us/step\n"
     ]
    }
   ],
   "source": [
    "# 載入 Callbacks\n",
    "\"\"\"Code Here\n",
    "設定 callbacks: model checkpoint\n",
    "\"\"\"\n",
    "\n",
    "results = {}\n",
    "\"\"\"Code Here\n",
    "撰寫你的訓練流程並將結果用 dictionary 紀錄\n",
    "\"\"\"\n",
    "from keras.callbacks import ModelCheckpoint\n",
    "\n",
    "for save_best in SAVE_BEST:\n",
    "    model_ckpt = ModelCheckpoint(filepath=\"./tmp.h5\", \n",
    "                                 monitor=\"val_loss\", \n",
    "                                 save_best_only=save_best)\n",
    "    \n",
    "    model = build_mlp(input_shape=x_train.shape[1:])\n",
    "    model.summary()\n",
    "    optimizer = keras.optimizers.SGD(lr=LEARNING_RATE, nesterov=True, momentum=MOMENTUM)\n",
    "    model.compile(loss=\"categorical_crossentropy\", metrics=[\"accuracy\"], optimizer=optimizer)\n",
    "\n",
    "    model.fit(x_train, y_train, \n",
    "              epochs=EPOCHS, \n",
    "              batch_size=BATCH_SIZE, \n",
    "              validation_data=(x_test, y_test), \n",
    "              shuffle=True,\n",
    "              callbacks=[model_ckpt]\n",
    "             )\n",
    "\n",
    "    # Collect results\n",
    "    train_loss = model.history.history[\"loss\"]\n",
    "    valid_loss = model.history.history[\"val_loss\"]\n",
    "    train_acc = model.history.history[\"acc\"]\n",
    "    valid_acc = model.history.history[\"val_acc\"]\n",
    "\n",
    "    # Load back\n",
    "    model = keras.models.load_model(\"./tmp.h5\")\n",
    "    loss_loadback, acc_loadback = model.evaluate(x_test, y_test)\n",
    "    \n",
    "    results['save_best_'+str(save_best)] = [loss_loadback, acc_loadback]"
   ]
  },
  {
   "cell_type": "code",
   "execution_count": 9,
   "metadata": {
    "colab": {
     "base_uri": "https://localhost:8080/",
     "height": 1000
    },
    "colab_type": "code",
    "executionInfo": {
     "elapsed": 181308,
     "status": "ok",
     "timestamp": 1563847829132,
     "user": {
      "displayName": "Ian Fan",
      "photoUrl": "https://lh6.googleusercontent.com/-aw0JecSePwQ/AAAAAAAAAAI/AAAAAAAAAzg/pB03Sr9kJz0/s64/photo.jpg",
      "userId": "11332184683163561655"
     },
     "user_tz": -480
    },
    "id": "7cc6GusflSEJ",
    "outputId": "30f8931f-b153-4f9d-cba1-11abb5332cda"
   },
   "outputs": [
    {
     "data": {
      "image/png": "[encoded data removed]",
      "text/plain": [
       "<Figure size 432x288 with 1 Axes>"
      ]
     },
     "metadata": {
      "tags": []
     },
     "output_type": "display_data"
    },
    {
     "data": {
      "image/png": "[encoded data removed]",
      "text/plain": [
       "<Figure size 432x288 with 1 Axes>"
      ]
     },
     "metadata": {
      "tags": []
     },
     "output_type": "display_data"
    },
    {
     "data": {
      "image/png": "[encoded data removed]",
      "text/plain": [
       "<Figure size 432x288 with 1 Axes>"
      ]
     },
     "metadata": {
      "tags": []
     },
     "output_type": "display_data"
    },
    {
     "data": {
      "image/png": "[encoded data removed]",
      "text/plain": [
       "<Figure size 432x288 with 1 Axes>"
      ]
     },
     "metadata": {
      "tags": []
     },
     "output_type": "display_data"
    }
   ],
   "source": [
    "import matplotlib.pyplot as plt\n",
    "%matplotlib inline\n",
    "\"\"\"Code Here\n",
    "將結果繪出\n",
    "\"\"\"\n",
    "for save_best in SAVE_BEST:\n",
    "    key = 'save_best_'+str(save_best)\n",
    "    result = results[key]\n",
    "    loss_loadback = result[0]\n",
    "    acc_loadback = result[1]\n",
    "    \n",
    "    plt.plot(range(len(train_loss)), train_loss, label=\"train loss\")\n",
    "    plt.plot(range(len(valid_loss)), valid_loss, label=\"valid loss\")\n",
    "    plt.hlines(y=loss_loadback, xmin=0, xmax=len(train_loss), colors='r', linestyles='--')\n",
    "    plt.legend()\n",
    "    plt.title(\"Loss\")\n",
    "    plt.show()\n",
    "\n",
    "    plt.plot(range(len(train_acc)), train_acc, label=\"train accuracy\")\n",
    "    plt.plot(range(len(valid_acc)), valid_acc, label=\"valid accuracy\")\n",
    "    plt.hlines(y=acc_loadback, xmin=0, xmax=len(train_loss), colors='r', linestyles='--')\n",
    "    plt.legend()\n",
    "    plt.title(\"Accuracy\")\n",
    "    plt.show()"
   ]
  },
  {
   "cell_type": "code",
   "execution_count": 0,
   "metadata": {
    "colab": {},
    "colab_type": "code",
    "id": "5gegharllWIP"
   },
   "outputs": [],
   "source": []
  }
 ],
 "metadata": {
  "accelerator": "GPU",
  "colab": {
   "name": "Day_86_HW.ipynb",
   "provenance": [],
   "version": "0.3.2"
  },
  "kernelspec": {
   "display_name": "Python 3",
   "language": "python",
   "name": "python3"
  },
  "language_info": {
   "codemirror_mode": {
    "name": "ipython",
    "version": 3
   },
   "file_extension": ".py",
   "mimetype": "text/x-python",
   "name": "python",
   "nbconvert_exporter": "python",
   "pygments_lexer": "ipython3",
   "version": "3.6.8"
  }
 },
 "nbformat": 4,
 "nbformat_minor": 1
}
