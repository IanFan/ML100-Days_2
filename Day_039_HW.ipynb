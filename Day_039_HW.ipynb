{
 "cells": [
  {
   "cell_type": "markdown",
   "metadata": {},
   "source": [
    "## [作業重點]\n",
    "清楚了解 L1, L2 的意義與差異為何，並了解 LASSO 與 Ridge 之間的差異與使用情境"
   ]
  },
  {
   "cell_type": "markdown",
   "metadata": {},
   "source": [
    "## 作業"
   ]
  },
  {
   "cell_type": "markdown",
   "metadata": {},
   "source": [
    "請閱讀相關文獻，並回答下列問題\n",
    "\n",
    "[脊回歸 (Ridge Regression)](https://blog.csdn.net/daunxx/article/details/51578787)\n",
    "[Linear, Ridge, Lasso Regression 本質區別](https://www.zhihu.com/question/38121173)\n",
    "\n",
    "1. LASSO 回歸可以被用來作為 Feature selection 的工具，請了解 LASSO 模型為什麼可用來作 Feature selection\n",
    "LASSO使用L1正規化作為penalty，從而使一些線性迴歸項逼成零\n",
    "也就是說Lasso能夠挑出一些優質特徵，同時讓其他特徵的系數趨於0\n",
    "2. 當自變數 (X) 存在高度共線性時，Ridge Regression 可以處理這樣的問題嗎?\n",
    "可以，以脊迴歸（ridge regression）從數理上來嘗試處理共線性的問題\n",
    "如果數據集存在多重線性關係，均方誤差的算法就會對outlier非常敏感，所以當w係數相當大時，只要X一有一點點的小變動，所造成的結果就會因為w係數大，而結果差異大，造成模型不穩定的情況，因此脊回歸就是要修正這個問題\n",
    "脊回歸的算法是透過給予估計的係數w懲罰，當w係數大的時候，脊回歸的係數就會把他扣回來。當帶入懲罰值後，會去看帶入的結果會不會比原本用均方誤差的算法得到更小的誤差值"
   ]
  },
  {
   "cell_type": "code",
   "execution_count": null,
   "metadata": {},
   "outputs": [],
   "source": []
  }
 ],
 "metadata": {
  "kernelspec": {
   "display_name": "Python 3",
   "language": "python",
   "name": "python3"
  },
  "language_info": {
   "codemirror_mode": {
    "name": "ipython",
    "version": 3
   },
   "file_extension": ".py",
   "mimetype": "text/x-python",
   "name": "python",
   "nbconvert_exporter": "python",
   "pygments_lexer": "ipython3",
   "version": "3.6.7"
  }
 },
 "nbformat": 4,
 "nbformat_minor": 2
}
